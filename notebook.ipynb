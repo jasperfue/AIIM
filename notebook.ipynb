{
  "metadata": {
    "kernelspec": {
      "display_name": "Python 3",
      "name": "python3"
    },
    "language_info": {
      "name": "python",
      "version": "3.10.13",
      "mimetype": "text/x-python",
      "codemirror_mode": {
        "name": "ipython",
        "version": 3
      },
      "pygments_lexer": "ipython3",
      "nbconvert_exporter": "python",
      "file_extension": ".py"
    },
    "kaggle": {
      "accelerator": "none",
      "dataSources": [
        {
          "sourceId": 77823,
          "databundleVersionId": 8553100,
          "sourceType": "competition"
        }
      ],
      "dockerImageVersionId": 30698,
      "isInternetEnabled": false,
      "language": "python",
      "sourceType": "notebook",
      "isGpuEnabled": false
    },
    "colab": {
      "provenance": [],
      "gpuType": "L4"
    },
    "accelerator": "GPU"
  },
  "nbformat_minor": 0,
  "nbformat": 4,
  "cells": [
    {
      "cell_type": "markdown",
      "source": [
        "# (Optional) Load Data from Kaggle into Google Colab"
      ],
      "metadata": {
        "id": "LEVUbhDn3mi9"
      }
    },
    {
      "cell_type": "code",
      "source": [
        "\n",
        "# IMPORTANT: RUN THIS CELL IN ORDER TO IMPORT YOUR KAGGLE DATA SOURCES\n",
        "# TO THE CORRECT LOCATION (/kaggle/input) IN YOUR NOTEBOOK,\n",
        "# THEN FEEL FREE TO DELETE THIS CELL.\n",
        "# NOTE: THIS NOTEBOOK ENVIRONMENT DIFFERS FROM KAGGLE'S PYTHON\n",
        "# ENVIRONMENT SO THERE MAY BE MISSING LIBRARIES USED BY YOUR\n",
        "# NOTEBOOK.\n",
        "\n",
        "import os\n",
        "import sys\n",
        "from tempfile import NamedTemporaryFile\n",
        "from urllib.request import urlopen\n",
        "from urllib.parse import unquote, urlparse\n",
        "from urllib.error import HTTPError\n",
        "from zipfile import ZipFile\n",
        "import tarfile\n",
        "import shutil\n",
        "\n",
        "CHUNK_SIZE = 40960\n",
        "DATA_SOURCE_MAPPING = 'aiim-emotion-classification:https%3A%2F%2Fstorage.googleapis.com%2Fkaggle-competitions-data%2Fkaggle-v2%2F77823%2F8553100%2Fbundle%2Farchive.zip%3FX-Goog-Algorithm%3DGOOG4-RSA-SHA256%26X-Goog-Credential%3Dgcp-kaggle-com%2540kaggle-161607.iam.gserviceaccount.com%252F20240703%252Fauto%252Fstorage%252Fgoog4_request%26X-Goog-Date%3D20240703T090247Z%26X-Goog-Expires%3D259200%26X-Goog-SignedHeaders%3Dhost%26X-Goog-Signature%3Dc04465bd270ce3e228ee471434371bbe80f78ee95e4d36bc797b023cc9bd54dde4b4ed5cf70b099d594725687f5161c9ba30ac9d9e5f005006104d4fa5881496161efb4697ea71317dd09a4b080c9be1733f01e0ef939b3d8264ec01c3f10ea8999ad55f9e473f30ab29604f89bc687359af4c7a9afed58f827bc31344080727ced469d996f236ac2de34e7cae4b67aed0c71db1935e4af7aeb94f1354fa61fbb9c3ca3816e641ab865a5cb779734a5cc1ab5db66c4c8562f04d34106e418f32dfa87936318e7c70074b54015986197a396ca1bf68baa6574e31cc2e231e2a3db4d1db4f2012aca4cd86d7360c8f870f1b70b3dc6ee0b6c219cbfe8fc48bb81f'\n",
        "\n",
        "KAGGLE_INPUT_PATH='/kaggle/input'\n",
        "KAGGLE_WORKING_PATH='/kaggle/working'\n",
        "KAGGLE_SYMLINK='kaggle'\n",
        "\n",
        "!umount /kaggle/input/ 2> /dev/null\n",
        "shutil.rmtree('/kaggle/input', ignore_errors=True)\n",
        "os.makedirs(KAGGLE_INPUT_PATH, 0o777, exist_ok=True)\n",
        "os.makedirs(KAGGLE_WORKING_PATH, 0o777, exist_ok=True)\n",
        "\n",
        "try:\n",
        "  os.symlink(KAGGLE_INPUT_PATH, os.path.join(\"..\", 'input'), target_is_directory=True)\n",
        "except FileExistsError:\n",
        "  pass\n",
        "try:\n",
        "  os.symlink(KAGGLE_WORKING_PATH, os.path.join(\"..\", 'working'), target_is_directory=True)\n",
        "except FileExistsError:\n",
        "  pass\n",
        "\n",
        "for data_source_mapping in DATA_SOURCE_MAPPING.split(','):\n",
        "    directory, download_url_encoded = data_source_mapping.split(':')\n",
        "    download_url = unquote(download_url_encoded)\n",
        "    filename = urlparse(download_url).path\n",
        "    destination_path = os.path.join(KAGGLE_INPUT_PATH, directory)\n",
        "    try:\n",
        "        with urlopen(download_url) as fileres, NamedTemporaryFile() as tfile:\n",
        "            total_length = fileres.headers['content-length']\n",
        "            print(f'Downloading {directory}, {total_length} bytes compressed')\n",
        "            dl = 0\n",
        "            data = fileres.read(CHUNK_SIZE)\n",
        "            while len(data) > 0:\n",
        "                dl += len(data)\n",
        "                tfile.write(data)\n",
        "                done = int(50 * dl / int(total_length))\n",
        "                sys.stdout.write(f\"\\r[{'=' * done}{' ' * (50-done)}] {dl} bytes downloaded\")\n",
        "                sys.stdout.flush()\n",
        "                data = fileres.read(CHUNK_SIZE)\n",
        "            if filename.endswith('.zip'):\n",
        "              with ZipFile(tfile) as zfile:\n",
        "                zfile.extractall(destination_path)\n",
        "            else:\n",
        "              with tarfile.open(tfile.name) as tarfile:\n",
        "                tarfile.extractall(destination_path)\n",
        "            print(f'\\nDownloaded and uncompressed: {directory}')\n",
        "    except HTTPError as e:\n",
        "        print(f'Failed to load (likely expired) {download_url} to path {destination_path}')\n",
        "        continue\n",
        "    except OSError as e:\n",
        "        print(f'Failed to load {download_url} to path {destination_path}')\n",
        "        continue\n",
        "\n",
        "print('Data source import complete.')\n"
      ],
      "metadata": {
        "colab": {
          "base_uri": "https://localhost:8080/"
        },
        "id": "szgufmtcC4Xy",
        "outputId": "29d6dbf6-44fe-482d-b205-e143880ba2de"
      },
      "execution_count": 7,
      "outputs": [
        {
          "output_type": "stream",
          "name": "stdout",
          "text": [
            "Downloading aiim-emotion-classification, 18175099 bytes compressed\n",
            "[==================================================] 18175099 bytes downloaded\n",
            "Downloaded and uncompressed: aiim-emotion-classification\n",
            "Data source import complete.\n"
          ]
        }
      ]
    },
    {
      "cell_type": "markdown",
      "source": [
        "### Imports"
      ],
      "metadata": {
        "id": "y95gYaSb4v2U"
      }
    },
    {
      "cell_type": "code",
      "outputs": [
        {
          "output_type": "stream",
          "name": "stdout",
          "text": [
            "Num GPUs Available:  1\n"
          ]
        }
      ],
      "source": [
        "import matplotlib.pyplot as plt\n",
        "import pandas as pd\n",
        "import numpy as np\n",
        "import tensorflow as tf\n",
        "import seaborn as sns\n",
        "import os\n",
        "from keras.utils import image_dataset_from_directory, load_img, img_to_array\n",
        "from keras.models import Sequential\n",
        "from keras.layers import Conv2D, MaxPooling2D, AveragePooling2D,  Flatten, Dense, Dropout, BatchNormalization, RandomFlip, RandomRotation, RandomZoom, RandomContrast, RandomBrightness, Rescaling, RandomTranslation, GlobalMaxPooling2D\n",
        "from keras.optimizers import Adam, SGD\n",
        "from keras.optimizers.schedules import ExponentialDecay\n",
        "from keras.callbacks import EarlyStopping, ReduceLROnPlateau, ModelCheckpoint\n",
        "from keras.losses import CategoricalCrossentropy\n",
        "from sklearn.metrics import f1_score, confusion_matrix, classification_report\n",
        "\n",
        "print(\"Num GPUs Available: \", len(tf.config.experimental.list_physical_devices('GPU')))\n"
      ],
      "metadata": {
        "is_executing": true,
        "colab": {
          "base_uri": "https://localhost:8080/"
        },
        "id": "kmmAbR6hBp9t",
        "outputId": "e6e8361d-35cc-4f6f-f2a2-d130be7a27ba"
      },
      "execution_count": 8
    },
    {
      "cell_type": "markdown",
      "source": [],
      "metadata": {
        "id": "koGj-RxLGX1O"
      }
    },
    {
      "cell_type": "markdown",
      "source": [
        "# Fine-tuning Models"
      ],
      "metadata": {
        "id": "myBsLGJGGVPG"
      }
    },
    {
      "cell_type": "code",
      "source": [
        "!pip install keras_cv"
      ],
      "metadata": {
        "id": "2JG1PSxD1jOR"
      },
      "execution_count": null,
      "outputs": []
    },
    {
      "cell_type": "code",
      "source": [
        "import keras_cv\n",
        "from keras.layers import GlobalAveragePooling2D\n",
        "from keras_cv.layers import RandAugment, RandomCutout, RandomChoice\n",
        "from keras.applications import ResNet50, ResNet50V2, Xception, EfficientNetB0, EfficientNetB4, ConvNeXtXLarge, ConvNeXtLarge\n",
        "from sklearn.utils import class_weight\n",
        "\n",
        "base_directory = '/kaggle/input/aiim-emotion-classification/aiim-emotion-classification/'\n",
        "batch_size = 64\n",
        "epochs = 70\n",
        "\n",
        "# Documentation: https://keras.io/api/data_loading/image/\n",
        "train_ds, validation_ds = image_dataset_from_directory(\n",
        "    directory=base_directory + 'train/',\n",
        "    labels='inferred',\n",
        "    label_mode='categorical',\n",
        "    color_mode='grayscale',\n",
        "    batch_size=batch_size,\n",
        "    shuffle=True,\n",
        "    seed=420,\n",
        "    subset=\"both\",\n",
        "    validation_split=0.15,\n",
        "    image_size=(100, 100),\n",
        "    interpolation='bilinear')\n",
        "\n",
        "\n",
        "class_names = train_ds.class_names\n",
        "\n",
        "train_labels = np.concatenate([y.numpy() for x, y in train_ds], axis=0)\n",
        "train_labels = np.argmax(train_labels, axis=1)\n",
        "class_weights = class_weight.compute_class_weight(\n",
        "    class_weight='balanced',\n",
        "    classes=np.unique(train_labels),\n",
        "    y=train_labels\n",
        ")\n",
        "class_weights = dict(enumerate(class_weights))\n",
        "print(class_weights)\n",
        "\n",
        "mix_up = keras_cv.layers.MixUp()\n",
        "\n",
        "cut_mix = keras_cv.layers.CutMix()\n",
        "\n",
        "layers = keras_cv.layers.RandAugment.get_standard_policy(\n",
        "    value_range=(0, 255), magnitude=0.4, magnitude_stddev=0.2,\n",
        ")\n",
        "\n",
        "layers = [\n",
        "    layer for layer in layers if not isinstance(layer, keras_cv.layers.RandomColorDegeneration)\n",
        "]\n",
        "\n",
        "augmenters = [\n",
        "    RandomFlip(\"horizontal\"),\n",
        "    keras_cv.layers.RandomAugmentationPipeline(\n",
        "    layers=layers, augmentations_per_image=3\n",
        "),\n",
        "    RandomCutout(width_factor=0.2, height_factor=0.2),\n",
        "    RandomChoice([cut_mix, mix_up], batchwise=True),\n",
        "]\n",
        "\n",
        "# Since the images are grayscale, we need to convert them to RGB by repeating the grayscale channel\n",
        "def to_rgb(image, label):\n",
        "    image = tf.image.grayscale_to_rgb(image)\n",
        "    return image, label\n",
        "\n",
        "train_ds_rgb = train_ds.map(to_rgb)\n",
        "validation_ds_rgb = validation_ds.map(to_rgb)\n",
        "\n",
        "def create_augmenter_fn(augmenters):\n",
        "    def augmenter_fn(image, label):\n",
        "        inputs = {\"images\": image, \"labels\": label}\n",
        "        for augmenter in augmenters:\n",
        "            if isinstance(augmenter, (RandomFlip, RandomRotation)):\n",
        "                inputs[\"images\"] = augmenter(inputs[\"images\"])\n",
        "            else:\n",
        "                inputs = augmenter(inputs)\n",
        "        return inputs[\"images\"], inputs[\"labels\"]\n",
        "    return augmenter_fn\n",
        "\n",
        "augmenter_fn = create_augmenter_fn(augmenters)\n",
        "train_ds_preprocessed = train_ds_rgb.map(augmenter_fn)\n",
        "validation_ds_preprocessed = validation_ds_rgb"
      ],
      "metadata": {
        "colab": {
          "base_uri": "https://localhost:8080/"
        },
        "id": "Sgc60jApGYcE",
        "outputId": "dd08d019-1eb1-4419-9efa-2973b14bcc74"
      },
      "execution_count": 9,
      "outputs": [
        {
          "output_type": "stream",
          "name": "stdout",
          "text": [
            "Requirement already satisfied: keras_cv in /usr/local/lib/python3.10/dist-packages (0.9.0)\n",
            "Requirement already satisfied: packaging in /usr/local/lib/python3.10/dist-packages (from keras_cv) (24.1)\n",
            "Requirement already satisfied: absl-py in /usr/local/lib/python3.10/dist-packages (from keras_cv) (1.4.0)\n",
            "Requirement already satisfied: regex in /usr/local/lib/python3.10/dist-packages (from keras_cv) (2024.5.15)\n",
            "Requirement already satisfied: tensorflow-datasets in /usr/local/lib/python3.10/dist-packages (from keras_cv) (4.9.6)\n",
            "Requirement already satisfied: keras-core in /usr/local/lib/python3.10/dist-packages (from keras_cv) (0.1.7)\n",
            "Requirement already satisfied: kagglehub in /usr/local/lib/python3.10/dist-packages (from keras_cv) (0.2.5)\n",
            "Requirement already satisfied: requests in /usr/local/lib/python3.10/dist-packages (from kagglehub->keras_cv) (2.31.0)\n",
            "Requirement already satisfied: tqdm in /usr/local/lib/python3.10/dist-packages (from kagglehub->keras_cv) (4.66.4)\n",
            "Requirement already satisfied: numpy in /usr/local/lib/python3.10/dist-packages (from keras-core->keras_cv) (1.25.2)\n",
            "Requirement already satisfied: rich in /usr/local/lib/python3.10/dist-packages (from keras-core->keras_cv) (13.7.1)\n",
            "Requirement already satisfied: namex in /usr/local/lib/python3.10/dist-packages (from keras-core->keras_cv) (0.0.8)\n",
            "Requirement already satisfied: h5py in /usr/local/lib/python3.10/dist-packages (from keras-core->keras_cv) (3.9.0)\n",
            "Requirement already satisfied: dm-tree in /usr/local/lib/python3.10/dist-packages (from keras-core->keras_cv) (0.1.8)\n",
            "Requirement already satisfied: click in /usr/local/lib/python3.10/dist-packages (from tensorflow-datasets->keras_cv) (8.1.7)\n",
            "Requirement already satisfied: immutabledict in /usr/local/lib/python3.10/dist-packages (from tensorflow-datasets->keras_cv) (4.2.0)\n",
            "Requirement already satisfied: promise in /usr/local/lib/python3.10/dist-packages (from tensorflow-datasets->keras_cv) (2.3)\n",
            "Requirement already satisfied: protobuf>=3.20 in /usr/local/lib/python3.10/dist-packages (from tensorflow-datasets->keras_cv) (3.20.3)\n",
            "Requirement already satisfied: psutil in /usr/local/lib/python3.10/dist-packages (from tensorflow-datasets->keras_cv) (5.9.5)\n",
            "Requirement already satisfied: pyarrow in /usr/local/lib/python3.10/dist-packages (from tensorflow-datasets->keras_cv) (14.0.2)\n",
            "Requirement already satisfied: simple-parsing in /usr/local/lib/python3.10/dist-packages (from tensorflow-datasets->keras_cv) (0.1.5)\n",
            "Requirement already satisfied: tensorflow-metadata in /usr/local/lib/python3.10/dist-packages (from tensorflow-datasets->keras_cv) (1.15.0)\n",
            "Requirement already satisfied: termcolor in /usr/local/lib/python3.10/dist-packages (from tensorflow-datasets->keras_cv) (2.4.0)\n",
            "Requirement already satisfied: toml in /usr/local/lib/python3.10/dist-packages (from tensorflow-datasets->keras_cv) (0.10.2)\n",
            "Requirement already satisfied: wrapt in /usr/local/lib/python3.10/dist-packages (from tensorflow-datasets->keras_cv) (1.14.1)\n",
            "Requirement already satisfied: array-record>=0.5.0 in /usr/local/lib/python3.10/dist-packages (from tensorflow-datasets->keras_cv) (0.5.1)\n",
            "Requirement already satisfied: etils[enp,epath,epy,etree]>=1.6.0 in /usr/local/lib/python3.10/dist-packages (from tensorflow-datasets->keras_cv) (1.7.0)\n",
            "Requirement already satisfied: typing_extensions in /usr/local/lib/python3.10/dist-packages (from etils[enp,epath,epy,etree]>=1.6.0->tensorflow-datasets->keras_cv) (4.12.2)\n",
            "Requirement already satisfied: fsspec in /usr/local/lib/python3.10/dist-packages (from etils[enp,epath,epy,etree]>=1.6.0->tensorflow-datasets->keras_cv) (2023.6.0)\n",
            "Requirement already satisfied: importlib_resources in /usr/local/lib/python3.10/dist-packages (from etils[enp,epath,epy,etree]>=1.6.0->tensorflow-datasets->keras_cv) (6.4.0)\n",
            "Requirement already satisfied: zipp in /usr/local/lib/python3.10/dist-packages (from etils[enp,epath,epy,etree]>=1.6.0->tensorflow-datasets->keras_cv) (3.19.2)\n",
            "Requirement already satisfied: charset-normalizer<4,>=2 in /usr/local/lib/python3.10/dist-packages (from requests->kagglehub->keras_cv) (3.3.2)\n",
            "Requirement already satisfied: idna<4,>=2.5 in /usr/local/lib/python3.10/dist-packages (from requests->kagglehub->keras_cv) (3.7)\n",
            "Requirement already satisfied: urllib3<3,>=1.21.1 in /usr/local/lib/python3.10/dist-packages (from requests->kagglehub->keras_cv) (2.0.7)\n",
            "Requirement already satisfied: certifi>=2017.4.17 in /usr/local/lib/python3.10/dist-packages (from requests->kagglehub->keras_cv) (2024.6.2)\n",
            "Requirement already satisfied: six in /usr/local/lib/python3.10/dist-packages (from promise->tensorflow-datasets->keras_cv) (1.16.0)\n",
            "Requirement already satisfied: markdown-it-py>=2.2.0 in /usr/local/lib/python3.10/dist-packages (from rich->keras-core->keras_cv) (3.0.0)\n",
            "Requirement already satisfied: pygments<3.0.0,>=2.13.0 in /usr/local/lib/python3.10/dist-packages (from rich->keras-core->keras_cv) (2.16.1)\n",
            "Requirement already satisfied: docstring-parser~=0.15 in /usr/local/lib/python3.10/dist-packages (from simple-parsing->tensorflow-datasets->keras_cv) (0.16)\n",
            "Requirement already satisfied: mdurl~=0.1 in /usr/local/lib/python3.10/dist-packages (from markdown-it-py>=2.2.0->rich->keras-core->keras_cv) (0.1.2)\n",
            "Found 9108 files belonging to 5 classes.\n",
            "Using 7742 files for training.\n",
            "Using 1366 files for validation.\n",
            "{0: 0.8991869918699187, 1: 1.6419936373276776, 2: 0.9081524926686217, 3: 0.9211183819155264, 4: 0.9156712004730928}\n"
          ]
        }
      ]
    },
    {
      "cell_type": "code",
      "source": [
        "# Create the ResNet model\n",
        "base_model = ConvNeXtLarge(weights='imagenet', include_top=False, input_shape=(100, 100, 3))\n",
        "\n",
        "model = Sequential([\n",
        "    base_model,\n",
        "    GlobalAveragePooling2D(),\n",
        "    Dropout(0.5),\n",
        "    Dense(5, activation='softmax')\n",
        "])\n",
        "model.summary()"
      ],
      "metadata": {
        "colab": {
          "base_uri": "https://localhost:8080/"
        },
        "id": "07qHrjdWSors",
        "outputId": "cd974bb8-af9f-47ee-8287-a0fc01d21eaa"
      },
      "execution_count": 10,
      "outputs": [
        {
          "output_type": "stream",
          "name": "stdout",
          "text": [
            "Downloading data from https://storage.googleapis.com/tensorflow/keras-applications/convnext/convnext_large_notop.h5\n",
            "785596384/785596384 [==============================] - 8s 0us/step\n",
            "Model: \"sequential\"\n",
            "_________________________________________________________________\n",
            " Layer (type)                Output Shape              Param #   \n",
            "=================================================================\n",
            " convnext_large (Functional  (None, 3, 3, 1536)        196230336 \n",
            " )                                                               \n",
            "                                                                 \n",
            " global_average_pooling2d (  (None, 1536)              0         \n",
            " GlobalAveragePooling2D)                                         \n",
            "                                                                 \n",
            " dropout (Dropout)           (None, 1536)              0         \n",
            "                                                                 \n",
            " dense (Dense)               (None, 5)                 7685      \n",
            "                                                                 \n",
            "=================================================================\n",
            "Total params: 196238021 (748.59 MB)\n",
            "Trainable params: 196238021 (748.59 MB)\n",
            "Non-trainable params: 0 (0.00 Byte)\n",
            "_________________________________________________________________\n"
          ]
        }
      ]
    },
    {
      "cell_type": "code",
      "source": [
        "base_model.trainable = False\n",
        "\n",
        "model.compile(optimizer=Adam(0.001), loss='categorical_crossentropy', metrics=['accuracy'])\n",
        "\n",
        "early_stopping = EarlyStopping(monitor='val_accuracy', patience=8, restore_best_weights=True)\n",
        "reduce_lr = ReduceLROnPlateau(monitor='val_accuracy', factor=0.2, patience=4, min_lr=0.00001)\n",
        "\n",
        "history = model.fit(\n",
        "    train_ds_preprocessed,\n",
        "    validation_data=validation_ds_preprocessed,\n",
        "    epochs=epochs,\n",
        "    batch_size=batch_size,\n",
        "    class_weight=class_weights,\n",
        "    callbacks=[early_stopping, reduce_lr]\n",
        ")\n"
      ],
      "metadata": {
        "colab": {
          "base_uri": "https://localhost:8080/"
        },
        "id": "qVHPk2i-pRk_",
        "outputId": "5ae84d4a-703c-431c-9746-eb5e25ec7f32"
      },
      "execution_count": 11,
      "outputs": [
        {
          "output_type": "stream",
          "name": "stdout",
          "text": [
            "Epoch 1/70\n",
            "121/121 [==============================] - 75s 435ms/step - loss: 1.7219 - accuracy: 0.3435 - val_loss: 0.9542 - val_accuracy: 0.6340 - lr: 0.0010\n",
            "Epoch 2/70\n",
            "121/121 [==============================] - 41s 336ms/step - loss: 1.5144 - accuracy: 0.4171 - val_loss: 0.9004 - val_accuracy: 0.6633 - lr: 0.0010\n",
            "Epoch 3/70\n",
            "121/121 [==============================] - 41s 337ms/step - loss: 1.4656 - accuracy: 0.4318 - val_loss: 0.8742 - val_accuracy: 0.6779 - lr: 0.0010\n",
            "Epoch 4/70\n",
            "121/121 [==============================] - 41s 335ms/step - loss: 1.4346 - accuracy: 0.4367 - val_loss: 0.8777 - val_accuracy: 0.6750 - lr: 0.0010\n",
            "Epoch 5/70\n",
            "121/121 [==============================] - 41s 337ms/step - loss: 1.3786 - accuracy: 0.4707 - val_loss: 0.8534 - val_accuracy: 0.6859 - lr: 0.0010\n",
            "Epoch 6/70\n",
            "121/121 [==============================] - 42s 344ms/step - loss: 1.3732 - accuracy: 0.4700 - val_loss: 0.8611 - val_accuracy: 0.6859 - lr: 0.0010\n",
            "Epoch 7/70\n",
            "121/121 [==============================] - 41s 340ms/step - loss: 1.3839 - accuracy: 0.4548 - val_loss: 0.8395 - val_accuracy: 0.6969 - lr: 0.0010\n",
            "Epoch 8/70\n",
            "121/121 [==============================] - 42s 345ms/step - loss: 1.3885 - accuracy: 0.4563 - val_loss: 0.8507 - val_accuracy: 0.7020 - lr: 0.0010\n",
            "Epoch 9/70\n",
            "121/121 [==============================] - 41s 334ms/step - loss: 1.3395 - accuracy: 0.4751 - val_loss: 0.8460 - val_accuracy: 0.6947 - lr: 0.0010\n",
            "Epoch 10/70\n",
            "121/121 [==============================] - 42s 343ms/step - loss: 1.3489 - accuracy: 0.4823 - val_loss: 0.8367 - val_accuracy: 0.7028 - lr: 0.0010\n",
            "Epoch 11/70\n",
            "121/121 [==============================] - 41s 335ms/step - loss: 1.3577 - accuracy: 0.4680 - val_loss: 0.8576 - val_accuracy: 0.6823 - lr: 0.0010\n",
            "Epoch 12/70\n",
            "121/121 [==============================] - 41s 334ms/step - loss: 1.3531 - accuracy: 0.4817 - val_loss: 0.8567 - val_accuracy: 0.6757 - lr: 0.0010\n",
            "Epoch 13/70\n",
            "121/121 [==============================] - 42s 344ms/step - loss: 1.3649 - accuracy: 0.4786 - val_loss: 0.8390 - val_accuracy: 0.7057 - lr: 0.0010\n",
            "Epoch 14/70\n",
            "121/121 [==============================] - 41s 342ms/step - loss: 1.3481 - accuracy: 0.4709 - val_loss: 0.8405 - val_accuracy: 0.6881 - lr: 0.0010\n",
            "Epoch 15/70\n",
            "121/121 [==============================] - 41s 335ms/step - loss: 1.3562 - accuracy: 0.4774 - val_loss: 0.8456 - val_accuracy: 0.6999 - lr: 0.0010\n",
            "Epoch 16/70\n",
            "121/121 [==============================] - 41s 336ms/step - loss: 1.3835 - accuracy: 0.4607 - val_loss: 0.8662 - val_accuracy: 0.6764 - lr: 0.0010\n",
            "Epoch 17/70\n",
            "121/121 [==============================] - 41s 336ms/step - loss: 1.3716 - accuracy: 0.4579 - val_loss: 0.8601 - val_accuracy: 0.6772 - lr: 0.0010\n",
            "Epoch 18/70\n",
            "121/121 [==============================] - 41s 339ms/step - loss: 1.3422 - accuracy: 0.4795 - val_loss: 0.8346 - val_accuracy: 0.6955 - lr: 2.0000e-04\n",
            "Epoch 19/70\n",
            "121/121 [==============================] - 41s 340ms/step - loss: 1.3263 - accuracy: 0.4808 - val_loss: 0.8314 - val_accuracy: 0.6962 - lr: 2.0000e-04\n",
            "Epoch 20/70\n",
            "121/121 [==============================] - 41s 341ms/step - loss: 1.3539 - accuracy: 0.4653 - val_loss: 0.8347 - val_accuracy: 0.6991 - lr: 2.0000e-04\n",
            "Epoch 21/70\n",
            "121/121 [==============================] - 41s 339ms/step - loss: 1.3102 - accuracy: 0.4873 - val_loss: 0.8274 - val_accuracy: 0.6977 - lr: 2.0000e-04\n"
          ]
        }
      ]
    },
    {
      "cell_type": "code",
      "source": [
        "# Unfreeze the base model\n",
        "base_model.trainable = True\n",
        "for layer in base_model.layers:\n",
        "    if isinstance(layer, BatchNormalization):\n",
        "        layer.trainable = False\n",
        "\n",
        "model.compile(optimizer=Adam(1e-4),\n",
        "              loss='categorical_crossentropy', metrics=['accuracy'])\n",
        "\n",
        "early_stopping = EarlyStopping(monitor='val_accuracy', patience=9)\n",
        "reduce_lr = ReduceLROnPlateau(monitor='val_accuracy', factor=0.2, patience=4, min_lr=1e-7)\n",
        "\n",
        "history_finetune = model.fit(\n",
        "    train_ds_preprocessed,\n",
        "    validation_data=validation_ds_preprocessed,\n",
        "    epochs=epochs,\n",
        "    batch_size=batch_size,\n",
        "    class_weight=class_weights,\n",
        "    callbacks=[early_stopping, reduce_lr]\n",
        ")"
      ],
      "metadata": {
        "id": "thY5yzJ3qCid",
        "outputId": "155a2964-f020-4196-d859-3e49589e6d00",
        "colab": {
          "base_uri": "https://localhost:8080/"
        }
      },
      "execution_count": 12,
      "outputs": [
        {
          "output_type": "stream",
          "name": "stdout",
          "text": [
            "Epoch 1/70\n",
            "121/121 [==============================] - 162s 808ms/step - loss: 1.2901 - accuracy: 0.5076 - val_loss: 0.6880 - val_accuracy: 0.7438 - lr: 1.0000e-04\n",
            "Epoch 2/70\n",
            "121/121 [==============================] - 90s 747ms/step - loss: 1.2061 - accuracy: 0.5542 - val_loss: 0.6610 - val_accuracy: 0.7533 - lr: 1.0000e-04\n",
            "Epoch 3/70\n",
            "121/121 [==============================] - 91s 750ms/step - loss: 1.1052 - accuracy: 0.6086 - val_loss: 0.5461 - val_accuracy: 0.8001 - lr: 1.0000e-04\n",
            "Epoch 4/70\n",
            "121/121 [==============================] - 92s 759ms/step - loss: 1.1071 - accuracy: 0.6137 - val_loss: 0.5398 - val_accuracy: 0.8148 - lr: 1.0000e-04\n",
            "Epoch 5/70\n",
            "121/121 [==============================] - 91s 754ms/step - loss: 1.0185 - accuracy: 0.6633 - val_loss: 0.4853 - val_accuracy: 0.8331 - lr: 1.0000e-04\n",
            "Epoch 6/70\n",
            "121/121 [==============================] - 92s 760ms/step - loss: 0.9997 - accuracy: 0.6757 - val_loss: 0.4681 - val_accuracy: 0.8316 - lr: 1.0000e-04\n",
            "Epoch 7/70\n",
            "121/121 [==============================] - 92s 761ms/step - loss: 1.0033 - accuracy: 0.6702 - val_loss: 0.4402 - val_accuracy: 0.8485 - lr: 1.0000e-04\n",
            "Epoch 8/70\n",
            "121/121 [==============================] - 92s 759ms/step - loss: 0.9872 - accuracy: 0.6789 - val_loss: 0.4744 - val_accuracy: 0.8360 - lr: 1.0000e-04\n",
            "Epoch 9/70\n",
            "121/121 [==============================] - 91s 753ms/step - loss: 0.9666 - accuracy: 0.6866 - val_loss: 0.4419 - val_accuracy: 0.8485 - lr: 1.0000e-04\n",
            "Epoch 10/70\n",
            "121/121 [==============================] - 92s 762ms/step - loss: 0.9825 - accuracy: 0.6873 - val_loss: 0.4390 - val_accuracy: 0.8492 - lr: 1.0000e-04\n",
            "Epoch 11/70\n",
            "121/121 [==============================] - 92s 756ms/step - loss: 0.8927 - accuracy: 0.7249 - val_loss: 0.4485 - val_accuracy: 0.8389 - lr: 1.0000e-04\n",
            "Epoch 12/70\n",
            "121/121 [==============================] - 91s 753ms/step - loss: 0.8914 - accuracy: 0.7142 - val_loss: 0.4476 - val_accuracy: 0.8463 - lr: 1.0000e-04\n",
            "Epoch 13/70\n",
            "121/121 [==============================] - 91s 753ms/step - loss: 0.8785 - accuracy: 0.7289 - val_loss: 0.4357 - val_accuracy: 0.8507 - lr: 1.0000e-04\n",
            "Epoch 14/70\n",
            "121/121 [==============================] - 92s 759ms/step - loss: 0.9127 - accuracy: 0.7187 - val_loss: 0.4367 - val_accuracy: 0.8624 - lr: 1.0000e-04\n",
            "Epoch 15/70\n",
            "121/121 [==============================] - 92s 760ms/step - loss: 0.8695 - accuracy: 0.7355 - val_loss: 0.5102 - val_accuracy: 0.8346 - lr: 1.0000e-04\n",
            "Epoch 16/70\n",
            "121/121 [==============================] - 91s 756ms/step - loss: 0.8829 - accuracy: 0.7304 - val_loss: 0.4515 - val_accuracy: 0.8507 - lr: 1.0000e-04\n",
            "Epoch 17/70\n",
            "121/121 [==============================] - 91s 753ms/step - loss: 0.8168 - accuracy: 0.7657 - val_loss: 0.4584 - val_accuracy: 0.8529 - lr: 1.0000e-04\n",
            "Epoch 18/70\n",
            "121/121 [==============================] - 92s 760ms/step - loss: 0.8519 - accuracy: 0.7462 - val_loss: 0.4254 - val_accuracy: 0.8631 - lr: 1.0000e-04\n",
            "Epoch 19/70\n",
            "121/121 [==============================] - 91s 753ms/step - loss: 0.8545 - accuracy: 0.7521 - val_loss: 0.4402 - val_accuracy: 0.8572 - lr: 1.0000e-04\n",
            "Epoch 20/70\n",
            "121/121 [==============================] - 91s 755ms/step - loss: 0.8601 - accuracy: 0.7452 - val_loss: 0.4655 - val_accuracy: 0.8426 - lr: 1.0000e-04\n",
            "Epoch 21/70\n",
            "121/121 [==============================] - 92s 759ms/step - loss: 0.8208 - accuracy: 0.7630 - val_loss: 0.4464 - val_accuracy: 0.8558 - lr: 1.0000e-04\n",
            "Epoch 22/70\n",
            "121/121 [==============================] - 91s 753ms/step - loss: 0.8111 - accuracy: 0.7681 - val_loss: 0.4902 - val_accuracy: 0.8404 - lr: 1.0000e-04\n",
            "Epoch 23/70\n",
            "121/121 [==============================] - 91s 754ms/step - loss: 0.7941 - accuracy: 0.7769 - val_loss: 0.4431 - val_accuracy: 0.8682 - lr: 2.0000e-05\n",
            "Epoch 24/70\n",
            "121/121 [==============================] - 91s 755ms/step - loss: 0.7666 - accuracy: 0.7908 - val_loss: 0.4649 - val_accuracy: 0.8624 - lr: 2.0000e-05\n",
            "Epoch 25/70\n",
            "121/121 [==============================] - 92s 760ms/step - loss: 0.7359 - accuracy: 0.8011 - val_loss: 0.4465 - val_accuracy: 0.8675 - lr: 2.0000e-05\n",
            "Epoch 26/70\n",
            "121/121 [==============================] - 92s 756ms/step - loss: 0.7384 - accuracy: 0.7985 - val_loss: 0.4518 - val_accuracy: 0.8675 - lr: 2.0000e-05\n",
            "Epoch 27/70\n",
            "121/121 [==============================] - 92s 757ms/step - loss: 0.7437 - accuracy: 0.8004 - val_loss: 0.4380 - val_accuracy: 0.8734 - lr: 2.0000e-05\n",
            "Epoch 28/70\n",
            "121/121 [==============================] - 91s 755ms/step - loss: 0.7149 - accuracy: 0.8051 - val_loss: 0.4360 - val_accuracy: 0.8726 - lr: 2.0000e-05\n",
            "Epoch 29/70\n",
            "121/121 [==============================] - 92s 761ms/step - loss: 0.7461 - accuracy: 0.8050 - val_loss: 0.4583 - val_accuracy: 0.8653 - lr: 2.0000e-05\n",
            "Epoch 30/70\n",
            "121/121 [==============================] - 92s 759ms/step - loss: 0.7827 - accuracy: 0.7875 - val_loss: 0.4520 - val_accuracy: 0.8653 - lr: 2.0000e-05\n",
            "Epoch 31/70\n",
            "121/121 [==============================] - 92s 762ms/step - loss: 0.7341 - accuracy: 0.8019 - val_loss: 0.4585 - val_accuracy: 0.8682 - lr: 2.0000e-05\n",
            "Epoch 32/70\n",
            "121/121 [==============================] - 92s 756ms/step - loss: 0.7255 - accuracy: 0.8088 - val_loss: 0.4474 - val_accuracy: 0.8697 - lr: 4.0000e-06\n",
            "Epoch 33/70\n",
            "121/121 [==============================] - 92s 762ms/step - loss: 0.7359 - accuracy: 0.8073 - val_loss: 0.4500 - val_accuracy: 0.8726 - lr: 4.0000e-06\n",
            "Epoch 34/70\n",
            "121/121 [==============================] - 92s 756ms/step - loss: 0.7362 - accuracy: 0.8021 - val_loss: 0.4500 - val_accuracy: 0.8741 - lr: 4.0000e-06\n",
            "Epoch 35/70\n",
            "121/121 [==============================] - 91s 754ms/step - loss: 0.7163 - accuracy: 0.8143 - val_loss: 0.4555 - val_accuracy: 0.8697 - lr: 4.0000e-06\n",
            "Epoch 36/70\n",
            "121/121 [==============================] - 92s 760ms/step - loss: 0.6995 - accuracy: 0.8185 - val_loss: 0.4548 - val_accuracy: 0.8704 - lr: 4.0000e-06\n",
            "Epoch 37/70\n",
            "121/121 [==============================] - 91s 754ms/step - loss: 0.6922 - accuracy: 0.8190 - val_loss: 0.4542 - val_accuracy: 0.8675 - lr: 4.0000e-06\n",
            "Epoch 38/70\n",
            "121/121 [==============================] - 91s 755ms/step - loss: 0.6941 - accuracy: 0.8188 - val_loss: 0.4579 - val_accuracy: 0.8682 - lr: 4.0000e-06\n",
            "Epoch 39/70\n",
            "121/121 [==============================] - 92s 760ms/step - loss: 0.6857 - accuracy: 0.8216 - val_loss: 0.4609 - val_accuracy: 0.8682 - lr: 8.0000e-07\n",
            "Epoch 40/70\n",
            "121/121 [==============================] - 92s 759ms/step - loss: 0.7226 - accuracy: 0.8121 - val_loss: 0.4596 - val_accuracy: 0.8682 - lr: 8.0000e-07\n",
            "Epoch 41/70\n",
            "121/121 [==============================] - 91s 752ms/step - loss: 0.6868 - accuracy: 0.8203 - val_loss: 0.4588 - val_accuracy: 0.8668 - lr: 8.0000e-07\n",
            "Epoch 42/70\n",
            "121/121 [==============================] - 92s 761ms/step - loss: 0.7153 - accuracy: 0.8123 - val_loss: 0.4576 - val_accuracy: 0.8682 - lr: 8.0000e-07\n",
            "Epoch 43/70\n",
            "121/121 [==============================] - 92s 763ms/step - loss: 0.7546 - accuracy: 0.7982 - val_loss: 0.4574 - val_accuracy: 0.8690 - lr: 1.6000e-07\n"
          ]
        }
      ]
    },
    {
      "cell_type": "code",
      "source": [
        "y_val_true = np.concatenate([y for x, y in validation_ds_preprocessed], axis=0)\n",
        "y_val_pred = model.predict(validation_ds_preprocessed)\n",
        "\n",
        "y_val_pred_classes = np.argmax(y_val_pred, axis=1)\n",
        "y_val_true_classes = np.argmax(y_val_true, axis=1)\n",
        "\n",
        "f1 = f1_score(y_val_true_classes, y_val_pred_classes, average='weighted')\n",
        "print(\"F1-Score: \", f1)"
      ],
      "metadata": {
        "colab": {
          "base_uri": "https://localhost:8080/"
        },
        "id": "Nhl6Hu1OPBcN",
        "outputId": "165e381d-3882-4808-fb29-66d19b531902"
      },
      "execution_count": 13,
      "outputs": [
        {
          "output_type": "stream",
          "name": "stdout",
          "text": [
            "22/22 [==============================] - 7s 164ms/step\n",
            "F1-Score:  0.8685606463859221\n"
          ]
        }
      ]
    },
    {
      "cell_type": "code",
      "source": [
        "# Confusion Matrix und Classification Report\n",
        "cm = confusion_matrix(y_val_true_classes, y_val_pred_classes)\n",
        "plt.figure(figsize=(10, 8))\n",
        "sns.heatmap(cm, annot=True, fmt='d', cmap='Blues', xticklabels=class_names, yticklabels=class_names)\n",
        "plt.xlabel('Predicted')\n",
        "plt.ylabel('True')\n",
        "plt.show()\n",
        "\n",
        "print(classification_report(y_val_true_classes, y_val_pred_classes, target_names=class_names))\n"
      ],
      "metadata": {
        "colab": {
          "base_uri": "https://localhost:8080/",
          "height": 904
        },
        "outputId": "aa92db68-8c78-4771-bb2e-39c11201f411",
        "id": "MfN5tHE7PGO4"
      },
      "execution_count": 14,
      "outputs": [
        {
          "output_type": "display_data",
          "data": {
            "text/plain": [
              "<Figure size 1000x800 with 2 Axes>"
            ],
            "image/png": "[encoded data removed]"
          },
          "metadata": {}
        },
        {
          "output_type": "stream",
          "name": "stdout",
          "text": [
            "              precision    recall  f1-score   support\n",
            "\n",
            "       angry       0.81      0.87      0.84       278\n",
            "        fear       0.85      0.75      0.80       165\n",
            "       happy       0.92      0.94      0.93       295\n",
            "         sad       0.90      0.86      0.88       319\n",
            "    surprise       0.86      0.88      0.87       309\n",
            "\n",
            "    accuracy                           0.87      1366\n",
            "   macro avg       0.87      0.86      0.86      1366\n",
            "weighted avg       0.87      0.87      0.87      1366\n",
            "\n"
          ]
        }
      ]
    },
    {
      "cell_type": "code",
      "source": [
        "# Plot the loss and accuracy curves for training and validation\n",
        "plt.plot(history_finetune.history['accuracy'], color='r', label=\"finetune training accuracy\")\n",
        "plt.plot(history_finetune.history['val_accuracy'], color='b', label=\"finetune validation accuracy\")\n",
        "plt.title(\"Accuracy\")\n",
        "plt.xlabel(\"Number of Epochs\")\n",
        "plt.ylabel(\"Value\")\n",
        "plt.legend()\n",
        "plt.show()"
      ],
      "metadata": {
        "colab": {
          "base_uri": "https://localhost:8080/",
          "height": 472
        },
        "id": "TTonmf8cPLrp",
        "outputId": "043f9f9b-02b0-4f89-b128-fb978d358624"
      },
      "execution_count": 15,
      "outputs": [
        {
          "output_type": "display_data",
          "data": {
            "text/plain": [
              "<Figure size 640x480 with 1 Axes>"
            ],
            "image/png": "[encoded data removed]"
          },
          "metadata": {}
        }
      ]
    },
    {
      "cell_type": "markdown",
      "source": [
        "# Create Submission"
      ],
      "metadata": {
        "id": "kUNovOG9Ozd-"
      }
    },
    {
      "cell_type": "code",
      "source": [
        "file_names = []\n",
        "images = []\n",
        "test_directory = base_directory + 'test/'\n",
        "\n",
        "for filename in os.listdir(test_directory):\n",
        "    if filename.endswith(\".jpg\"):\n",
        "        img_path = os.path.join(test_directory, filename)\n",
        "        img = load_img(img_path, target_size=(100, 100), color_mode='grayscale', interpolation='bilinear')\n",
        "\n",
        "        img = tf.convert_to_tensor(img, dtype=tf.float32)\n",
        "\n",
        "        img = tf.expand_dims(img, axis=-1)\n",
        "\n",
        "        img_array = tf.image.grayscale_to_rgb(img)\n",
        "\n",
        "        images.append(img_array)\n",
        "        file_names.append(filename)\n",
        "\n",
        "images_array = np.array(images)\n",
        "\n",
        "\n",
        "y_test = model.predict(images_array)\n",
        "y_pred_indices = np.argmax(y_test, axis=1)\n",
        "y_pred_labels = [class_names[idx] for idx in y_pred_indices]\n",
        "\n",
        "df = pd.DataFrame({\n",
        "    'Id': file_names,\n",
        "    'emotions': y_pred_labels\n",
        "})\n",
        "\n",
        "df.to_csv('./submission.csv', index=False)"
      ],
      "metadata": {
        "execution": {
          "iopub.status.busy": "2024-05-27T22:44:47.948934Z",
          "iopub.execute_input": "2024-05-27T22:44:47.949415Z",
          "iopub.status.idle": "2024-05-27T22:44:55.557297Z",
          "shell.execute_reply.started": "2024-05-27T22:44:47.949373Z",
          "shell.execute_reply": "2024-05-27T22:44:55.556244Z"
        },
        "trusted": true,
        "is_executing": true,
        "colab": {
          "base_uri": "https://localhost:8080/"
        },
        "outputId": "e956872c-2d92-4e6a-fb1e-b83adfe720a5",
        "id": "33Lsnq3PO5Vz"
      },
      "execution_count": 16,
      "outputs": [
        {
          "output_type": "stream",
          "name": "stdout",
          "text": [
            "75/75 [==============================] - 16s 129ms/step\n"
          ]
        }
      ]
    }
  ]
}