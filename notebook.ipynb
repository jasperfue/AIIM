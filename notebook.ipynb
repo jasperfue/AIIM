{
  "metadata": {
    "kernelspec": {
      "display_name": "Python 3",
      "name": "python3"
    },
    "language_info": {
      "name": "python",
      "version": "3.10.13",
      "mimetype": "text/x-python",
      "codemirror_mode": {
        "name": "ipython",
        "version": 3
      },
      "pygments_lexer": "ipython3",
      "nbconvert_exporter": "python",
      "file_extension": ".py"
    },
    "kaggle": {
      "accelerator": "none",
      "dataSources": [
        {
          "sourceId": 77823,
          "databundleVersionId": 8553100,
          "sourceType": "competition"
        }
      ],
      "dockerImageVersionId": 30698,
      "isInternetEnabled": false,
      "language": "python",
      "sourceType": "notebook",
      "isGpuEnabled": false
    },
    "colab": {
      "provenance": [],
      "gpuType": "A100"
    },
    "accelerator": "GPU"
  },
  "nbformat_minor": 0,
  "nbformat": 4,
  "cells": [
    {
      "cell_type": "code",
      "source": [
        "\n",
        "# IMPORTANT: RUN THIS CELL IN ORDER TO IMPORT YOUR KAGGLE DATA SOURCES\n",
        "# TO THE CORRECT LOCATION (/kaggle/input) IN YOUR NOTEBOOK,\n",
        "# THEN FEEL FREE TO DELETE THIS CELL.\n",
        "# NOTE: THIS NOTEBOOK ENVIRONMENT DIFFERS FROM KAGGLE'S PYTHON\n",
        "# ENVIRONMENT SO THERE MAY BE MISSING LIBRARIES USED BY YOUR\n",
        "# NOTEBOOK.\n",
        "\n",
        "import os\n",
        "import sys\n",
        "from tempfile import NamedTemporaryFile\n",
        "from urllib.request import urlopen\n",
        "from urllib.parse import unquote, urlparse\n",
        "from urllib.error import HTTPError\n",
        "from zipfile import ZipFile\n",
        "import tarfile\n",
        "import shutil\n",
        "\n",
        "CHUNK_SIZE = 40960\n",
        "DATA_SOURCE_MAPPING = 'aiim-emotion-classification:https%3A%2F%2Fstorage.googleapis.com%2Fkaggle-competitions-data%2Fkaggle-v2%2F77823%2F8553100%2Fbundle%2Farchive.zip%3FX-Goog-Algorithm%3DGOOG4-RSA-SHA256%26X-Goog-Credential%3Dgcp-kaggle-com%2540kaggle-161607.iam.gserviceaccount.com%252F20240601%252Fauto%252Fstorage%252Fgoog4_request%26X-Goog-Date%3D20240601T111253Z%26X-Goog-Expires%3D259200%26X-Goog-SignedHeaders%3Dhost%26X-Goog-Signature%3D54fc7bea13a77b2bcb329a259a65772bbebb7bb934623c671c05e01d26274ac9ecb6c956a15fe131580da94f76a7c78a7ab1f4d2cd5ce0dc06c1ad1222585434b04fb71d1236f5f46d2a3056a5b2e599cca9d9824003b1ba1259265810e95d87739d99a8d0f684ee6f495efc9d24eed161ab3b47cccf272a59442b1656fc687e245bae286a5cb83ca293b7cf03ddb3551d60eb683e8f05357902e3af4168d2f1052fd0f74463cc491cd8aaa0e26f40b2b2a756b6b6a6429a3a093a345e8540cb18372d8c9f64b2caddedd0596b647fa2764e531f5452d542ef34993beac3d10f4e452726e5fe00088687aeab2d43682025a0db6e03989fda602a39aa2706f968'\n",
        "\n",
        "KAGGLE_INPUT_PATH='/kaggle/input'\n",
        "KAGGLE_WORKING_PATH='/kaggle/working'\n",
        "KAGGLE_SYMLINK='kaggle'\n",
        "\n",
        "!umount /kaggle/input/ 2> /dev/null\n",
        "shutil.rmtree('/kaggle/input', ignore_errors=True)\n",
        "os.makedirs(KAGGLE_INPUT_PATH, 0o777, exist_ok=True)\n",
        "os.makedirs(KAGGLE_WORKING_PATH, 0o777, exist_ok=True)\n",
        "\n",
        "try:\n",
        "  os.symlink(KAGGLE_INPUT_PATH, os.path.join(\"..\", 'input'), target_is_directory=True)\n",
        "except FileExistsError:\n",
        "  pass\n",
        "try:\n",
        "  os.symlink(KAGGLE_WORKING_PATH, os.path.join(\"..\", 'working'), target_is_directory=True)\n",
        "except FileExistsError:\n",
        "  pass\n",
        "\n",
        "for data_source_mapping in DATA_SOURCE_MAPPING.split(','):\n",
        "    directory, download_url_encoded = data_source_mapping.split(':')\n",
        "    download_url = unquote(download_url_encoded)\n",
        "    filename = urlparse(download_url).path\n",
        "    destination_path = os.path.join(KAGGLE_INPUT_PATH, directory)\n",
        "    try:\n",
        "        with urlopen(download_url) as fileres, NamedTemporaryFile() as tfile:\n",
        "            total_length = fileres.headers['content-length']\n",
        "            print(f'Downloading {directory}, {total_length} bytes compressed')\n",
        "            dl = 0\n",
        "            data = fileres.read(CHUNK_SIZE)\n",
        "            while len(data) > 0:\n",
        "                dl += len(data)\n",
        "                tfile.write(data)\n",
        "                done = int(50 * dl / int(total_length))\n",
        "                sys.stdout.write(f\"\\r[{'=' * done}{' ' * (50-done)}] {dl} bytes downloaded\")\n",
        "                sys.stdout.flush()\n",
        "                data = fileres.read(CHUNK_SIZE)\n",
        "            if filename.endswith('.zip'):\n",
        "              with ZipFile(tfile) as zfile:\n",
        "                zfile.extractall(destination_path)\n",
        "            else:\n",
        "              with tarfile.open(tfile.name) as tarfile:\n",
        "                tarfile.extractall(destination_path)\n",
        "            print(f'\\nDownloaded and uncompressed: {directory}')\n",
        "    except HTTPError as e:\n",
        "        print(f'Failed to load (likely expired) {download_url} to path {destination_path}')\n",
        "        continue\n",
        "    except OSError as e:\n",
        "        print(f'Failed to load {download_url} to path {destination_path}')\n",
        "        continue\n",
        "\n",
        "print('Data source import complete.')\n"
      ],
      "metadata": {
        "colab": {
          "base_uri": "https://localhost:8080/"
        },
        "id": "szgufmtcC4Xy",
        "outputId": "2fb23839-71ba-47d1-bdc4-1cc0be7ad095"
      },
      "execution_count": 305,
      "outputs": [
        {
          "output_type": "stream",
          "name": "stdout",
          "text": [
            "Downloading aiim-emotion-classification, 18175099 bytes compressed\n",
            "[==================================================] 18175099 bytes downloaded\n",
            "Downloaded and uncompressed: aiim-emotion-classification\n",
            "Data source import complete.\n"
          ]
        }
      ]
    },
    {
      "cell_type": "code",
      "outputs": [
        {
          "output_type": "stream",
          "name": "stdout",
          "text": [
            "Num GPUs Available:  1\n"
          ]
        }
      ],
      "source": [
        "from keras.utils import image_dataset_from_directory, load_img, img_to_array\n",
        "from keras.models import Sequential\n",
        "from keras.layers import Conv2D, MaxPooling2D, Flatten, Dense, Dropout, BatchNormalization, RandomFlip, RandomRotation, RandomZoom, RandomContrast, RandomBrightness\n",
        "from keras.optimizers import Adam, SGD\n",
        "import matplotlib.pyplot as plt\n",
        "import pandas as pd\n",
        "import numpy as np\n",
        "from keras.callbacks import EarlyStopping, ReduceLROnPlateau, ModelCheckpoint\n",
        "import tensorflow as tf\n",
        "from sklearn.metrics import f1_score, confusion_matrix, classification_report\n",
        "import seaborn as sns\n",
        "import os\n",
        "from tensorflow.keras.optimizers.schedules import ExponentialDecay\n",
        "\n",
        "print(\"Num GPUs Available: \", len(tf.config.experimental.list_physical_devices('GPU')))\n"
      ],
      "metadata": {
        "is_executing": true,
        "colab": {
          "base_uri": "https://localhost:8080/"
        },
        "id": "kmmAbR6hBp9t",
        "outputId": "e43d48f7-7dd7-46e5-d1f5-6b2abce86f66"
      },
      "execution_count": 306
    },
    {
      "cell_type": "code",
      "outputs": [],
      "source": [
        "base_directory = '/kaggle/input/aiim-emotion-classification/aiim-emotion-classification/'\n",
        "batch_size = 32\n",
        "epochs = 50"
      ],
      "metadata": {
        "ExecuteTime": {
          "end_time": "2024-05-29T11:01:32.566925Z",
          "start_time": "2024-05-29T11:01:32.563189Z"
        },
        "id": "TLPz1wGlBp9v"
      },
      "execution_count": 307
    },
    {
      "cell_type": "code",
      "source": [
        "# Documentation: https://keras.io/api/data_loading/image/\n",
        "train_ds, validation_ds = image_dataset_from_directory(\n",
        "    directory=base_directory + 'train/',\n",
        "    labels='inferred',\n",
        "    label_mode='categorical',\n",
        "    color_mode='grayscale',\n",
        "    batch_size=batch_size,\n",
        "    shuffle=True,\n",
        "    seed=420,\n",
        "    subset=\"both\",\n",
        "    validation_split=0.15,\n",
        "    image_size=(100, 100))\n",
        "\n",
        "\n",
        "class_names = train_ds.class_names\n",
        "\n",
        "print(train_ds.class_names)"
      ],
      "metadata": {
        "execution": {
          "iopub.status.busy": "2024-05-27T22:45:25.809783Z",
          "iopub.execute_input": "2024-05-27T22:45:25.810281Z",
          "iopub.status.idle": "2024-05-27T22:45:27.818454Z",
          "shell.execute_reply.started": "2024-05-27T22:45:25.810244Z",
          "shell.execute_reply": "2024-05-27T22:45:27.817191Z"
        },
        "trusted": true,
        "ExecuteTime": {
          "end_time": "2024-05-29T11:01:33.015404Z",
          "start_time": "2024-05-29T11:01:32.568930Z"
        },
        "colab": {
          "base_uri": "https://localhost:8080/"
        },
        "id": "C0DvGi95Bp9w",
        "outputId": "46524d6c-6bb4-47de-8a45-9bc1608591de"
      },
      "execution_count": 308,
      "outputs": [
        {
          "output_type": "stream",
          "name": "stdout",
          "text": [
            "Found 9108 files belonging to 5 classes.\n",
            "Using 7742 files for training.\n",
            "Using 1366 files for validation.\n",
            "['angry', 'fear', 'happy', 'sad', 'surprise']\n"
          ]
        }
      ]
    },
    {
      "cell_type": "markdown",
      "source": [
        "## Normalization"
      ],
      "metadata": {
        "id": "xU22__2yEhJo"
      }
    },
    {
      "cell_type": "code",
      "source": [
        "normalization_layer = tf.keras.layers.Rescaling(1./255)\n",
        "\n",
        "data_augmentation = tf.keras.Sequential([\n",
        "    # RandomFlip(\"horizontal\"),\n",
        "    RandomRotation(0.01),\n",
        "    RandomZoom(height_factor=(0.1, 0.1), width_factor=(0.1, 0.1), fill_mode='constant', fill_value=0.0),\n",
        "    # RandomContrast(0.01),\n",
        "    # RandomBrightness(0.01)\n",
        "])\n",
        "validation_ds = validation_ds.map(lambda x, y: (normalization_layer(x), y))\n",
        "train_ds = train_ds.map(lambda x, y: (data_augmentation(normalization_layer(x), training=True), y))"
      ],
      "metadata": {
        "ExecuteTime": {
          "end_time": "2024-05-29T11:01:33.020603Z",
          "start_time": "2024-05-29T11:01:33.017424Z"
        },
        "id": "5HPvc0UJBp9w"
      },
      "execution_count": 309,
      "outputs": []
    },
    {
      "cell_type": "markdown",
      "source": [
        "# Convolutional Operation\n",
        "\n",
        "## Convolutional Layer 1\n",
        "* Number of input Channels: 1 (Greyscale)\n",
        "* Number of output Channels: 32\n",
        "* Kernel size: 3x3\n",
        "* Stride: 1\n",
        "* Padding: 1\n",
        "\n",
        "## Max Pooling Layer 1\n",
        "* Kernel size: 2x2\n",
        "* Stride: 2\n",
        "* Padding: 0\n",
        "\n",
        "## Convolutional Layer 2\n",
        "* Number of input Channels: 32\n",
        "* Number of output Channels: 64\n",
        "* kernel size: 3 (3x3 kernel)\n",
        "* Stride: 1\n",
        "* Padding 1\n",
        "\n",
        "## Max Pooling Layer 2\n",
        "* Kernel size: 2x2\n",
        "* Stride: 2\n",
        "* Padding: 0\n",
        "\n",
        "## Flatten Layer\n",
        "Converts the multi-dimensional output of the Convolutional and Pooling layers into a 1D vector.\n",
        "\n",
        "## Fully Connected Layer 1\n",
        "* Input features: 64 * 25 * 25 (output size after the second pooling layer, flattened)\n",
        "* Output features: 128\n",
        "\n",
        "## Fully Connected Layer 2\n",
        "* Input features: 128\n",
        "* Output features: Number of classes (5 different emotions)"
      ],
      "metadata": {
        "id": "KxZOrtjoBp9x"
      }
    },
    {
      "cell_type": "code",
      "source": [
        "model = Sequential([\n",
        "    Conv2D(filters=32, kernel_size=(3,3), activation='relu', input_shape=(100,100,1)),\n",
        "    Conv2D(filters=64, kernel_size=(3,3), activation='relu'),\n",
        "    MaxPooling2D(pool_size=(2,2)),\n",
        "    Dropout(0.25),\n",
        "\n",
        "\n",
        "    Conv2D(filters=128, kernel_size=(3,3), activation='relu'),\n",
        "    MaxPooling2D(pool_size=(2,2)),\n",
        "    Conv2D(filters=256, kernel_size=(3,3), activation='relu'),\n",
        "    MaxPooling2D(pool_size=(2,2)),\n",
        "    Dropout(0.25),\n",
        "\n",
        "    Flatten(),\n",
        "    Dense(1028, activation='relu', kernel_regularizer=\"l2\"),\n",
        "    Dropout(0.5),\n",
        "    Dense(5, activation='softmax')\n",
        "])\n",
        "model.summary()\n"
      ],
      "metadata": {
        "execution": {
          "iopub.status.busy": "2024-05-27T22:32:05.749473Z",
          "iopub.execute_input": "2024-05-27T22:32:05.749948Z",
          "iopub.status.idle": "2024-05-27T22:32:05.876351Z",
          "shell.execute_reply.started": "2024-05-27T22:32:05.749905Z",
          "shell.execute_reply": "2024-05-27T22:32:05.875032Z"
        },
        "trusted": true,
        "ExecuteTime": {
          "end_time": "2024-05-29T11:01:33.103456Z",
          "start_time": "2024-05-29T11:01:33.022638Z"
        },
        "id": "jDh-TMn3Bp9y",
        "colab": {
          "base_uri": "https://localhost:8080/"
        },
        "outputId": "e2daf72c-22ef-4f9e-86ec-ec0909128707"
      },
      "execution_count": 310,
      "outputs": [
        {
          "output_type": "stream",
          "name": "stdout",
          "text": [
            "Model: \"sequential_59\"\n",
            "_________________________________________________________________\n",
            " Layer (type)                Output Shape              Param #   \n",
            "=================================================================\n",
            " conv2d_128 (Conv2D)         (None, 98, 98, 32)        320       \n",
            "                                                                 \n",
            " conv2d_129 (Conv2D)         (None, 96, 96, 64)        18496     \n",
            "                                                                 \n",
            " max_pooling2d_95 (MaxPooli  (None, 48, 48, 64)        0         \n",
            " ng2D)                                                           \n",
            "                                                                 \n",
            " dropout_95 (Dropout)        (None, 48, 48, 64)        0         \n",
            "                                                                 \n",
            " conv2d_130 (Conv2D)         (None, 46, 46, 128)       73856     \n",
            "                                                                 \n",
            " max_pooling2d_96 (MaxPooli  (None, 23, 23, 128)       0         \n",
            " ng2D)                                                           \n",
            "                                                                 \n",
            " conv2d_131 (Conv2D)         (None, 21, 21, 256)       295168    \n",
            "                                                                 \n",
            " max_pooling2d_97 (MaxPooli  (None, 10, 10, 256)       0         \n",
            " ng2D)                                                           \n",
            "                                                                 \n",
            " dropout_96 (Dropout)        (None, 10, 10, 256)       0         \n",
            "                                                                 \n",
            " flatten_31 (Flatten)        (None, 25600)             0         \n",
            "                                                                 \n",
            " dense_62 (Dense)            (None, 1028)              26317828  \n",
            "                                                                 \n",
            " dropout_97 (Dropout)        (None, 1028)              0         \n",
            "                                                                 \n",
            " dense_63 (Dense)            (None, 5)                 5145      \n",
            "                                                                 \n",
            "=================================================================\n",
            "Total params: 26710813 (101.89 MB)\n",
            "Trainable params: 26710813 (101.89 MB)\n",
            "Non-trainable params: 0 (0.00 Byte)\n",
            "_________________________________________________________________\n"
          ]
        }
      ]
    },
    {
      "cell_type": "markdown",
      "source": [
        "Try Learning rate of 0.001"
      ],
      "metadata": {
        "id": "tQ9q0dI3Bp9y"
      }
    },
    {
      "cell_type": "code",
      "source": [
        "# Define the optimizer\n",
        "initial_learning_rate = 0.0001\n",
        "lr_schedule = ExponentialDecay(initial_learning_rate, decay_steps=100000, decay_rate=0.96)\n",
        "\n",
        "optimizer = Adam(learning_rate=lr_schedule)\n",
        "\n",
        "\n",
        "# Compile the model\n",
        "model.compile(loss=tf.keras.losses.CategoricalCrossentropy(),\n",
        "              optimizer=optimizer,\n",
        "              metrics=['accuracy'])\n",
        "\n",
        "# Callbacks\n",
        "early_stopping = EarlyStopping(monitor='val_loss', patience=5)\n",
        "reduce_lr = ReduceLROnPlateau(monitor='val_loss', factor=0.2, patience=3, min_lr=0.0001)\n",
        "\n",
        "\n",
        "\n",
        "# Training des Modells\n",
        "history = model.fit(train_ds, validation_data=validation_ds, epochs=epochs, batch_size=batch_size, callbacks=[reduce_lr])\n"
      ],
      "metadata": {
        "execution": {
          "iopub.status.busy": "2024-05-27T22:32:05.879266Z",
          "iopub.execute_input": "2024-05-27T22:32:05.879695Z",
          "iopub.status.idle": "2024-05-27T22:44:47.637392Z",
          "shell.execute_reply.started": "2024-05-27T22:32:05.879623Z",
          "shell.execute_reply": "2024-05-27T22:44:47.636238Z"
        },
        "trusted": true,
        "is_executing": true,
        "ExecuteTime": {
          "start_time": "2024-05-29T11:01:33.105464Z"
        },
        "colab": {
          "base_uri": "https://localhost:8080/"
        },
        "id": "X-ADG7CSBp9z",
        "outputId": "4478b4a0-a179-4c3b-e50f-aa0ea2fe610e"
      },
      "execution_count": 311,
      "outputs": [
        {
          "output_type": "stream",
          "name": "stdout",
          "text": [
            "Epoch 1/50\n",
            "242/242 [==============================] - 7s 22ms/step - loss: 6.0788 - accuracy: 0.2448 - val_loss: 1.8198 - val_accuracy: 0.2972 - lr: 9.9990e-05\n",
            "Epoch 2/50\n",
            "242/242 [==============================] - 5s 21ms/step - loss: 1.6360 - accuracy: 0.3402 - val_loss: 1.5475 - val_accuracy: 0.4261 - lr: 9.9980e-05\n",
            "Epoch 3/50\n",
            "242/242 [==============================] - 5s 21ms/step - loss: 1.4976 - accuracy: 0.4403 - val_loss: 1.4517 - val_accuracy: 0.4802 - lr: 9.9970e-05\n",
            "Epoch 4/50\n",
            "242/242 [==============================] - 5s 21ms/step - loss: 1.4130 - accuracy: 0.4986 - val_loss: 1.4188 - val_accuracy: 0.5139 - lr: 9.9961e-05\n",
            "Epoch 5/50\n",
            "242/242 [==============================] - 5s 21ms/step - loss: 1.3568 - accuracy: 0.5403 - val_loss: 1.3770 - val_accuracy: 0.5278 - lr: 9.9951e-05\n",
            "Epoch 6/50\n",
            "242/242 [==============================] - 5s 21ms/step - loss: 1.3057 - accuracy: 0.5608 - val_loss: 1.3329 - val_accuracy: 0.5725 - lr: 9.9941e-05\n",
            "Epoch 7/50\n",
            "242/242 [==============================] - 5s 21ms/step - loss: 1.2717 - accuracy: 0.5925 - val_loss: 1.3324 - val_accuracy: 0.5725 - lr: 9.9931e-05\n",
            "Epoch 8/50\n",
            "242/242 [==============================] - 5s 21ms/step - loss: 1.2435 - accuracy: 0.6060 - val_loss: 1.3524 - val_accuracy: 0.5703 - lr: 9.9921e-05\n",
            "Epoch 9/50\n",
            "242/242 [==============================] - 5s 21ms/step - loss: 1.2087 - accuracy: 0.6293 - val_loss: 1.3202 - val_accuracy: 0.5827 - lr: 9.9911e-05\n",
            "Epoch 10/50\n",
            "242/242 [==============================] - 5s 21ms/step - loss: 1.1787 - accuracy: 0.6507 - val_loss: 1.3203 - val_accuracy: 0.5908 - lr: 9.9901e-05\n",
            "Epoch 11/50\n",
            "242/242 [==============================] - 5s 21ms/step - loss: 1.1548 - accuracy: 0.6656 - val_loss: 1.2999 - val_accuracy: 0.6164 - lr: 9.9891e-05\n",
            "Epoch 12/50\n",
            "242/242 [==============================] - 5s 21ms/step - loss: 1.1106 - accuracy: 0.6925 - val_loss: 1.3205 - val_accuracy: 0.6076 - lr: 9.9882e-05\n",
            "Epoch 13/50\n",
            "242/242 [==============================] - 5s 21ms/step - loss: 1.1008 - accuracy: 0.7069 - val_loss: 1.3474 - val_accuracy: 0.6135 - lr: 9.9872e-05\n",
            "Epoch 14/50\n",
            "242/242 [==============================] - 5s 21ms/step - loss: 1.0779 - accuracy: 0.7275 - val_loss: 1.3609 - val_accuracy: 0.6208 - lr: 9.9862e-05\n",
            "Epoch 15/50\n",
            "242/242 [==============================] - 5s 21ms/step - loss: 1.0530 - accuracy: 0.7414 - val_loss: 1.3790 - val_accuracy: 0.6215 - lr: 9.9852e-05\n",
            "Epoch 16/50\n",
            "242/242 [==============================] - 5s 21ms/step - loss: 1.0268 - accuracy: 0.7613 - val_loss: 1.4037 - val_accuracy: 0.6069 - lr: 9.9842e-05\n",
            "Epoch 17/50\n",
            "242/242 [==============================] - 5s 21ms/step - loss: 1.0108 - accuracy: 0.7811 - val_loss: 1.4364 - val_accuracy: 0.6083 - lr: 9.9832e-05\n",
            "Epoch 18/50\n",
            "242/242 [==============================] - 5s 21ms/step - loss: 0.9856 - accuracy: 0.7970 - val_loss: 1.4570 - val_accuracy: 0.6201 - lr: 9.9822e-05\n",
            "Epoch 19/50\n",
            "242/242 [==============================] - 5s 21ms/step - loss: 0.9540 - accuracy: 0.8114 - val_loss: 1.5147 - val_accuracy: 0.6069 - lr: 9.9813e-05\n",
            "Epoch 20/50\n",
            "242/242 [==============================] - 5s 21ms/step - loss: 0.9385 - accuracy: 0.8223 - val_loss: 1.5165 - val_accuracy: 0.6354 - lr: 9.9803e-05\n",
            "Epoch 21/50\n",
            "242/242 [==============================] - 5s 21ms/step - loss: 0.9388 - accuracy: 0.8349 - val_loss: 1.4804 - val_accuracy: 0.6318 - lr: 9.9793e-05\n",
            "Epoch 22/50\n",
            "242/242 [==============================] - 5s 21ms/step - loss: 0.9067 - accuracy: 0.8472 - val_loss: 1.5440 - val_accuracy: 0.6318 - lr: 9.9783e-05\n",
            "Epoch 23/50\n",
            "242/242 [==============================] - 5s 21ms/step - loss: 0.8785 - accuracy: 0.8619 - val_loss: 1.5741 - val_accuracy: 0.6332 - lr: 9.9773e-05\n",
            "Epoch 24/50\n",
            "242/242 [==============================] - 5s 21ms/step - loss: 0.8857 - accuracy: 0.8595 - val_loss: 1.5806 - val_accuracy: 0.6340 - lr: 9.9763e-05\n",
            "Epoch 25/50\n",
            "242/242 [==============================] - 5s 21ms/step - loss: 0.8563 - accuracy: 0.8768 - val_loss: 1.5505 - val_accuracy: 0.6340 - lr: 9.9753e-05\n",
            "Epoch 26/50\n",
            "242/242 [==============================] - 5s 21ms/step - loss: 0.8280 - accuracy: 0.8871 - val_loss: 1.5646 - val_accuracy: 0.6369 - lr: 9.9744e-05\n",
            "Epoch 27/50\n",
            "242/242 [==============================] - 5s 21ms/step - loss: 0.8148 - accuracy: 0.8960 - val_loss: 1.5821 - val_accuracy: 0.6391 - lr: 9.9734e-05\n",
            "Epoch 28/50\n",
            "242/242 [==============================] - 5s 21ms/step - loss: 0.8174 - accuracy: 0.8959 - val_loss: 1.6119 - val_accuracy: 0.6310 - lr: 9.9724e-05\n",
            "Epoch 29/50\n",
            "242/242 [==============================] - 5s 21ms/step - loss: 0.8239 - accuracy: 0.8950 - val_loss: 1.6173 - val_accuracy: 0.6420 - lr: 9.9714e-05\n",
            "Epoch 30/50\n",
            "242/242 [==============================] - 5s 21ms/step - loss: 0.7995 - accuracy: 0.9031 - val_loss: 1.7330 - val_accuracy: 0.6237 - lr: 9.9704e-05\n",
            "Epoch 31/50\n",
            "242/242 [==============================] - 5s 21ms/step - loss: 0.7877 - accuracy: 0.9102 - val_loss: 1.6806 - val_accuracy: 0.6391 - lr: 9.9694e-05\n",
            "Epoch 32/50\n",
            "242/242 [==============================] - 5s 21ms/step - loss: 0.7772 - accuracy: 0.9168 - val_loss: 1.6360 - val_accuracy: 0.6398 - lr: 9.9684e-05\n",
            "Epoch 33/50\n",
            "242/242 [==============================] - 5s 21ms/step - loss: 0.7734 - accuracy: 0.9138 - val_loss: 1.6426 - val_accuracy: 0.6449 - lr: 9.9675e-05\n",
            "Epoch 34/50\n",
            "242/242 [==============================] - 5s 21ms/step - loss: 0.7610 - accuracy: 0.9181 - val_loss: 1.6747 - val_accuracy: 0.6471 - lr: 9.9665e-05\n",
            "Epoch 35/50\n",
            "242/242 [==============================] - 5s 21ms/step - loss: 0.7513 - accuracy: 0.9203 - val_loss: 1.6689 - val_accuracy: 0.6647 - lr: 9.9655e-05\n",
            "Epoch 36/50\n",
            "242/242 [==============================] - 5s 21ms/step - loss: 0.7605 - accuracy: 0.9203 - val_loss: 1.7104 - val_accuracy: 0.6515 - lr: 9.9645e-05\n",
            "Epoch 37/50\n",
            "242/242 [==============================] - 5s 21ms/step - loss: 0.7560 - accuracy: 0.9220 - val_loss: 1.6950 - val_accuracy: 0.6413 - lr: 9.9635e-05\n",
            "Epoch 38/50\n",
            "242/242 [==============================] - 5s 21ms/step - loss: 0.7615 - accuracy: 0.9239 - val_loss: 1.7547 - val_accuracy: 0.6303 - lr: 9.9625e-05\n",
            "Epoch 39/50\n",
            "242/242 [==============================] - 5s 21ms/step - loss: 0.7467 - accuracy: 0.9262 - val_loss: 1.7538 - val_accuracy: 0.6486 - lr: 9.9615e-05\n",
            "Epoch 40/50\n",
            "242/242 [==============================] - 5s 21ms/step - loss: 0.7396 - accuracy: 0.9297 - val_loss: 1.7388 - val_accuracy: 0.6589 - lr: 9.9606e-05\n",
            "Epoch 41/50\n",
            "242/242 [==============================] - 5s 21ms/step - loss: 0.7308 - accuracy: 0.9328 - val_loss: 1.7362 - val_accuracy: 0.6376 - lr: 9.9596e-05\n",
            "Epoch 42/50\n",
            "242/242 [==============================] - 5s 21ms/step - loss: 0.7217 - accuracy: 0.9321 - val_loss: 1.7345 - val_accuracy: 0.6376 - lr: 9.9586e-05\n",
            "Epoch 43/50\n",
            "242/242 [==============================] - 5s 21ms/step - loss: 0.7273 - accuracy: 0.9355 - val_loss: 1.7509 - val_accuracy: 0.6347 - lr: 9.9576e-05\n",
            "Epoch 44/50\n",
            "242/242 [==============================] - 5s 21ms/step - loss: 0.7177 - accuracy: 0.9332 - val_loss: 1.7404 - val_accuracy: 0.6471 - lr: 9.9566e-05\n",
            "Epoch 45/50\n",
            "242/242 [==============================] - 5s 21ms/step - loss: 0.7225 - accuracy: 0.9340 - val_loss: 1.7343 - val_accuracy: 0.6398 - lr: 9.9556e-05\n",
            "Epoch 46/50\n",
            "242/242 [==============================] - 5s 21ms/step - loss: 0.7317 - accuracy: 0.9327 - val_loss: 1.7751 - val_accuracy: 0.6442 - lr: 9.9547e-05\n",
            "Epoch 47/50\n",
            "242/242 [==============================] - 5s 21ms/step - loss: 0.7323 - accuracy: 0.9361 - val_loss: 1.7620 - val_accuracy: 0.6493 - lr: 9.9537e-05\n",
            "Epoch 48/50\n",
            "242/242 [==============================] - 5s 21ms/step - loss: 0.7350 - accuracy: 0.9334 - val_loss: 1.7272 - val_accuracy: 0.6384 - lr: 9.9527e-05\n",
            "Epoch 49/50\n",
            "242/242 [==============================] - 5s 21ms/step - loss: 0.7147 - accuracy: 0.9397 - val_loss: 1.7456 - val_accuracy: 0.6449 - lr: 9.9517e-05\n",
            "Epoch 50/50\n",
            "242/242 [==============================] - 5s 21ms/step - loss: 0.6970 - accuracy: 0.9405 - val_loss: 1.7745 - val_accuracy: 0.6567 - lr: 9.9507e-05\n"
          ]
        }
      ]
    },
    {
      "cell_type": "code",
      "source": [
        "# Vorhersagen für die Validierungsdaten\n",
        "y_val_true = np.concatenate([y for x, y in validation_ds], axis=0)\n",
        "y_val_pred = model.predict(validation_ds)\n",
        "\n",
        "# Umwandeln der Vorhersagen in One-Hot-Format\n",
        "y_val_pred_classes = np.argmax(y_val_pred, axis=1)\n",
        "y_val_true_classes = np.argmax(y_val_true, axis=1)\n",
        "\n",
        "# F1-Score berechnen\n",
        "f1 = f1_score(y_val_true_classes, y_val_pred_classes, average='weighted')\n",
        "print(\"F1-Score: \", f1)"
      ],
      "metadata": {
        "id": "4HNlgG7KOYsU",
        "colab": {
          "base_uri": "https://localhost:8080/"
        },
        "outputId": "c47647a3-1e46-4055-d81a-c01db6c8f34d"
      },
      "execution_count": 312,
      "outputs": [
        {
          "output_type": "stream",
          "name": "stdout",
          "text": [
            "43/43 [==============================] - 0s 3ms/step\n",
            "F1-Score:  0.6530676193838509\n"
          ]
        }
      ]
    },
    {
      "cell_type": "code",
      "source": [
        "# Confusion Matrix und Classification Report\n",
        "cm = confusion_matrix(y_val_true_classes, y_val_pred_classes)\n",
        "plt.figure(figsize=(10, 8))\n",
        "sns.heatmap(cm, annot=True, fmt='d', cmap='Blues', xticklabels=class_names, yticklabels=class_names)\n",
        "plt.xlabel('Predicted')\n",
        "plt.ylabel('True')\n",
        "plt.show()\n",
        "\n",
        "print(classification_report(y_val_true_classes, y_val_pred_classes, target_names=class_names))\n"
      ],
      "metadata": {
        "id": "J9Z4312kPv71",
        "colab": {
          "base_uri": "https://localhost:8080/",
          "height": 904
        },
        "outputId": "08187989-013f-4dee-f24a-784e93791b21"
      },
      "execution_count": 313,
      "outputs": [
        {
          "output_type": "display_data",
          "data": {
            "text/plain": [
              "<Figure size 1000x800 with 2 Axes>"
            ],
            "image/png": "[encoded data removed]"
          },
          "metadata": {}
        },
        {
          "output_type": "stream",
          "name": "stdout",
          "text": [
            "              precision    recall  f1-score   support\n",
            "\n",
            "       angry       0.58      0.70      0.63       278\n",
            "        fear       0.66      0.37      0.47       165\n",
            "       happy       0.75      0.72      0.73       295\n",
            "         sad       0.60      0.68      0.64       319\n",
            "    surprise       0.72      0.69      0.71       309\n",
            "\n",
            "    accuracy                           0.66      1366\n",
            "   macro avg       0.66      0.63      0.64      1366\n",
            "weighted avg       0.66      0.66      0.65      1366\n",
            "\n"
          ]
        }
      ]
    },
    {
      "cell_type": "code",
      "source": [
        "# Plot the loss and accuracy curves for training and validation\n",
        "plt.plot(history.history['val_loss'], color='b', label=\"validation loss\")\n",
        "plt.title(\"Test Loss\")\n",
        "plt.xlabel(\"Number of Epochs\")\n",
        "plt.ylabel(\"Loss\")\n",
        "plt.legend()\n",
        "plt.show()"
      ],
      "metadata": {
        "execution": {
          "iopub.status.busy": "2024-05-27T22:44:47.638812Z",
          "iopub.execute_input": "2024-05-27T22:44:47.639266Z",
          "iopub.status.idle": "2024-05-27T22:44:47.947255Z",
          "shell.execute_reply.started": "2024-05-27T22:44:47.639215Z",
          "shell.execute_reply": "2024-05-27T22:44:47.946049Z"
        },
        "trusted": true,
        "is_executing": true,
        "id": "dn7RMh5hBp9z",
        "colab": {
          "base_uri": "https://localhost:8080/",
          "height": 472
        },
        "outputId": "e6c6cc70-54de-443b-ba54-509e5906d5be"
      },
      "execution_count": 314,
      "outputs": [
        {
          "output_type": "display_data",
          "data": {
            "text/plain": [
              "<Figure size 640x480 with 1 Axes>"
            ],
            "image/png": "[encoded data removed]"
          },
          "metadata": {}
        }
      ]
    },
    {
      "cell_type": "markdown",
      "source": [
        "# Create Submission"
      ],
      "metadata": {
        "id": "NHwVgkLCBp90"
      }
    },
    {
      "cell_type": "code",
      "source": [
        "file_names = []\n",
        "images = []\n",
        "test_directory = base_directory + 'test/'\n",
        "\n",
        "for filename in os.listdir(test_directory):\n",
        "    if filename.endswith(\".jpg\"):\n",
        "        img_path = os.path.join(test_directory, filename)\n",
        "        img = load_img(img_path, target_size=(100,100), color_mode='grayscale')\n",
        "        img_array = img_to_array(img)\n",
        "        img_array = normalization_layer(img_array)\n",
        "        images.append(img_array)\n",
        "        file_names.append(filename)\n",
        "\n",
        "# In ein numpy Array konvertieren\n",
        "images_array = np.array(images)\n",
        "\n",
        "# Vorhersagen machen\n",
        "y_test = model.predict(images_array)\n",
        "y_pred_indices = np.argmax(y_test, axis=1)\n",
        "y_pred_labels = [class_names[idx] for idx in y_pred_indices]\n",
        "\n",
        "# DataFrame erstellen\n",
        "df = pd.DataFrame({\n",
        "    'Id': file_names,\n",
        "    'emotions': y_pred_labels\n",
        "})\n",
        "\n",
        "# DataFrame als CSV speichern\n",
        "df.to_csv('./submission.csv', index=False)"
      ],
      "metadata": {
        "execution": {
          "iopub.status.busy": "2024-05-27T22:44:47.948934Z",
          "iopub.execute_input": "2024-05-27T22:44:47.949415Z",
          "iopub.status.idle": "2024-05-27T22:44:55.557297Z",
          "shell.execute_reply.started": "2024-05-27T22:44:47.949373Z",
          "shell.execute_reply": "2024-05-27T22:44:55.556244Z"
        },
        "trusted": true,
        "is_executing": true,
        "id": "5-yfI29yBp90",
        "colab": {
          "base_uri": "https://localhost:8080/"
        },
        "outputId": "33ddd8b7-2d03-4ea9-de09-68adf1f91560"
      },
      "execution_count": 315,
      "outputs": [
        {
          "output_type": "stream",
          "name": "stdout",
          "text": [
            "75/75 [==============================] - 0s 3ms/step\n"
          ]
        }
      ]
    }
  ]
}