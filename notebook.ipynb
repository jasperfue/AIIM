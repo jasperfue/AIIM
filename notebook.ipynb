{
  "metadata": {
    "kernelspec": {
      "display_name": "Python 3",
      "name": "python3"
    },
    "language_info": {
      "name": "python",
      "version": "3.10.13",
      "mimetype": "text/x-python",
      "codemirror_mode": {
        "name": "ipython",
        "version": 3
      },
      "pygments_lexer": "ipython3",
      "nbconvert_exporter": "python",
      "file_extension": ".py"
    },
    "kaggle": {
      "accelerator": "none",
      "dataSources": [
        {
          "sourceId": 77823,
          "databundleVersionId": 8553100,
          "sourceType": "competition"
        }
      ],
      "dockerImageVersionId": 30698,
      "isInternetEnabled": false,
      "language": "python",
      "sourceType": "notebook",
      "isGpuEnabled": false
    },
    "colab": {
      "provenance": [],
      "gpuType": "A100"
    },
    "accelerator": "GPU"
  },
  "nbformat_minor": 0,
  "nbformat": 4,
  "cells": [
    {
      "cell_type": "code",
      "source": [
        "\n",
        "# IMPORTANT: RUN THIS CELL IN ORDER TO IMPORT YOUR KAGGLE DATA SOURCES\n",
        "# TO THE CORRECT LOCATION (/kaggle/input) IN YOUR NOTEBOOK,\n",
        "# THEN FEEL FREE TO DELETE THIS CELL.\n",
        "# NOTE: THIS NOTEBOOK ENVIRONMENT DIFFERS FROM KAGGLE'S PYTHON\n",
        "# ENVIRONMENT SO THERE MAY BE MISSING LIBRARIES USED BY YOUR\n",
        "# NOTEBOOK.\n",
        "\n",
        "import os\n",
        "import sys\n",
        "from tempfile import NamedTemporaryFile\n",
        "from urllib.request import urlopen\n",
        "from urllib.parse import unquote, urlparse\n",
        "from urllib.error import HTTPError\n",
        "from zipfile import ZipFile\n",
        "import tarfile\n",
        "import shutil\n",
        "\n",
        "CHUNK_SIZE = 40960\n",
        "DATA_SOURCE_MAPPING = 'aiim-emotion-classification:https%3A%2F%2Fstorage.googleapis.com%2Fkaggle-competitions-data%2Fkaggle-v2%2F77823%2F8553100%2Fbundle%2Farchive.zip%3FX-Goog-Algorithm%3DGOOG4-RSA-SHA256%26X-Goog-Credential%3Dgcp-kaggle-com%2540kaggle-161607.iam.gserviceaccount.com%252F20240601%252Fauto%252Fstorage%252Fgoog4_request%26X-Goog-Date%3D20240601T111253Z%26X-Goog-Expires%3D259200%26X-Goog-SignedHeaders%3Dhost%26X-Goog-Signature%3D54fc7bea13a77b2bcb329a259a65772bbebb7bb934623c671c05e01d26274ac9ecb6c956a15fe131580da94f76a7c78a7ab1f4d2cd5ce0dc06c1ad1222585434b04fb71d1236f5f46d2a3056a5b2e599cca9d9824003b1ba1259265810e95d87739d99a8d0f684ee6f495efc9d24eed161ab3b47cccf272a59442b1656fc687e245bae286a5cb83ca293b7cf03ddb3551d60eb683e8f05357902e3af4168d2f1052fd0f74463cc491cd8aaa0e26f40b2b2a756b6b6a6429a3a093a345e8540cb18372d8c9f64b2caddedd0596b647fa2764e531f5452d542ef34993beac3d10f4e452726e5fe00088687aeab2d43682025a0db6e03989fda602a39aa2706f968'\n",
        "\n",
        "KAGGLE_INPUT_PATH='/kaggle/input'\n",
        "KAGGLE_WORKING_PATH='/kaggle/working'\n",
        "KAGGLE_SYMLINK='kaggle'\n",
        "\n",
        "!umount /kaggle/input/ 2> /dev/null\n",
        "shutil.rmtree('/kaggle/input', ignore_errors=True)\n",
        "os.makedirs(KAGGLE_INPUT_PATH, 0o777, exist_ok=True)\n",
        "os.makedirs(KAGGLE_WORKING_PATH, 0o777, exist_ok=True)\n",
        "\n",
        "try:\n",
        "  os.symlink(KAGGLE_INPUT_PATH, os.path.join(\"..\", 'input'), target_is_directory=True)\n",
        "except FileExistsError:\n",
        "  pass\n",
        "try:\n",
        "  os.symlink(KAGGLE_WORKING_PATH, os.path.join(\"..\", 'working'), target_is_directory=True)\n",
        "except FileExistsError:\n",
        "  pass\n",
        "\n",
        "for data_source_mapping in DATA_SOURCE_MAPPING.split(','):\n",
        "    directory, download_url_encoded = data_source_mapping.split(':')\n",
        "    download_url = unquote(download_url_encoded)\n",
        "    filename = urlparse(download_url).path\n",
        "    destination_path = os.path.join(KAGGLE_INPUT_PATH, directory)\n",
        "    try:\n",
        "        with urlopen(download_url) as fileres, NamedTemporaryFile() as tfile:\n",
        "            total_length = fileres.headers['content-length']\n",
        "            print(f'Downloading {directory}, {total_length} bytes compressed')\n",
        "            dl = 0\n",
        "            data = fileres.read(CHUNK_SIZE)\n",
        "            while len(data) > 0:\n",
        "                dl += len(data)\n",
        "                tfile.write(data)\n",
        "                done = int(50 * dl / int(total_length))\n",
        "                sys.stdout.write(f\"\\r[{'=' * done}{' ' * (50-done)}] {dl} bytes downloaded\")\n",
        "                sys.stdout.flush()\n",
        "                data = fileres.read(CHUNK_SIZE)\n",
        "            if filename.endswith('.zip'):\n",
        "              with ZipFile(tfile) as zfile:\n",
        "                zfile.extractall(destination_path)\n",
        "            else:\n",
        "              with tarfile.open(tfile.name) as tarfile:\n",
        "                tarfile.extractall(destination_path)\n",
        "            print(f'\\nDownloaded and uncompressed: {directory}')\n",
        "    except HTTPError as e:\n",
        "        print(f'Failed to load (likely expired) {download_url} to path {destination_path}')\n",
        "        continue\n",
        "    except OSError as e:\n",
        "        print(f'Failed to load {download_url} to path {destination_path}')\n",
        "        continue\n",
        "\n",
        "print('Data source import complete.')\n"
      ],
      "metadata": {
        "colab": {
          "base_uri": "https://localhost:8080/"
        },
        "id": "szgufmtcC4Xy",
        "outputId": "497b323b-8ed1-47a0-8a60-edfcaaa25704"
      },
      "execution_count": 272,
      "outputs": [
        {
          "output_type": "stream",
          "name": "stdout",
          "text": [
            "Downloading aiim-emotion-classification, 18175099 bytes compressed\n",
            "[==================================================] 18175099 bytes downloaded\n",
            "Downloaded and uncompressed: aiim-emotion-classification\n",
            "Data source import complete.\n"
          ]
        }
      ]
    },
    {
      "cell_type": "code",
      "outputs": [
        {
          "output_type": "stream",
          "name": "stdout",
          "text": [
            "Num GPUs Available:  1\n"
          ]
        }
      ],
      "source": [
        "from keras.utils import image_dataset_from_directory, load_img, img_to_array\n",
        "from keras.models import Sequential\n",
        "from keras.layers import Conv2D, MaxPooling2D, Flatten, Dense, Dropout, BatchNormalization, RandomFlip, RandomRotation, RandomZoom, RandomContrast, RandomBrightness\n",
        "from keras.optimizers import Adam, SGD\n",
        "import matplotlib.pyplot as plt\n",
        "import pandas as pd\n",
        "import numpy as np\n",
        "from keras.callbacks import EarlyStopping, ReduceLROnPlateau, ModelCheckpoint\n",
        "import tensorflow as tf\n",
        "from sklearn.metrics import f1_score, confusion_matrix, classification_report\n",
        "import seaborn as sns\n",
        "import os\n",
        "from tensorflow.keras.optimizers.schedules import ExponentialDecay\n",
        "\n",
        "print(\"Num GPUs Available: \", len(tf.config.experimental.list_physical_devices('GPU')))\n"
      ],
      "metadata": {
        "is_executing": true,
        "colab": {
          "base_uri": "https://localhost:8080/"
        },
        "id": "kmmAbR6hBp9t",
        "outputId": "a31b2c12-dff5-4c03-d31b-c12ccdf2ffb3"
      },
      "execution_count": 273
    },
    {
      "cell_type": "code",
      "outputs": [],
      "source": [
        "base_directory = '/kaggle/input/aiim-emotion-classification/aiim-emotion-classification/'\n",
        "batch_size = 32\n",
        "epochs = 50"
      ],
      "metadata": {
        "ExecuteTime": {
          "end_time": "2024-05-29T11:01:32.566925Z",
          "start_time": "2024-05-29T11:01:32.563189Z"
        },
        "id": "TLPz1wGlBp9v"
      },
      "execution_count": 274
    },
    {
      "cell_type": "code",
      "source": [
        "# Documentation: https://keras.io/api/data_loading/image/\n",
        "train_ds, validation_ds = image_dataset_from_directory(\n",
        "    directory=base_directory + 'train/',\n",
        "    labels='inferred',\n",
        "    label_mode='categorical',\n",
        "    color_mode='grayscale',\n",
        "    batch_size=batch_size,\n",
        "    shuffle=True,\n",
        "    seed=420,\n",
        "    subset=\"both\",\n",
        "    validation_split=0.15,\n",
        "    image_size=(100, 100))\n",
        "\n",
        "\n",
        "class_names = train_ds.class_names\n",
        "\n",
        "print(train_ds.class_names)"
      ],
      "metadata": {
        "execution": {
          "iopub.status.busy": "2024-05-27T22:45:25.809783Z",
          "iopub.execute_input": "2024-05-27T22:45:25.810281Z",
          "iopub.status.idle": "2024-05-27T22:45:27.818454Z",
          "shell.execute_reply.started": "2024-05-27T22:45:25.810244Z",
          "shell.execute_reply": "2024-05-27T22:45:27.817191Z"
        },
        "trusted": true,
        "ExecuteTime": {
          "end_time": "2024-05-29T11:01:33.015404Z",
          "start_time": "2024-05-29T11:01:32.568930Z"
        },
        "colab": {
          "base_uri": "https://localhost:8080/"
        },
        "id": "C0DvGi95Bp9w",
        "outputId": "4ec3b7e2-22e0-4d5f-d63d-13f923346068"
      },
      "execution_count": 275,
      "outputs": [
        {
          "output_type": "stream",
          "name": "stdout",
          "text": [
            "Found 9108 files belonging to 5 classes.\n",
            "Using 7742 files for training.\n",
            "Using 1366 files for validation.\n",
            "['angry', 'fear', 'happy', 'sad', 'surprise']\n"
          ]
        }
      ]
    },
    {
      "cell_type": "markdown",
      "source": [
        "## Normalization"
      ],
      "metadata": {
        "id": "xU22__2yEhJo"
      }
    },
    {
      "cell_type": "code",
      "source": [
        "normalization_layer = tf.keras.layers.Rescaling(1./255)\n",
        "\n",
        "data_augmentation = tf.keras.Sequential([\n",
        "    # RandomFlip(\"horizontal\"),\n",
        "    # RandomRotation(0.01),\n",
        "    RandomZoom(height_factor=(0.1, 0.1), width_factor=(0.1, 0.1), fill_mode='constant', fill_value=0.0),\n",
        "    # RandomContrast(0.01),\n",
        "    # RandomBrightness(0.01)\n",
        "])\n",
        "validation_ds = validation_ds.map(lambda x, y: (normalization_layer(x), y))\n",
        "train_ds = train_ds.map(lambda x, y: (data_augmentation(normalization_layer(x), training=True), y))"
      ],
      "metadata": {
        "ExecuteTime": {
          "end_time": "2024-05-29T11:01:33.020603Z",
          "start_time": "2024-05-29T11:01:33.017424Z"
        },
        "id": "5HPvc0UJBp9w"
      },
      "execution_count": 276,
      "outputs": []
    },
    {
      "cell_type": "markdown",
      "source": [
        "# Convolutional Operation\n",
        "\n",
        "## Convolutional Layer 1\n",
        "* Number of input Channels: 1 (Greyscale)\n",
        "* Number of output Channels: 32\n",
        "* Kernel size: 3x3\n",
        "* Stride: 1\n",
        "* Padding: 1\n",
        "\n",
        "## Max Pooling Layer 1\n",
        "* Kernel size: 2x2\n",
        "* Stride: 2\n",
        "* Padding: 0\n",
        "\n",
        "## Convolutional Layer 2\n",
        "* Number of input Channels: 32\n",
        "* Number of output Channels: 64\n",
        "* kernel size: 3 (3x3 kernel)\n",
        "* Stride: 1\n",
        "* Padding 1\n",
        "\n",
        "## Max Pooling Layer 2\n",
        "* Kernel size: 2x2\n",
        "* Stride: 2\n",
        "* Padding: 0\n",
        "\n",
        "## Flatten Layer\n",
        "Converts the multi-dimensional output of the Convolutional and Pooling layers into a 1D vector.\n",
        "\n",
        "## Fully Connected Layer 1\n",
        "* Input features: 64 * 25 * 25 (output size after the second pooling layer, flattened)\n",
        "* Output features: 128\n",
        "\n",
        "## Fully Connected Layer 2\n",
        "* Input features: 128\n",
        "* Output features: Number of classes (5 different emotions)"
      ],
      "metadata": {
        "id": "KxZOrtjoBp9x"
      }
    },
    {
      "cell_type": "code",
      "source": [
        "model = Sequential([\n",
        "    Conv2D(filters=32, kernel_size=(3,3), activation='relu', input_shape=(100,100,1)),\n",
        "    Conv2D(filters=64, kernel_size=(3,3), activation='relu'),\n",
        "    MaxPooling2D(pool_size=(2,2)),\n",
        "    Dropout(0.25),\n",
        "\n",
        "\n",
        "    Conv2D(filters=128, kernel_size=(3,3), activation='relu'),\n",
        "    MaxPooling2D(pool_size=(2,2)),\n",
        "    Conv2D(filters=256, kernel_size=(3,3), activation='relu'),\n",
        "    MaxPooling2D(pool_size=(2,2)),\n",
        "    Dropout(0.25),\n",
        "\n",
        "    Flatten(),\n",
        "    Dense(1028, activation='relu', kernel_regularizer=\"l2\"),\n",
        "    Dropout(0.5),\n",
        "    Dense(5, activation='softmax')\n",
        "])\n",
        "model.summary()\n"
      ],
      "metadata": {
        "execution": {
          "iopub.status.busy": "2024-05-27T22:32:05.749473Z",
          "iopub.execute_input": "2024-05-27T22:32:05.749948Z",
          "iopub.status.idle": "2024-05-27T22:32:05.876351Z",
          "shell.execute_reply.started": "2024-05-27T22:32:05.749905Z",
          "shell.execute_reply": "2024-05-27T22:32:05.875032Z"
        },
        "trusted": true,
        "ExecuteTime": {
          "end_time": "2024-05-29T11:01:33.103456Z",
          "start_time": "2024-05-29T11:01:33.022638Z"
        },
        "id": "jDh-TMn3Bp9y",
        "colab": {
          "base_uri": "https://localhost:8080/"
        },
        "outputId": "ea7ca866-8bc9-4f8b-add5-bb89b3a5e36e"
      },
      "execution_count": 277,
      "outputs": [
        {
          "output_type": "stream",
          "name": "stdout",
          "text": [
            "Model: \"sequential_53\"\n",
            "_________________________________________________________________\n",
            " Layer (type)                Output Shape              Param #   \n",
            "=================================================================\n",
            " conv2d_116 (Conv2D)         (None, 98, 98, 32)        320       \n",
            "                                                                 \n",
            " conv2d_117 (Conv2D)         (None, 96, 96, 64)        18496     \n",
            "                                                                 \n",
            " max_pooling2d_86 (MaxPooli  (None, 48, 48, 64)        0         \n",
            " ng2D)                                                           \n",
            "                                                                 \n",
            " dropout_86 (Dropout)        (None, 48, 48, 64)        0         \n",
            "                                                                 \n",
            " conv2d_118 (Conv2D)         (None, 46, 46, 128)       73856     \n",
            "                                                                 \n",
            " max_pooling2d_87 (MaxPooli  (None, 23, 23, 128)       0         \n",
            " ng2D)                                                           \n",
            "                                                                 \n",
            " conv2d_119 (Conv2D)         (None, 21, 21, 256)       295168    \n",
            "                                                                 \n",
            " max_pooling2d_88 (MaxPooli  (None, 10, 10, 256)       0         \n",
            " ng2D)                                                           \n",
            "                                                                 \n",
            " dropout_87 (Dropout)        (None, 10, 10, 256)       0         \n",
            "                                                                 \n",
            " flatten_28 (Flatten)        (None, 25600)             0         \n",
            "                                                                 \n",
            " dense_56 (Dense)            (None, 1028)              26317828  \n",
            "                                                                 \n",
            " dropout_88 (Dropout)        (None, 1028)              0         \n",
            "                                                                 \n",
            " dense_57 (Dense)            (None, 5)                 5145      \n",
            "                                                                 \n",
            "=================================================================\n",
            "Total params: 26710813 (101.89 MB)\n",
            "Trainable params: 26710813 (101.89 MB)\n",
            "Non-trainable params: 0 (0.00 Byte)\n",
            "_________________________________________________________________\n"
          ]
        }
      ]
    },
    {
      "cell_type": "markdown",
      "source": [
        "Try Learning rate of 0.001"
      ],
      "metadata": {
        "id": "tQ9q0dI3Bp9y"
      }
    },
    {
      "cell_type": "code",
      "source": [
        "# Compile the model\n",
        "model.compile(loss=tf.keras.losses.CategoricalCrossentropy(),\n",
        "              optimizer='adam',\n",
        "              metrics=['accuracy'])\n",
        "\n",
        "# Callbacks\n",
        "early_stopping = EarlyStopping(monitor='val_loss', patience=5)\n",
        "reduce_lr = ReduceLROnPlateau(monitor='val_loss', factor=0.2, patience=3, min_lr=0.0001)\n",
        "\n",
        "\n",
        "\n",
        "# Training des Modells\n",
        "history = model.fit(train_ds, validation_data=validation_ds, epochs=epochs, batch_size=batch_size, callbacks=[early_stopping, reduce_lr])\n"
      ],
      "metadata": {
        "execution": {
          "iopub.status.busy": "2024-05-27T22:32:05.879266Z",
          "iopub.execute_input": "2024-05-27T22:32:05.879695Z",
          "iopub.status.idle": "2024-05-27T22:44:47.637392Z",
          "shell.execute_reply.started": "2024-05-27T22:32:05.879623Z",
          "shell.execute_reply": "2024-05-27T22:44:47.636238Z"
        },
        "trusted": true,
        "is_executing": true,
        "ExecuteTime": {
          "start_time": "2024-05-29T11:01:33.105464Z"
        },
        "colab": {
          "base_uri": "https://localhost:8080/"
        },
        "id": "X-ADG7CSBp9z",
        "outputId": "cb1b7cd7-6ac3-46f0-fd92-8a0259dbfc94"
      },
      "execution_count": 278,
      "outputs": [
        {
          "output_type": "stream",
          "name": "stdout",
          "text": [
            "Epoch 1/50\n",
            "242/242 [==============================] - 5s 11ms/step - loss: 2.1404 - accuracy: 0.2213 - val_loss: 1.6123 - val_accuracy: 0.2877 - lr: 0.0010\n",
            "Epoch 2/50\n",
            "242/242 [==============================] - 3s 10ms/step - loss: 1.6293 - accuracy: 0.2900 - val_loss: 1.6172 - val_accuracy: 0.3777 - lr: 0.0010\n",
            "Epoch 3/50\n",
            "242/242 [==============================] - 2s 10ms/step - loss: 1.6037 - accuracy: 0.3914 - val_loss: 1.5974 - val_accuracy: 0.3887 - lr: 0.0010\n",
            "Epoch 4/50\n",
            "242/242 [==============================] - 3s 10ms/step - loss: 1.5196 - accuracy: 0.4434 - val_loss: 1.4452 - val_accuracy: 0.4993 - lr: 0.0010\n",
            "Epoch 5/50\n",
            "242/242 [==============================] - 3s 10ms/step - loss: 1.4702 - accuracy: 0.4863 - val_loss: 1.4861 - val_accuracy: 0.4876 - lr: 0.0010\n",
            "Epoch 6/50\n",
            "242/242 [==============================] - 3s 10ms/step - loss: 1.4046 - accuracy: 0.5154 - val_loss: 1.4143 - val_accuracy: 0.5454 - lr: 0.0010\n",
            "Epoch 7/50\n",
            "242/242 [==============================] - 3s 10ms/step - loss: 1.3869 - accuracy: 0.5394 - val_loss: 1.3967 - val_accuracy: 0.5447 - lr: 0.0010\n",
            "Epoch 8/50\n",
            "242/242 [==============================] - 2s 10ms/step - loss: 1.3842 - accuracy: 0.5468 - val_loss: 1.4195 - val_accuracy: 0.5695 - lr: 0.0010\n",
            "Epoch 9/50\n",
            "242/242 [==============================] - 3s 10ms/step - loss: 1.3500 - accuracy: 0.5625 - val_loss: 1.3518 - val_accuracy: 0.5842 - lr: 0.0010\n",
            "Epoch 10/50\n",
            "242/242 [==============================] - 3s 10ms/step - loss: 1.3261 - accuracy: 0.5807 - val_loss: 1.3363 - val_accuracy: 0.5988 - lr: 0.0010\n",
            "Epoch 11/50\n",
            "242/242 [==============================] - 2s 10ms/step - loss: 1.3046 - accuracy: 0.5939 - val_loss: 1.3033 - val_accuracy: 0.6098 - lr: 0.0010\n",
            "Epoch 12/50\n",
            "242/242 [==============================] - 3s 10ms/step - loss: 1.2892 - accuracy: 0.5974 - val_loss: 1.3369 - val_accuracy: 0.5959 - lr: 0.0010\n",
            "Epoch 13/50\n",
            "242/242 [==============================] - 2s 10ms/step - loss: 1.2830 - accuracy: 0.6023 - val_loss: 1.2866 - val_accuracy: 0.6201 - lr: 0.0010\n",
            "Epoch 14/50\n",
            "242/242 [==============================] - 3s 10ms/step - loss: 1.2543 - accuracy: 0.6224 - val_loss: 1.3105 - val_accuracy: 0.6142 - lr: 0.0010\n",
            "Epoch 15/50\n",
            "242/242 [==============================] - 3s 10ms/step - loss: 1.2628 - accuracy: 0.6308 - val_loss: 1.3385 - val_accuracy: 0.6054 - lr: 0.0010\n",
            "Epoch 16/50\n",
            "242/242 [==============================] - 3s 10ms/step - loss: 1.2494 - accuracy: 0.6307 - val_loss: 1.3052 - val_accuracy: 0.6208 - lr: 0.0010\n",
            "Epoch 17/50\n",
            "242/242 [==============================] - 3s 10ms/step - loss: 1.1064 - accuracy: 0.6856 - val_loss: 1.2090 - val_accuracy: 0.6318 - lr: 2.0000e-04\n",
            "Epoch 18/50\n",
            "242/242 [==============================] - 3s 10ms/step - loss: 1.0206 - accuracy: 0.7061 - val_loss: 1.1496 - val_accuracy: 0.6471 - lr: 2.0000e-04\n",
            "Epoch 19/50\n",
            "242/242 [==============================] - 3s 10ms/step - loss: 0.9632 - accuracy: 0.7161 - val_loss: 1.1414 - val_accuracy: 0.6384 - lr: 2.0000e-04\n",
            "Epoch 20/50\n",
            "242/242 [==============================] - 3s 10ms/step - loss: 0.9267 - accuracy: 0.7282 - val_loss: 1.1295 - val_accuracy: 0.6479 - lr: 2.0000e-04\n",
            "Epoch 21/50\n",
            "242/242 [==============================] - 2s 10ms/step - loss: 0.8882 - accuracy: 0.7371 - val_loss: 1.1090 - val_accuracy: 0.6581 - lr: 2.0000e-04\n",
            "Epoch 22/50\n",
            "242/242 [==============================] - 3s 10ms/step - loss: 0.8703 - accuracy: 0.7412 - val_loss: 1.1138 - val_accuracy: 0.6603 - lr: 2.0000e-04\n",
            "Epoch 23/50\n",
            "242/242 [==============================] - 3s 11ms/step - loss: 0.8479 - accuracy: 0.7453 - val_loss: 1.1296 - val_accuracy: 0.6464 - lr: 2.0000e-04\n",
            "Epoch 24/50\n",
            "242/242 [==============================] - 3s 10ms/step - loss: 0.8268 - accuracy: 0.7613 - val_loss: 1.1009 - val_accuracy: 0.6559 - lr: 2.0000e-04\n",
            "Epoch 25/50\n",
            "242/242 [==============================] - 3s 10ms/step - loss: 0.8076 - accuracy: 0.7644 - val_loss: 1.1463 - val_accuracy: 0.6435 - lr: 2.0000e-04\n",
            "Epoch 26/50\n",
            "242/242 [==============================] - 3s 10ms/step - loss: 0.8015 - accuracy: 0.7641 - val_loss: 1.1421 - val_accuracy: 0.6479 - lr: 2.0000e-04\n",
            "Epoch 27/50\n",
            "242/242 [==============================] - 3s 10ms/step - loss: 0.8004 - accuracy: 0.7689 - val_loss: 1.1063 - val_accuracy: 0.6537 - lr: 2.0000e-04\n",
            "Epoch 28/50\n",
            "242/242 [==============================] - 2s 10ms/step - loss: 0.7377 - accuracy: 0.7928 - val_loss: 1.1202 - val_accuracy: 0.6545 - lr: 1.0000e-04\n",
            "Epoch 29/50\n",
            "242/242 [==============================] - 3s 10ms/step - loss: 0.7172 - accuracy: 0.7964 - val_loss: 1.1064 - val_accuracy: 0.6574 - lr: 1.0000e-04\n"
          ]
        }
      ]
    },
    {
      "cell_type": "code",
      "source": [
        "# Vorhersagen für die Validierungsdaten\n",
        "y_val_true = np.concatenate([y for x, y in validation_ds], axis=0)\n",
        "y_val_pred = model.predict(validation_ds)\n",
        "\n",
        "# Umwandeln der Vorhersagen in One-Hot-Format\n",
        "y_val_pred_classes = np.argmax(y_val_pred, axis=1)\n",
        "y_val_true_classes = np.argmax(y_val_true, axis=1)\n",
        "\n",
        "# F1-Score berechnen\n",
        "f1 = f1_score(y_val_true_classes, y_val_pred_classes, average='weighted')\n",
        "print(\"F1-Score: \", f1)"
      ],
      "metadata": {
        "id": "4HNlgG7KOYsU",
        "outputId": "7a61bd0c-33a6-4b51-de4e-2183b91232fc",
        "colab": {
          "base_uri": "https://localhost:8080/"
        }
      },
      "execution_count": 279,
      "outputs": [
        {
          "output_type": "stream",
          "name": "stdout",
          "text": [
            "43/43 [==============================] - 0s 3ms/step\n",
            "F1-Score:  0.6510972581927754\n"
          ]
        }
      ]
    },
    {
      "cell_type": "code",
      "source": [
        "# Confusion Matrix und Classification Report\n",
        "cm = confusion_matrix(y_val_true_classes, y_val_pred_classes)\n",
        "plt.figure(figsize=(10, 8))\n",
        "sns.heatmap(cm, annot=True, fmt='d', cmap='Blues', xticklabels=class_names, yticklabels=class_names)\n",
        "plt.xlabel('Predicted')\n",
        "plt.ylabel('True')\n",
        "plt.show()\n",
        "\n",
        "print(classification_report(y_val_true_classes, y_val_pred_classes, target_names=class_names))\n"
      ],
      "metadata": {
        "id": "J9Z4312kPv71",
        "outputId": "e557d983-b966-4055-c484-81d2e1971548",
        "colab": {
          "base_uri": "https://localhost:8080/",
          "height": 904
        }
      },
      "execution_count": 280,
      "outputs": [
        {
          "output_type": "display_data",
          "data": {
            "text/plain": [
              "<Figure size 1000x800 with 2 Axes>"
            ],
            "image/png": "[encoded data removed]"
          },
          "metadata": {}
        },
        {
          "output_type": "stream",
          "name": "stdout",
          "text": [
            "              precision    recall  f1-score   support\n",
            "\n",
            "       angry       0.64      0.64      0.64       278\n",
            "        fear       0.53      0.31      0.39       165\n",
            "       happy       0.75      0.74      0.74       295\n",
            "         sad       0.59      0.70      0.64       319\n",
            "    surprise       0.72      0.73      0.73       309\n",
            "\n",
            "    accuracy                           0.66      1366\n",
            "   macro avg       0.64      0.63      0.63      1366\n",
            "weighted avg       0.65      0.66      0.65      1366\n",
            "\n"
          ]
        }
      ]
    },
    {
      "cell_type": "code",
      "source": [
        "# Plot the loss and accuracy curves for training and validation\n",
        "plt.plot(history.history['val_loss'], color='b', label=\"validation loss\")\n",
        "plt.title(\"Test Loss\")\n",
        "plt.xlabel(\"Number of Epochs\")\n",
        "plt.ylabel(\"Loss\")\n",
        "plt.legend()\n",
        "plt.show()"
      ],
      "metadata": {
        "execution": {
          "iopub.status.busy": "2024-05-27T22:44:47.638812Z",
          "iopub.execute_input": "2024-05-27T22:44:47.639266Z",
          "iopub.status.idle": "2024-05-27T22:44:47.947255Z",
          "shell.execute_reply.started": "2024-05-27T22:44:47.639215Z",
          "shell.execute_reply": "2024-05-27T22:44:47.946049Z"
        },
        "trusted": true,
        "is_executing": true,
        "id": "dn7RMh5hBp9z",
        "outputId": "376acd21-a1aa-4e3a-a3c2-b388d01f707f",
        "colab": {
          "base_uri": "https://localhost:8080/",
          "height": 472
        }
      },
      "execution_count": 281,
      "outputs": [
        {
          "output_type": "display_data",
          "data": {
            "text/plain": [
              "<Figure size 640x480 with 1 Axes>"
            ],
            "image/png": "[encoded data removed]"
          },
          "metadata": {}
        }
      ]
    },
    {
      "cell_type": "markdown",
      "source": [
        "# Create Submission"
      ],
      "metadata": {
        "id": "NHwVgkLCBp90"
      }
    },
    {
      "cell_type": "code",
      "source": [
        "file_names = []\n",
        "images = []\n",
        "test_directory = base_directory + 'test/'\n",
        "\n",
        "for filename in os.listdir(test_directory):\n",
        "    if filename.endswith(\".jpg\"):\n",
        "        img_path = os.path.join(test_directory, filename)\n",
        "        img = load_img(img_path, target_size=(100,100), color_mode='grayscale')\n",
        "        img_array = img_to_array(img)\n",
        "        img_array = normalization_layer(img_array)\n",
        "        images.append(img_array)\n",
        "        file_names.append(filename)\n",
        "\n",
        "# In ein numpy Array konvertieren\n",
        "images_array = np.array(images)\n",
        "\n",
        "# Vorhersagen machen\n",
        "y_test = model.predict(images_array)\n",
        "y_pred_indices = np.argmax(y_test, axis=1)\n",
        "y_pred_labels = [class_names[idx] for idx in y_pred_indices]\n",
        "\n",
        "# DataFrame erstellen\n",
        "df = pd.DataFrame({\n",
        "    'Id': file_names,\n",
        "    'emotions': y_pred_labels\n",
        "})\n",
        "\n",
        "# DataFrame als CSV speichern\n",
        "df.to_csv('./submission.csv', index=False)"
      ],
      "metadata": {
        "execution": {
          "iopub.status.busy": "2024-05-27T22:44:47.948934Z",
          "iopub.execute_input": "2024-05-27T22:44:47.949415Z",
          "iopub.status.idle": "2024-05-27T22:44:55.557297Z",
          "shell.execute_reply.started": "2024-05-27T22:44:47.949373Z",
          "shell.execute_reply": "2024-05-27T22:44:55.556244Z"
        },
        "trusted": true,
        "is_executing": true,
        "id": "5-yfI29yBp90",
        "outputId": "5d6d3a1e-49ce-4281-eb13-a10ffa683f90",
        "colab": {
          "base_uri": "https://localhost:8080/"
        }
      },
      "execution_count": 282,
      "outputs": [
        {
          "output_type": "stream",
          "name": "stdout",
          "text": [
            "75/75 [==============================] - 0s 3ms/step\n"
          ]
        }
      ]
    }
  ]
}