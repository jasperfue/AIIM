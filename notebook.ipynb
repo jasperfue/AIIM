{
 "metadata": {
  "kernelspec": {
   "language": "python",
   "display_name": "Python 3",
   "name": "python3"
  },
  "language_info": {
   "name": "python",
   "version": "3.10.13",
   "mimetype": "text/x-python",
   "codemirror_mode": {
    "name": "ipython",
    "version": 3
   },
   "pygments_lexer": "ipython3",
   "nbconvert_exporter": "python",
   "file_extension": ".py"
  },
  "kaggle": {
   "accelerator": "none",
   "dataSources": [
    {
     "sourceId": 77823,
     "databundleVersionId": 8553100,
     "sourceType": "competition"
    }
   ],
   "dockerImageVersionId": 30698,
   "isInternetEnabled": false,
   "language": "python",
   "sourceType": "notebook",
   "isGpuEnabled": false
  }
 },
 "nbformat_minor": 4,
 "nbformat": 4,
 "cells": [
  {
   "cell_type": "code",
   "outputs": [],
   "source": [
    "from keras.utils import image_dataset_from_directory\n",
    "from keras.models import Sequential\n",
    "from keras.layers import Conv2D, MaxPooling2D, Flatten, Dense, Dropout, BatchNormalization\n",
    "from keras.optimizers import Adam\n",
    "import matplotlib.pyplot as plt\n",
    "import pandas as pd\n",
    "import numpy as np\n",
    "from keras.callbacks import EarlyStopping, ReduceLROnPlateau"
   ],
   "metadata": {
    "collapsed": false,
    "is_executing": true
   },
   "execution_count": null
  },
  {
   "cell_type": "code",
   "outputs": [],
   "source": [
    "base_directory = './data/aiim-emotion-classification/'"
   ],
   "metadata": {
    "collapsed": false,
    "ExecuteTime": {
     "end_time": "2024-05-29T11:01:32.566925Z",
     "start_time": "2024-05-29T11:01:32.563189Z"
    }
   },
   "execution_count": 24
  },
  {
   "cell_type": "code",
   "source": [
    "# Documentation: https://keras.io/api/data_loading/image/\n",
    "train_ds, validation_ds = image_dataset_from_directory(\n",
    "    directory=base_directory + 'train/',\n",
    "    labels='inferred',\n",
    "    label_mode='categorical',\n",
    "    color_mode='grayscale',\n",
    "    batch_size=64,\n",
    "    shuffle=True,\n",
    "    seed=420,\n",
    "    subset=\"both\",\n",
    "    validation_split=0.1,\n",
    "    image_size=(100, 100))\n",
    "\n",
    "\n",
    "class_names = train_ds.class_names\n",
    "\n",
    "print(train_ds)"
   ],
   "metadata": {
    "execution": {
     "iopub.status.busy": "2024-05-27T22:45:25.809783Z",
     "iopub.execute_input": "2024-05-27T22:45:25.810281Z",
     "iopub.status.idle": "2024-05-27T22:45:27.818454Z",
     "shell.execute_reply.started": "2024-05-27T22:45:25.810244Z",
     "shell.execute_reply": "2024-05-27T22:45:27.817191Z"
    },
    "trusted": true,
    "ExecuteTime": {
     "end_time": "2024-05-29T11:01:33.015404Z",
     "start_time": "2024-05-29T11:01:32.568930Z"
    }
   },
   "execution_count": 25,
   "outputs": [
    {
     "name": "stdout",
     "output_type": "stream",
     "text": [
      "Found 9108 files belonging to 5 classes.\n",
      "Using 8198 files for training.\n",
      "Using 910 files for validation.\n",
      "<_PrefetchDataset element_spec=(TensorSpec(shape=(None, 100, 100, 1), dtype=tf.float32, name=None), TensorSpec(shape=(None, 5), dtype=tf.float32, name=None))>\n"
     ]
    }
   ]
  },
  {
   "cell_type": "code",
   "source": [],
   "metadata": {
    "ExecuteTime": {
     "end_time": "2024-05-29T11:01:33.020603Z",
     "start_time": "2024-05-29T11:01:33.017424Z"
    }
   },
   "execution_count": 25,
   "outputs": []
  },
  {
   "cell_type": "markdown",
   "source": [
    "# Convolutional Operation\n",
    "\n",
    "## Convolutional Layer 1\n",
    "* Number of input Channels: 1 (Greyscale)\n",
    "* Number of output Channels: 32\n",
    "* Kernel size: 3x3\n",
    "* Stride: 1\n",
    "* Padding: 1\n",
    "\n",
    "## Max Pooling Layer 1\n",
    "* Kernel size: 2x2\n",
    "* Stride: 2\n",
    "* Padding: 0\n",
    "\n",
    "## Convolutional Layer 2\n",
    "* Number of input Channels: 32\n",
    "* Number of output Channels: 64\n",
    "* kernel size: 3 (3x3 kernel)\n",
    "* Stride: 1\n",
    "* Padding 1\n",
    "\n",
    "## Max Pooling Layer 2\n",
    "* Kernel size: 2x2\n",
    "* Stride: 2\n",
    "* Padding: 0\n",
    "\n",
    "## Flatten Layer\n",
    "Converts the multi-dimensional output of the Convolutional and Pooling layers into a 1D vector.\n",
    "\n",
    "## Fully Connected Layer 1\n",
    "* Input features: 64 * 25 * 25 (output size after the second pooling layer, flattened)\n",
    "* Output features: 128\n",
    "\n",
    "## Fully Connected Layer 2\n",
    "* Input features: 128\n",
    "* Output features: Number of classes (5 different emotions)"
   ],
   "metadata": {}
  },
  {
   "cell_type": "code",
   "source": [
    "model = Sequential()\n",
    "\n",
    "# Convolutional Layer 1\n",
    "model.add(Conv2D(filters=32, kernel_size=(3,3), padding='Same', activation='relu', input_shape=(100,100,1)))\n",
    "model.add(MaxPooling2D(pool_size=(2,2)))\n",
    "model.add(BatchNormalization())\n",
    "\n",
    "# Convolutional Layer 2\n",
    "model.add(Conv2D(filters=64, kernel_size=(3,3), padding='Same', activation='relu'))\n",
    "model.add(MaxPooling2D(pool_size=(2,2)))\n",
    "model.add(Dropout(0.25))\n",
    "model.add(BatchNormalization())\n",
    "\n",
    "model.add(Flatten())\n",
    "model.add(Dense(128, activation='relu', kernel_regularizer='l2'))\n",
    "model.add(Dropout(0.5))\n",
    "model.add(Dense(5, activation='softmax'))\n"
   ],
   "metadata": {
    "execution": {
     "iopub.status.busy": "2024-05-27T22:32:05.749473Z",
     "iopub.execute_input": "2024-05-27T22:32:05.749948Z",
     "iopub.status.idle": "2024-05-27T22:32:05.876351Z",
     "shell.execute_reply.started": "2024-05-27T22:32:05.749905Z",
     "shell.execute_reply": "2024-05-27T22:32:05.875032Z"
    },
    "trusted": true,
    "ExecuteTime": {
     "end_time": "2024-05-29T11:01:33.103456Z",
     "start_time": "2024-05-29T11:01:33.022638Z"
    }
   },
   "execution_count": 26,
   "outputs": [
    {
     "name": "stderr",
     "output_type": "stream",
     "text": [
      "C:\\Users\\Jasper\\anaconda3\\envs\\AIIM\\Lib\\site-packages\\keras\\layers\\convolutional\\base_conv.py:99: UserWarning: Do not pass an `input_shape`/`input_dim` argument to a layer. When using Sequential models, prefer using an `Input(shape)` object as the first layer in the model instead.\n",
      "  super().__init__(\n"
     ]
    }
   ]
  },
  {
   "cell_type": "markdown",
   "source": [
    "Try Learning rate of 0.001"
   ],
   "metadata": {}
  },
  {
   "cell_type": "code",
   "source": [
    "# Define the optimizer\n",
    "optimizer = Adam(learning_rate=0.001, beta_1=0.9, beta_2=0.999)\n",
    "\n",
    "\n",
    "# Compile the model\n",
    "model.compile(loss='categorical_crossentropy',\n",
    "              optimizer='adam',\n",
    "              metrics=['accuracy'])\n",
    "\n",
    "# Callbacks\n",
    "early_stopping = EarlyStopping(monitor='val_loss', patience=5, restore_best_weights=True)\n",
    "reduce_lr = ReduceLROnPlateau(monitor='val_loss', factor=0.2, patience=3, min_lr=0.0001)\n",
    "\n",
    "\n",
    "# Training des Modells\n",
    "history = model.fit(train_ds, validation_data=validation_ds, epochs=10, batch_size=64, callbacks=[early_stopping, reduce_lr])\n"
   ],
   "metadata": {
    "execution": {
     "iopub.status.busy": "2024-05-27T22:32:05.879266Z",
     "iopub.execute_input": "2024-05-27T22:32:05.879695Z",
     "iopub.status.idle": "2024-05-27T22:44:47.637392Z",
     "shell.execute_reply.started": "2024-05-27T22:32:05.879623Z",
     "shell.execute_reply": "2024-05-27T22:44:47.636238Z"
    },
    "trusted": true,
    "is_executing": true,
    "ExecuteTime": {
     "start_time": "2024-05-29T11:01:33.105464Z"
    }
   },
   "execution_count": null,
   "outputs": [
    {
     "name": "stdout",
     "output_type": "stream",
     "text": [
      "Epoch 1/10\n",
      "\u001B[1m129/129\u001B[0m \u001B[32m━━━━━━━━━━━━━━━━━━━━\u001B[0m\u001B[37m\u001B[0m \u001B[1m23s\u001B[0m 162ms/step - accuracy: 0.2361 - loss: 5.2762 - val_accuracy: 0.2143 - val_loss: 2.7012 - learning_rate: 0.0010\n",
      "Epoch 2/10\n",
      "\u001B[1m129/129\u001B[0m \u001B[32m━━━━━━━━━━━━━━━━━━━━\u001B[0m\u001B[37m\u001B[0m \u001B[1m18s\u001B[0m 136ms/step - accuracy: 0.2198 - loss: 2.3838 - val_accuracy: 0.2132 - val_loss: 1.8330 - learning_rate: 0.0010\n",
      "Epoch 3/10\n",
      "\u001B[1m129/129\u001B[0m \u001B[32m━━━━━━━━━━━━━━━━━━━━\u001B[0m\u001B[37m\u001B[0m \u001B[1m18s\u001B[0m 141ms/step - accuracy: 0.2115 - loss: 1.8116 - val_accuracy: 0.2176 - val_loss: 1.6700 - learning_rate: 0.0010\n",
      "Epoch 4/10\n",
      "\u001B[1m129/129\u001B[0m \u001B[32m━━━━━━━━━━━━━━━━━━━━\u001B[0m\u001B[37m\u001B[0m \u001B[1m17s\u001B[0m 134ms/step - accuracy: 0.2202 - loss: 1.6900 - val_accuracy: 0.2154 - val_loss: 1.6701 - learning_rate: 0.0010\n",
      "Epoch 5/10\n",
      "\u001B[1m129/129\u001B[0m \u001B[32m━━━━━━━━━━━━━━━━━━━━\u001B[0m\u001B[37m\u001B[0m \u001B[1m20s\u001B[0m 158ms/step - accuracy: 0.2304 - loss: 1.6938 - val_accuracy: 0.2154 - val_loss: 1.7077 - learning_rate: 0.0010\n",
      "Epoch 6/10\n",
      "\u001B[1m129/129\u001B[0m \u001B[32m━━━━━━━━━━━━━━━━━━━━\u001B[0m\u001B[37m\u001B[0m \u001B[1m19s\u001B[0m 146ms/step - accuracy: 0.2322 - loss: 1.7837 - val_accuracy: 0.2187 - val_loss: 2.0147 - learning_rate: 0.0010\n",
      "Epoch 7/10\n",
      "\u001B[1m 67/129\u001B[0m \u001B[32m━━━━━━━━━━\u001B[0m\u001B[37m━━━━━━━━━━\u001B[0m \u001B[1m7s\u001B[0m 129ms/step - accuracy: 0.2085 - loss: 1.9943"
     ]
    }
   ]
  },
  {
   "cell_type": "markdown",
   "source": [],
   "metadata": {}
  },
  {
   "cell_type": "code",
   "source": [
    "# Plot the loss and accuracy curves for training and validation \n",
    "plt.plot(history.history['val_loss'], color='b', label=\"validation loss\")\n",
    "plt.title(\"Test Loss\")\n",
    "plt.xlabel(\"Number of Epochs\")\n",
    "plt.ylabel(\"Loss\")\n",
    "plt.legend()\n",
    "plt.show()"
   ],
   "metadata": {
    "execution": {
     "iopub.status.busy": "2024-05-27T22:44:47.638812Z",
     "iopub.execute_input": "2024-05-27T22:44:47.639266Z",
     "iopub.status.idle": "2024-05-27T22:44:47.947255Z",
     "shell.execute_reply.started": "2024-05-27T22:44:47.639215Z",
     "shell.execute_reply": "2024-05-27T22:44:47.946049Z"
    },
    "trusted": true,
    "is_executing": true
   },
   "execution_count": null,
   "outputs": []
  },
  {
   "cell_type": "markdown",
   "source": [
    "# Create Submission"
   ],
   "metadata": {}
  },
  {
   "cell_type": "code",
   "source": [
    "test_ds = image_dataset_from_directory(\n",
    "    directory=base_directory + 'test/',\n",
    "    labels=None,\n",
    "    label_mode='categorical',\n",
    "    color_mode='grayscale',\n",
    "    batch_size=32,\n",
    "    shuffle=True,\n",
    "    seed=69,\n",
    "    image_size=(100, 100))\n",
    "\n",
    "\n",
    "y_test = model.predict(test_ds)\n",
    "\n",
    "# Bilddateinamen extrahieren\n",
    "file_paths = test_ds.file_paths\n",
    "file_names = [file_path.split('/')[-1] for file_path in file_paths]\n",
    "\n",
    "y_pred_indices = np.argmax(y_test, axis=1)\n",
    "\n",
    "# Numerische Labels in Kategorienamen umwandeln\n",
    "y_pred_labels = [class_names[idx] for idx in y_pred_indices]\n",
    "\n",
    "# DataFrame erstellen\n",
    "df = pd.DataFrame({\n",
    "    'Id': file_names,\n",
    "    'emotions': y_pred_labels\n",
    "})\n",
    "\n",
    "# DataFrame als CSV speichern\n",
    "df.to_csv('/submission.csv', index=False)\n",
    "\n",
    "print(df.describe())"
   ],
   "metadata": {
    "execution": {
     "iopub.status.busy": "2024-05-27T22:44:47.948934Z",
     "iopub.execute_input": "2024-05-27T22:44:47.949415Z",
     "iopub.status.idle": "2024-05-27T22:44:55.557297Z",
     "shell.execute_reply.started": "2024-05-27T22:44:47.949373Z",
     "shell.execute_reply": "2024-05-27T22:44:55.556244Z"
    },
    "trusted": true,
    "is_executing": true
   },
   "execution_count": null,
   "outputs": []
  }
 ]
}
