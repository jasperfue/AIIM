{
  "metadata": {
    "kernelspec": {
      "display_name": "Python 3",
      "name": "python3"
    },
    "language_info": {
      "name": "python",
      "version": "3.10.13",
      "mimetype": "text/x-python",
      "codemirror_mode": {
        "name": "ipython",
        "version": 3
      },
      "pygments_lexer": "ipython3",
      "nbconvert_exporter": "python",
      "file_extension": ".py"
    },
    "kaggle": {
      "accelerator": "none",
      "dataSources": [
        {
          "sourceId": 77823,
          "databundleVersionId": 8553100,
          "sourceType": "competition"
        }
      ],
      "dockerImageVersionId": 30698,
      "isInternetEnabled": false,
      "language": "python",
      "sourceType": "notebook",
      "isGpuEnabled": false
    },
    "colab": {
      "provenance": [],
      "gpuType": "L4"
    },
    "accelerator": "GPU"
  },
  "nbformat_minor": 0,
  "nbformat": 4,
  "cells": [
    {
      "cell_type": "markdown",
      "source": [
        "# (Optional) Load Data from Kaggle into Google Colab"
      ],
      "metadata": {
        "id": "LEVUbhDn3mi9"
      }
    },
    {
      "cell_type": "code",
      "source": [
        "\n",
        "# IMPORTANT: RUN THIS CELL IN ORDER TO IMPORT YOUR KAGGLE DATA SOURCES\n",
        "# TO THE CORRECT LOCATION (/kaggle/input) IN YOUR NOTEBOOK,\n",
        "# THEN FEEL FREE TO DELETE THIS CELL.\n",
        "# NOTE: THIS NOTEBOOK ENVIRONMENT DIFFERS FROM KAGGLE'S PYTHON\n",
        "# ENVIRONMENT SO THERE MAY BE MISSING LIBRARIES USED BY YOUR\n",
        "# NOTEBOOK.\n",
        "\n",
        "import os\n",
        "import sys\n",
        "from tempfile import NamedTemporaryFile\n",
        "from urllib.request import urlopen\n",
        "from urllib.parse import unquote, urlparse\n",
        "from urllib.error import HTTPError\n",
        "from zipfile import ZipFile\n",
        "import tarfile\n",
        "import shutil\n",
        "\n",
        "CHUNK_SIZE = 40960\n",
        "DATA_SOURCE_MAPPING = 'aiim-emotion-classification:https%3A%2F%2Fstorage.googleapis.com%2Fkaggle-competitions-data%2Fkaggle-v2%2F77823%2F8553100%2Fbundle%2Farchive.zip%3FX-Goog-Algorithm%3DGOOG4-RSA-SHA256%26X-Goog-Credential%3Dgcp-kaggle-com%2540kaggle-161607.iam.gserviceaccount.com%252F20240610%252Fauto%252Fstorage%252Fgoog4_request%26X-Goog-Date%3D20240610T220121Z%26X-Goog-Expires%3D259200%26X-Goog-SignedHeaders%3Dhost%26X-Goog-Signature%3D463ccdde275b65fe92666a59d75c072196373f7a14f1b8ea67e94aa7b5aef0e7b11403294a8632ed2a05aa1e5a8fc66177b5f07fef7cc7d74c8b79bda39ecf69151f6c6f55a881beb69e0d142111d86c15bd6599f6672966f056be351e01655db635a0ab79502f9a391586a2c2d8141d420ac1d7df1daafad062c2e2e5557af3723baa5fb7dad07845378030e874aa10bd33c176ff7720f8e455ae24e0cb9b76791c709c7faa1e854b6534f40e8aa118f8093c3f9ade37cb67a6a6521e3a8a1cf3a8e2b385d8409354559400cbe9f1b0b1a26ebc190c1c782a299319a6977dc63348392840949853ce1ff5bb82c770d93a63d285e3fa095a5467a9ca6f38f361'\n",
        "\n",
        "KAGGLE_INPUT_PATH='/kaggle/input'\n",
        "KAGGLE_WORKING_PATH='/kaggle/working'\n",
        "KAGGLE_SYMLINK='kaggle'\n",
        "\n",
        "!umount /kaggle/input/ 2> /dev/null\n",
        "shutil.rmtree('/kaggle/input', ignore_errors=True)\n",
        "os.makedirs(KAGGLE_INPUT_PATH, 0o777, exist_ok=True)\n",
        "os.makedirs(KAGGLE_WORKING_PATH, 0o777, exist_ok=True)\n",
        "\n",
        "try:\n",
        "  os.symlink(KAGGLE_INPUT_PATH, os.path.join(\"..\", 'input'), target_is_directory=True)\n",
        "except FileExistsError:\n",
        "  pass\n",
        "try:\n",
        "  os.symlink(KAGGLE_WORKING_PATH, os.path.join(\"..\", 'working'), target_is_directory=True)\n",
        "except FileExistsError:\n",
        "  pass\n",
        "\n",
        "for data_source_mapping in DATA_SOURCE_MAPPING.split(','):\n",
        "    directory, download_url_encoded = data_source_mapping.split(':')\n",
        "    download_url = unquote(download_url_encoded)\n",
        "    filename = urlparse(download_url).path\n",
        "    destination_path = os.path.join(KAGGLE_INPUT_PATH, directory)\n",
        "    try:\n",
        "        with urlopen(download_url) as fileres, NamedTemporaryFile() as tfile:\n",
        "            total_length = fileres.headers['content-length']\n",
        "            print(f'Downloading {directory}, {total_length} bytes compressed')\n",
        "            dl = 0\n",
        "            data = fileres.read(CHUNK_SIZE)\n",
        "            while len(data) > 0:\n",
        "                dl += len(data)\n",
        "                tfile.write(data)\n",
        "                done = int(50 * dl / int(total_length))\n",
        "                sys.stdout.write(f\"\\r[{'=' * done}{' ' * (50-done)}] {dl} bytes downloaded\")\n",
        "                sys.stdout.flush()\n",
        "                data = fileres.read(CHUNK_SIZE)\n",
        "            if filename.endswith('.zip'):\n",
        "              with ZipFile(tfile) as zfile:\n",
        "                zfile.extractall(destination_path)\n",
        "            else:\n",
        "              with tarfile.open(tfile.name) as tarfile:\n",
        "                tarfile.extractall(destination_path)\n",
        "            print(f'\\nDownloaded and uncompressed: {directory}')\n",
        "    except HTTPError as e:\n",
        "        print(f'Failed to load (likely expired) {download_url} to path {destination_path}')\n",
        "        continue\n",
        "    except OSError as e:\n",
        "        print(f'Failed to load {download_url} to path {destination_path}')\n",
        "        continue\n",
        "\n",
        "print('Data source import complete.')\n"
      ],
      "metadata": {
        "colab": {
          "base_uri": "https://localhost:8080/"
        },
        "id": "szgufmtcC4Xy",
        "outputId": "eeda3b12-f63a-41a8-a6c8-243f0c371e80"
      },
      "execution_count": 84,
      "outputs": [
        {
          "output_type": "stream",
          "name": "stdout",
          "text": [
            "Downloading aiim-emotion-classification, 18175099 bytes compressed\n",
            "[==================================================] 18175099 bytes downloaded\n",
            "Downloaded and uncompressed: aiim-emotion-classification\n",
            "Data source import complete.\n"
          ]
        }
      ]
    },
    {
      "cell_type": "markdown",
      "source": [
        "# Scratch model\n",
        "\n",
        "The first idea was to train and build a Convolutional Neural Network (CNN) from scratch. After evaluating different libraries like PyTorch and Tensorflow we decided to use keras."
      ],
      "metadata": {
        "id": "-5-p4fJk3wIN"
      }
    },
    {
      "cell_type": "markdown",
      "source": [
        "### Imports"
      ],
      "metadata": {
        "id": "y95gYaSb4v2U"
      }
    },
    {
      "cell_type": "code",
      "outputs": [
        {
          "output_type": "stream",
          "name": "stdout",
          "text": [
            "Num GPUs Available:  1\n"
          ]
        }
      ],
      "source": [
        "import matplotlib.pyplot as plt\n",
        "import pandas as pd\n",
        "import numpy as np\n",
        "import tensorflow as tf\n",
        "import seaborn as sns\n",
        "import os\n",
        "from keras.utils import image_dataset_from_directory, load_img, img_to_array\n",
        "from keras.models import Sequential\n",
        "from keras.layers import Conv2D, MaxPooling2D, Flatten, Dense, Dropout, BatchNormalization, RandomFlip, RandomRotation, RandomZoom, RandomContrast, RandomBrightness, Rescaling\n",
        "from keras.optimizers import Adam, SGD\n",
        "from keras.optimizers.schedules import ExponentialDecay\n",
        "from keras.callbacks import EarlyStopping, ReduceLROnPlateau, ModelCheckpoint\n",
        "from keras.losses import CategoricalCrossentropy\n",
        "from sklearn.metrics import f1_score, confusion_matrix, classification_report\n",
        "\n",
        "print(\"Num GPUs Available: \", len(tf.config.experimental.list_physical_devices('GPU')))\n"
      ],
      "metadata": {
        "is_executing": true,
        "colab": {
          "base_uri": "https://localhost:8080/"
        },
        "id": "kmmAbR6hBp9t",
        "outputId": "0ac1954d-88b3-4bb6-975a-1aa1c4c2f21c"
      },
      "execution_count": 85
    },
    {
      "cell_type": "markdown",
      "source": [
        "## Import the Data and Set Batch Size and Epochs\n",
        "\n",
        "### Import\n",
        "The Keras `image_dataset_from_directory` function provides the ability to load images and automatically assign labels based on their directory paths, which fits perfectly our data structure. Additionally, it allows for splitting the data into training and validation subsets and setting the batch size.\n",
        "\n",
        "### Batch Size and Epochs\n",
        "The choice of an appropriate batch size and number of epochs is influenced by the optimizer, learning rate, and many other factors. After testing different options, a batch size of 32 and 70 epochs was found to work well. Although 70 epochs might seem high, a technique is used that eventually reduces this number, making the training process more efficient."
      ],
      "metadata": {
        "id": "abiilRR345_R"
      }
    },
    {
      "cell_type": "code",
      "outputs": [],
      "source": [
        "base_directory = '/kaggle/input/aiim-emotion-classification/aiim-emotion-classification/'\n",
        "batch_size = 32\n",
        "epochs = 70"
      ],
      "metadata": {
        "ExecuteTime": {
          "end_time": "2024-05-29T11:01:32.566925Z",
          "start_time": "2024-05-29T11:01:32.563189Z"
        },
        "id": "TLPz1wGlBp9v"
      },
      "execution_count": 86
    },
    {
      "cell_type": "code",
      "source": [
        "# Documentation: https://keras.io/api/data_loading/image/\n",
        "train_ds, validation_ds = image_dataset_from_directory(\n",
        "    directory=base_directory + 'train/',\n",
        "    labels='inferred',\n",
        "    label_mode='categorical',\n",
        "    color_mode='grayscale',\n",
        "    batch_size=batch_size,\n",
        "    shuffle=True,\n",
        "    seed=420,\n",
        "    subset=\"both\",\n",
        "    validation_split=0.15,\n",
        "    image_size=(100, 100))\n",
        "\n",
        "\n",
        "class_names = train_ds.class_names\n",
        "\n",
        "print(train_ds.class_names)"
      ],
      "metadata": {
        "execution": {
          "iopub.status.busy": "2024-05-27T22:45:25.809783Z",
          "iopub.execute_input": "2024-05-27T22:45:25.810281Z",
          "iopub.status.idle": "2024-05-27T22:45:27.818454Z",
          "shell.execute_reply.started": "2024-05-27T22:45:25.810244Z",
          "shell.execute_reply": "2024-05-27T22:45:27.817191Z"
        },
        "trusted": true,
        "ExecuteTime": {
          "end_time": "2024-05-29T11:01:33.015404Z",
          "start_time": "2024-05-29T11:01:32.568930Z"
        },
        "colab": {
          "base_uri": "https://localhost:8080/"
        },
        "id": "C0DvGi95Bp9w",
        "outputId": "713c330a-ccfe-4463-d228-6c0b1a13058e"
      },
      "execution_count": 87,
      "outputs": [
        {
          "output_type": "stream",
          "name": "stdout",
          "text": [
            "Found 9108 files belonging to 5 classes.\n",
            "Using 7742 files for training.\n",
            "Using 1366 files for validation.\n",
            "['angry', 'fear', 'happy', 'sad', 'surprise']\n"
          ]
        }
      ]
    },
    {
      "cell_type": "markdown",
      "source": [
        "## Normalization and Random Image Augmentation\n",
        "\n",
        "### Normalization\n",
        "All pixels of the grayscale images have values between 0 and 255. These values are normalized to lie between 0 and 1 because it provides several benefits for training Convolutional Neural Networks (CNNs). It stabilizes and makes computations more efficient by keeping the input values within a consistent and small range. This helps avoid numerical instabilities and speeds up convergence during training. Overall, normalization leads to more stable, faster, and improved performance of the neural network.\n",
        "For consistency we have to normalize all data sets (train, validation, test).\n",
        "\n",
        "\n",
        "### Random Image Augmentation\n",
        "To decrease overfitting, we chose to use random data augmentation. This technique randomly modifies the images by, for example, rotating them, flipping them, zooming in or out, or adjusting the contrast and brightness. Keras provides various suitable image preprocessing layers for these augmentations. Selecting the appropriate layers and determining the correct parameters for the transformations is not an easy task.\n",
        "\n",
        "If the images are augmented too much, the model may struggle to identify the important features that determine the label. Conversely, if the augmentation is too minimal, it does not significantly enhance the model's generalization capabilities.\n",
        "\n",
        "In the end, we found that the best generalization was achieved by using a random rotation and a random zoom, which independently zooms in and out on each axis and therefore distorts the image to a certain factor.\n",
        "\n",
        "Random data augmentation is only applied to the training data since it is useful for training the model, but not for validating or testing it."
      ],
      "metadata": {
        "id": "xU22__2yEhJo"
      }
    },
    {
      "cell_type": "code",
      "source": [
        "normalization_layer = Rescaling(1./255)\n",
        "\n",
        "# Documentation: https://keras.io/api/layers/preprocessing_layers/image_augmentation/\n",
        "data_augmentation = Sequential([\n",
        "    # RandomFlip(\"horizontal\"),\n",
        "    RandomRotation(0.05),\n",
        "    RandomZoom(height_factor=(0.1, 0.1), width_factor=(0.1, 0.1), fill_mode='constant', fill_value=0.0),\n",
        "    # RandomContrast(0.01),\n",
        "    # RandomBrightness(0.01)\n",
        "])\n",
        "validation_ds = validation_ds.map(lambda x, y: (normalization_layer(x), y))\n",
        "train_ds = train_ds.map(lambda x, y: (data_augmentation(normalization_layer(x), training=True), y))"
      ],
      "metadata": {
        "ExecuteTime": {
          "end_time": "2024-05-29T11:01:33.020603Z",
          "start_time": "2024-05-29T11:01:33.017424Z"
        },
        "id": "5HPvc0UJBp9w"
      },
      "execution_count": 88,
      "outputs": []
    },
    {
      "cell_type": "markdown",
      "source": [
        "## Create CNN Model Structure\n",
        "\n",
        "### Convolutional Layer 1\n",
        "* Number of input Channels: 1 (Greyscale)\n",
        "* Number of output Channels: 32\n",
        "* Kernel size: 3x3\n",
        "* Stride: 1\n",
        "* Padding: 1\n",
        "* Activation: ReLU\n",
        "\n",
        "### Convolutional Layer 2\n",
        "* Number of input Channels: 32\n",
        "* Number of output Channels: 64\n",
        "* Kernel size: 3x3\n",
        "* Stride: 1\n",
        "* Padding: 1\n",
        "* Activation: ReLU\n",
        "\n",
        "### Max Pooling Layer 1\n",
        "* Kernel size: 2x2\n",
        "* Stride: 2\n",
        "* Padding: 0\n",
        "\n",
        "### Dropout Layer 1\n",
        "* Dropout rate: 0.25\n",
        "\n",
        "### Convolutional Layer 3\n",
        "* Number of input Channels: 64\n",
        "* Number of output Channels: 128\n",
        "* Kernel size: 3x3\n",
        "* Stride: 1\n",
        "* Padding: 1\n",
        "* Activation: ReLU\n",
        "\n",
        "### Max Pooling Layer 2\n",
        "* Kernel size: 2x2\n",
        "* Stride: 2\n",
        "* Padding: 0\n",
        "\n",
        "### Convolutional Layer 4\n",
        "* Number of input Channels: 128\n",
        "* Number of output Channels: 256\n",
        "* Kernel size: 3x3\n",
        "* Stride: 1\n",
        "* Padding: 1\n",
        "* Activation: ReLU\n",
        "\n",
        "### Max Pooling Layer 3\n",
        "* Kernel size: 2x2\n",
        "* Stride: 2\n",
        "* Padding: 0\n",
        "\n",
        "### Dropout Layer 2\n",
        "* Dropout rate: 0.25\n",
        "\n",
        "### Flatten Layer\n",
        "Converts the multi-dimensional output of the Convolutional and Pooling layers into a 1D vector.\n",
        "\n",
        "### Fully Connected Layer 1\n",
        "* Input features: Output size after the last pooling layer, flattened\n",
        "* Output features: 1028\n",
        "* Activation: ReLU\n",
        "* (Regularization: L2)\n",
        "\n",
        "### Dropout Layer 3\n",
        "* Dropout rate: 0.5\n",
        "\n",
        "### Fully Connected Layer 2\n",
        "* Input features: 1028\n",
        "* Output features: Number of classes (5 different emotions)\n",
        "* Activation: Softmax"
      ],
      "metadata": {
        "id": "KxZOrtjoBp9x"
      }
    },
    {
      "cell_type": "code",
      "source": [
        "model = Sequential([\n",
        "    Conv2D(filters=32, kernel_size=(3,3), activation='relu', input_shape=(100,100,1)),\n",
        "    Conv2D(filters=64, kernel_size=(3,3), activation='relu'),\n",
        "    MaxPooling2D(pool_size=(2,2)),\n",
        "    Dropout(0.25),\n",
        "\n",
        "\n",
        "    Conv2D(filters=128, kernel_size=(3,3), activation='relu'),\n",
        "    MaxPooling2D(pool_size=(2,2)),\n",
        "    Conv2D(filters=256, kernel_size=(3,3), activation='relu'),\n",
        "    MaxPooling2D(pool_size=(2,2)),\n",
        "    Dropout(0.25),\n",
        "\n",
        "    Flatten(),\n",
        "    Dense(1028, activation='relu', kernel_regularizer=\"l2\"),\n",
        "    Dropout(0.5),\n",
        "    Dense(5, activation='softmax')\n",
        "])\n",
        "model.summary()\n"
      ],
      "metadata": {
        "execution": {
          "iopub.status.busy": "2024-05-27T22:32:05.749473Z",
          "iopub.execute_input": "2024-05-27T22:32:05.749948Z",
          "iopub.status.idle": "2024-05-27T22:32:05.876351Z",
          "shell.execute_reply.started": "2024-05-27T22:32:05.749905Z",
          "shell.execute_reply": "2024-05-27T22:32:05.875032Z"
        },
        "trusted": true,
        "ExecuteTime": {
          "end_time": "2024-05-29T11:01:33.103456Z",
          "start_time": "2024-05-29T11:01:33.022638Z"
        },
        "id": "jDh-TMn3Bp9y",
        "colab": {
          "base_uri": "https://localhost:8080/"
        },
        "outputId": "b697660d-a0cd-4040-91c6-2a0c4df563cf"
      },
      "execution_count": 95,
      "outputs": [
        {
          "output_type": "stream",
          "name": "stdout",
          "text": [
            "Model: \"sequential_17\"\n",
            "_________________________________________________________________\n",
            " Layer (type)                Output Shape              Param #   \n",
            "=================================================================\n",
            " conv2d_36 (Conv2D)          (None, 98, 98, 32)        320       \n",
            "                                                                 \n",
            " conv2d_37 (Conv2D)          (None, 96, 96, 64)        18496     \n",
            "                                                                 \n",
            " max_pooling2d_27 (MaxPooli  (None, 48, 48, 64)        0         \n",
            " ng2D)                                                           \n",
            "                                                                 \n",
            " dropout_27 (Dropout)        (None, 48, 48, 64)        0         \n",
            "                                                                 \n",
            " conv2d_38 (Conv2D)          (None, 46, 46, 128)       73856     \n",
            "                                                                 \n",
            " max_pooling2d_28 (MaxPooli  (None, 23, 23, 128)       0         \n",
            " ng2D)                                                           \n",
            "                                                                 \n",
            " conv2d_39 (Conv2D)          (None, 21, 21, 256)       295168    \n",
            "                                                                 \n",
            " max_pooling2d_29 (MaxPooli  (None, 10, 10, 256)       0         \n",
            " ng2D)                                                           \n",
            "                                                                 \n",
            " dropout_28 (Dropout)        (None, 10, 10, 256)       0         \n",
            "                                                                 \n",
            " flatten_9 (Flatten)         (None, 25600)             0         \n",
            "                                                                 \n",
            " dense_18 (Dense)            (None, 1028)              26317828  \n",
            "                                                                 \n",
            " dropout_29 (Dropout)        (None, 1028)              0         \n",
            "                                                                 \n",
            " dense_19 (Dense)            (None, 5)                 5145      \n",
            "                                                                 \n",
            "=================================================================\n",
            "Total params: 26710813 (101.89 MB)\n",
            "Trainable params: 26710813 (101.89 MB)\n",
            "Non-trainable params: 0 (0.00 Byte)\n",
            "_________________________________________________________________\n"
          ]
        }
      ]
    },
    {
      "cell_type": "markdown",
      "source": [
        "Try Learning rate of 0.001"
      ],
      "metadata": {
        "id": "tQ9q0dI3Bp9y"
      }
    },
    {
      "cell_type": "code",
      "source": [
        "# Define the optimizer\n",
        "initial_learning_rate = 0.0001\n",
        "lr_schedule = ExponentialDecay(initial_learning_rate, decay_steps=100000, decay_rate=0.96)\n",
        "\n",
        "optimizer = Adam(learning_rate=lr_schedule)\n",
        "\n",
        "\n",
        "# Compile the model\n",
        "model.compile(loss=CategoricalCrossentropy(),\n",
        "              optimizer=optimizer,\n",
        "              metrics=['accuracy'])\n",
        "\n",
        "# Callbacks\n",
        "early_stopping = EarlyStopping(monitor='val_loss', patience=6, restore_best_weights=True)\n",
        "reduce_lr = ReduceLROnPlateau(monitor='val_loss', factor=0.2, patience=3, min_lr=0.0001)\n",
        "\n",
        "\n",
        "\n",
        "# Training des Modells\n",
        "history = model.fit(train_ds, validation_data=validation_ds, epochs=epochs, batch_size=batch_size, callbacks=[reduce_lr, early_stopping])\n"
      ],
      "metadata": {
        "execution": {
          "iopub.status.busy": "2024-05-27T22:32:05.879266Z",
          "iopub.execute_input": "2024-05-27T22:32:05.879695Z",
          "iopub.status.idle": "2024-05-27T22:44:47.637392Z",
          "shell.execute_reply.started": "2024-05-27T22:32:05.879623Z",
          "shell.execute_reply": "2024-05-27T22:44:47.636238Z"
        },
        "trusted": true,
        "is_executing": true,
        "ExecuteTime": {
          "start_time": "2024-05-29T11:01:33.105464Z"
        },
        "colab": {
          "base_uri": "https://localhost:8080/"
        },
        "id": "X-ADG7CSBp9z",
        "outputId": "a2a6ba3d-276f-4bf1-f8ef-cf0b2c758181"
      },
      "execution_count": null,
      "outputs": [
        {
          "output_type": "stream",
          "name": "stdout",
          "text": [
            "Epoch 1/70\n",
            "242/242 [==============================] - 10s 35ms/step - loss: 6.2094 - accuracy: 0.2378 - val_loss: 1.8961 - val_accuracy: 0.2357 - lr: 9.9990e-05\n",
            "Epoch 2/70\n",
            "242/242 [==============================] - 8s 35ms/step - loss: 1.6908 - accuracy: 0.3073 - val_loss: 1.5970 - val_accuracy: 0.3177 - lr: 9.9980e-05\n",
            "Epoch 3/70\n",
            "242/242 [==============================] - 8s 34ms/step - loss: 1.5513 - accuracy: 0.3999 - val_loss: 1.4852 - val_accuracy: 0.4634 - lr: 9.9970e-05\n",
            "Epoch 4/70\n",
            "242/242 [==============================] - 8s 34ms/step - loss: 1.4937 - accuracy: 0.4380 - val_loss: 1.4269 - val_accuracy: 0.4817 - lr: 9.9961e-05\n",
            "Epoch 5/70\n",
            "242/242 [==============================] - 8s 34ms/step - loss: 1.4358 - accuracy: 0.4831 - val_loss: 1.4039 - val_accuracy: 0.4978 - lr: 9.9951e-05\n",
            "Epoch 6/70\n",
            "242/242 [==============================] - 8s 34ms/step - loss: 1.3941 - accuracy: 0.5040 - val_loss: 1.3529 - val_accuracy: 0.5344 - lr: 9.9941e-05\n",
            "Epoch 7/70\n",
            "242/242 [==============================] - 8s 34ms/step - loss: 1.3647 - accuracy: 0.5247 - val_loss: 1.3301 - val_accuracy: 0.5329 - lr: 9.9931e-05\n",
            "Epoch 8/70\n",
            "242/242 [==============================] - 8s 34ms/step - loss: 1.3300 - accuracy: 0.5471 - val_loss: 1.3202 - val_accuracy: 0.5630 - lr: 9.9921e-05\n",
            "Epoch 9/70\n",
            "242/242 [==============================] - 8s 34ms/step - loss: 1.3205 - accuracy: 0.5501 - val_loss: 1.3509 - val_accuracy: 0.5351 - lr: 9.9911e-05\n",
            "Epoch 10/70\n",
            "242/242 [==============================] - 8s 34ms/step - loss: 1.2906 - accuracy: 0.5744 - val_loss: 1.2983 - val_accuracy: 0.5615 - lr: 9.9901e-05\n",
            "Epoch 11/70\n",
            "242/242 [==============================] - 8s 34ms/step - loss: 1.2807 - accuracy: 0.5787 - val_loss: 1.2931 - val_accuracy: 0.5827 - lr: 9.9891e-05\n",
            "Epoch 12/70\n",
            "242/242 [==============================] - 8s 34ms/step - loss: 1.2557 - accuracy: 0.5993 - val_loss: 1.2909 - val_accuracy: 0.5871 - lr: 9.9882e-05\n",
            "Epoch 13/70\n",
            "242/242 [==============================] - 8s 34ms/step - loss: 1.2362 - accuracy: 0.6125 - val_loss: 1.2907 - val_accuracy: 0.5988 - lr: 9.9872e-05\n",
            "Epoch 14/70\n",
            "242/242 [==============================] - 8s 34ms/step - loss: 1.2319 - accuracy: 0.6172 - val_loss: 1.3119 - val_accuracy: 0.5820 - lr: 9.9862e-05\n",
            "Epoch 15/70\n",
            "167/242 [===================>..........] - ETA: 2s - loss: 1.1976 - accuracy: 0.6349"
          ]
        }
      ]
    },
    {
      "cell_type": "code",
      "source": [
        "# Vorhersagen für die Validierungsdaten\n",
        "y_val_true = np.concatenate([y for x, y in validation_ds], axis=0)\n",
        "y_val_pred = model.predict(validation_ds)\n",
        "\n",
        "# Umwandeln der Vorhersagen in One-Hot-Format\n",
        "y_val_pred_classes = np.argmax(y_val_pred, axis=1)\n",
        "y_val_true_classes = np.argmax(y_val_true, axis=1)\n",
        "\n",
        "# F1-Score berechnen\n",
        "f1 = f1_score(y_val_true_classes, y_val_pred_classes, average='weighted')\n",
        "print(\"F1-Score: \", f1)"
      ],
      "metadata": {
        "id": "4HNlgG7KOYsU",
        "colab": {
          "base_uri": "https://localhost:8080/"
        },
        "outputId": "74ce9d21-4624-462a-e30c-c3b7166aa648"
      },
      "execution_count": 91,
      "outputs": [
        {
          "output_type": "stream",
          "name": "stdout",
          "text": [
            "43/43 [==============================] - 0s 6ms/step\n",
            "F1-Score:  0.6717293731391254\n"
          ]
        }
      ]
    },
    {
      "cell_type": "code",
      "source": [
        "# Confusion Matrix und Classification Report\n",
        "cm = confusion_matrix(y_val_true_classes, y_val_pred_classes)\n",
        "plt.figure(figsize=(10, 8))\n",
        "sns.heatmap(cm, annot=True, fmt='d', cmap='Blues', xticklabels=class_names, yticklabels=class_names)\n",
        "plt.xlabel('Predicted')\n",
        "plt.ylabel('True')\n",
        "plt.show()\n",
        "\n",
        "print(classification_report(y_val_true_classes, y_val_pred_classes, target_names=class_names))\n"
      ],
      "metadata": {
        "id": "J9Z4312kPv71",
        "colab": {
          "base_uri": "https://localhost:8080/",
          "height": 909
        },
        "outputId": "641418a9-9798-49fe-83fd-54d844f85bd7"
      },
      "execution_count": 92,
      "outputs": [
        {
          "output_type": "display_data",
          "data": {
            "text/plain": [
              "<Figure size 1000x800 with 2 Axes>"
            ],
            "image/png": "[encoded data removed]"
          },
          "metadata": {}
        },
        {
          "output_type": "stream",
          "name": "stdout",
          "text": [
            "              precision    recall  f1-score   support\n",
            "\n",
            "       angry       0.59      0.76      0.67       278\n",
            "        fear       0.63      0.42      0.51       165\n",
            "       happy       0.75      0.76      0.76       295\n",
            "         sad       0.64      0.61      0.63       319\n",
            "    surprise       0.75      0.71      0.73       309\n",
            "\n",
            "    accuracy                           0.67      1366\n",
            "   macro avg       0.67      0.65      0.66      1366\n",
            "weighted avg       0.68      0.67      0.67      1366\n",
            "\n"
          ]
        }
      ]
    },
    {
      "cell_type": "code",
      "source": [
        "# Plot the loss and accuracy curves for training and validation\n",
        "plt.plot(history.history['loss'], color='r', label=\"training loss\")\n",
        "plt.plot(history.history['val_loss'], color='b', label=\"validation loss\")\n",
        "plt.title(\"Loss\")\n",
        "plt.xlabel(\"Number of Epochs\")\n",
        "plt.ylabel(\"Value\")\n",
        "plt.legend()\n",
        "plt.show()"
      ],
      "metadata": {
        "execution": {
          "iopub.status.busy": "2024-05-27T22:44:47.638812Z",
          "iopub.execute_input": "2024-05-27T22:44:47.639266Z",
          "iopub.status.idle": "2024-05-27T22:44:47.947255Z",
          "shell.execute_reply.started": "2024-05-27T22:44:47.639215Z",
          "shell.execute_reply": "2024-05-27T22:44:47.946049Z"
        },
        "trusted": true,
        "is_executing": true,
        "id": "dn7RMh5hBp9z",
        "colab": {
          "base_uri": "https://localhost:8080/",
          "height": 472
        },
        "outputId": "581e6a69-1a97-4788-fc64-2c2b953ff2f5"
      },
      "execution_count": 93,
      "outputs": [
        {
          "output_type": "display_data",
          "data": {
            "text/plain": [
              "<Figure size 640x480 with 1 Axes>"
            ],
            "image/png": "[encoded data removed]"
          },
          "metadata": {}
        }
      ]
    },
    {
      "cell_type": "markdown",
      "source": [
        "# Create Submission"
      ],
      "metadata": {
        "id": "NHwVgkLCBp90"
      }
    },
    {
      "cell_type": "code",
      "source": [
        "file_names = []\n",
        "images = []\n",
        "test_directory = base_directory + 'test/'\n",
        "\n",
        "for filename in os.listdir(test_directory):\n",
        "    if filename.endswith(\".jpg\"):\n",
        "        img_path = os.path.join(test_directory, filename)\n",
        "        img = load_img(img_path, target_size=(100,100), color_mode='grayscale')\n",
        "        img_array = img_to_array(img)\n",
        "        img_array = normalization_layer(img_array)\n",
        "        images.append(img_array)\n",
        "        file_names.append(filename)\n",
        "\n",
        "# In ein numpy Array konvertieren\n",
        "images_array = np.array(images)\n",
        "\n",
        "# Vorhersagen machen\n",
        "y_test = model.predict(images_array)\n",
        "y_pred_indices = np.argmax(y_test, axis=1)\n",
        "y_pred_labels = [class_names[idx] for idx in y_pred_indices]\n",
        "\n",
        "# DataFrame erstellen\n",
        "df = pd.DataFrame({\n",
        "    'Id': file_names,\n",
        "    'emotions': y_pred_labels\n",
        "})\n",
        "\n",
        "# DataFrame als CSV speichern\n",
        "df.to_csv('./submission.csv', index=False)"
      ],
      "metadata": {
        "execution": {
          "iopub.status.busy": "2024-05-27T22:44:47.948934Z",
          "iopub.execute_input": "2024-05-27T22:44:47.949415Z",
          "iopub.status.idle": "2024-05-27T22:44:55.557297Z",
          "shell.execute_reply.started": "2024-05-27T22:44:47.949373Z",
          "shell.execute_reply": "2024-05-27T22:44:55.556244Z"
        },
        "trusted": true,
        "is_executing": true,
        "id": "5-yfI29yBp90",
        "colab": {
          "base_uri": "https://localhost:8080/"
        },
        "outputId": "4546b1c1-5606-4962-c746-db24a9ed866f"
      },
      "execution_count": 94,
      "outputs": [
        {
          "output_type": "stream",
          "name": "stdout",
          "text": [
            "75/75 [==============================] - 1s 6ms/step\n"
          ]
        }
      ]
    }
  ]
}