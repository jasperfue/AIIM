{
  "metadata": {
    "kernelspec": {
      "display_name": "Python 3",
      "name": "python3"
    },
    "language_info": {
      "name": "python",
      "version": "3.10.13",
      "mimetype": "text/x-python",
      "codemirror_mode": {
        "name": "ipython",
        "version": 3
      },
      "pygments_lexer": "ipython3",
      "nbconvert_exporter": "python",
      "file_extension": ".py"
    },
    "kaggle": {
      "accelerator": "none",
      "dataSources": [
        {
          "sourceId": 77823,
          "databundleVersionId": 8553100,
          "sourceType": "competition"
        }
      ],
      "dockerImageVersionId": 30698,
      "isInternetEnabled": false,
      "language": "python",
      "sourceType": "notebook",
      "isGpuEnabled": false
    },
    "colab": {
      "provenance": [],
      "gpuType": "L4"
    },
    "accelerator": "GPU"
  },
  "nbformat_minor": 0,
  "nbformat": 4,
  "cells": [
    {
      "cell_type": "code",
      "source": [
        "\n",
        "# IMPORTANT: RUN THIS CELL IN ORDER TO IMPORT YOUR KAGGLE DATA SOURCES\n",
        "# TO THE CORRECT LOCATION (/kaggle/input) IN YOUR NOTEBOOK,\n",
        "# THEN FEEL FREE TO DELETE THIS CELL.\n",
        "# NOTE: THIS NOTEBOOK ENVIRONMENT DIFFERS FROM KAGGLE'S PYTHON\n",
        "# ENVIRONMENT SO THERE MAY BE MISSING LIBRARIES USED BY YOUR\n",
        "# NOTEBOOK.\n",
        "\n",
        "import os\n",
        "import sys\n",
        "from tempfile import NamedTemporaryFile\n",
        "from urllib.request import urlopen\n",
        "from urllib.parse import unquote, urlparse\n",
        "from urllib.error import HTTPError\n",
        "from zipfile import ZipFile\n",
        "import tarfile\n",
        "import shutil\n",
        "\n",
        "CHUNK_SIZE = 40960\n",
        "DATA_SOURCE_MAPPING = 'aiim-emotion-classification:https%3A%2F%2Fstorage.googleapis.com%2Fkaggle-competitions-data%2Fkaggle-v2%2F77823%2F8553100%2Fbundle%2Farchive.zip%3FX-Goog-Algorithm%3DGOOG4-RSA-SHA256%26X-Goog-Credential%3Dgcp-kaggle-com%2540kaggle-161607.iam.gserviceaccount.com%252F20240601%252Fauto%252Fstorage%252Fgoog4_request%26X-Goog-Date%3D20240601T111253Z%26X-Goog-Expires%3D259200%26X-Goog-SignedHeaders%3Dhost%26X-Goog-Signature%3D54fc7bea13a77b2bcb329a259a65772bbebb7bb934623c671c05e01d26274ac9ecb6c956a15fe131580da94f76a7c78a7ab1f4d2cd5ce0dc06c1ad1222585434b04fb71d1236f5f46d2a3056a5b2e599cca9d9824003b1ba1259265810e95d87739d99a8d0f684ee6f495efc9d24eed161ab3b47cccf272a59442b1656fc687e245bae286a5cb83ca293b7cf03ddb3551d60eb683e8f05357902e3af4168d2f1052fd0f74463cc491cd8aaa0e26f40b2b2a756b6b6a6429a3a093a345e8540cb18372d8c9f64b2caddedd0596b647fa2764e531f5452d542ef34993beac3d10f4e452726e5fe00088687aeab2d43682025a0db6e03989fda602a39aa2706f968'\n",
        "\n",
        "KAGGLE_INPUT_PATH='/kaggle/input'\n",
        "KAGGLE_WORKING_PATH='/kaggle/working'\n",
        "KAGGLE_SYMLINK='kaggle'\n",
        "\n",
        "!umount /kaggle/input/ 2> /dev/null\n",
        "shutil.rmtree('/kaggle/input', ignore_errors=True)\n",
        "os.makedirs(KAGGLE_INPUT_PATH, 0o777, exist_ok=True)\n",
        "os.makedirs(KAGGLE_WORKING_PATH, 0o777, exist_ok=True)\n",
        "\n",
        "try:\n",
        "  os.symlink(KAGGLE_INPUT_PATH, os.path.join(\"..\", 'input'), target_is_directory=True)\n",
        "except FileExistsError:\n",
        "  pass\n",
        "try:\n",
        "  os.symlink(KAGGLE_WORKING_PATH, os.path.join(\"..\", 'working'), target_is_directory=True)\n",
        "except FileExistsError:\n",
        "  pass\n",
        "\n",
        "for data_source_mapping in DATA_SOURCE_MAPPING.split(','):\n",
        "    directory, download_url_encoded = data_source_mapping.split(':')\n",
        "    download_url = unquote(download_url_encoded)\n",
        "    filename = urlparse(download_url).path\n",
        "    destination_path = os.path.join(KAGGLE_INPUT_PATH, directory)\n",
        "    try:\n",
        "        with urlopen(download_url) as fileres, NamedTemporaryFile() as tfile:\n",
        "            total_length = fileres.headers['content-length']\n",
        "            print(f'Downloading {directory}, {total_length} bytes compressed')\n",
        "            dl = 0\n",
        "            data = fileres.read(CHUNK_SIZE)\n",
        "            while len(data) > 0:\n",
        "                dl += len(data)\n",
        "                tfile.write(data)\n",
        "                done = int(50 * dl / int(total_length))\n",
        "                sys.stdout.write(f\"\\r[{'=' * done}{' ' * (50-done)}] {dl} bytes downloaded\")\n",
        "                sys.stdout.flush()\n",
        "                data = fileres.read(CHUNK_SIZE)\n",
        "            if filename.endswith('.zip'):\n",
        "              with ZipFile(tfile) as zfile:\n",
        "                zfile.extractall(destination_path)\n",
        "            else:\n",
        "              with tarfile.open(tfile.name) as tarfile:\n",
        "                tarfile.extractall(destination_path)\n",
        "            print(f'\\nDownloaded and uncompressed: {directory}')\n",
        "    except HTTPError as e:\n",
        "        print(f'Failed to load (likely expired) {download_url} to path {destination_path}')\n",
        "        continue\n",
        "    except OSError as e:\n",
        "        print(f'Failed to load {download_url} to path {destination_path}')\n",
        "        continue\n",
        "\n",
        "print('Data source import complete.')\n"
      ],
      "metadata": {
        "colab": {
          "base_uri": "https://localhost:8080/"
        },
        "id": "szgufmtcC4Xy",
        "outputId": "a3e9eeae-7604-40a8-8048-9c9d5aebabf2"
      },
      "execution_count": 144,
      "outputs": [
        {
          "output_type": "stream",
          "name": "stdout",
          "text": [
            "Downloading aiim-emotion-classification, 18175099 bytes compressed\n",
            "[==================================================] 18175099 bytes downloaded\n",
            "Downloaded and uncompressed: aiim-emotion-classification\n",
            "Data source import complete.\n"
          ]
        }
      ]
    },
    {
      "cell_type": "code",
      "outputs": [
        {
          "output_type": "stream",
          "name": "stdout",
          "text": [
            "Num GPUs Available:  1\n"
          ]
        }
      ],
      "source": [
        "from keras.utils import image_dataset_from_directory, load_img, img_to_array\n",
        "from keras.models import Sequential\n",
        "from keras.layers import Conv2D, MaxPooling2D, Flatten, Dense, Dropout, BatchNormalization, RandomFlip, RandomRotation, RandomZoom, RandomContrast, RandomBrightness\n",
        "from keras.optimizers import Adam, SGD\n",
        "import matplotlib.pyplot as plt\n",
        "import pandas as pd\n",
        "import numpy as np\n",
        "from keras.callbacks import EarlyStopping, ReduceLROnPlateau, ModelCheckpoint\n",
        "import tensorflow as tf\n",
        "from sklearn.metrics import f1_score, confusion_matrix, classification_report\n",
        "import seaborn as sns\n",
        "import os\n",
        "from tensorflow.keras.optimizers.schedules import ExponentialDecay\n",
        "\n",
        "print(\"Num GPUs Available: \", len(tf.config.experimental.list_physical_devices('GPU')))\n"
      ],
      "metadata": {
        "is_executing": true,
        "colab": {
          "base_uri": "https://localhost:8080/"
        },
        "id": "kmmAbR6hBp9t",
        "outputId": "8104de1c-f71e-41dc-c08e-0dafbe85f9d2"
      },
      "execution_count": 145
    },
    {
      "cell_type": "code",
      "outputs": [],
      "source": [
        "base_directory = '/kaggle/input/aiim-emotion-classification/aiim-emotion-classification/'\n",
        "batch_size = 64\n",
        "epochs = 50"
      ],
      "metadata": {
        "ExecuteTime": {
          "end_time": "2024-05-29T11:01:32.566925Z",
          "start_time": "2024-05-29T11:01:32.563189Z"
        },
        "id": "TLPz1wGlBp9v"
      },
      "execution_count": 146
    },
    {
      "cell_type": "code",
      "source": [
        "# Documentation: https://keras.io/api/data_loading/image/\n",
        "train_ds, validation_ds = image_dataset_from_directory(\n",
        "    directory=base_directory + 'train/',\n",
        "    labels='inferred',\n",
        "    label_mode='categorical',\n",
        "    color_mode='grayscale',\n",
        "    batch_size=batch_size,\n",
        "    shuffle=True,\n",
        "    seed=420,\n",
        "    subset=\"both\",\n",
        "    validation_split=0.15,\n",
        "    image_size=(100, 100))\n",
        "\n",
        "\n",
        "class_names = train_ds.class_names\n",
        "\n",
        "print(train_ds.class_names)"
      ],
      "metadata": {
        "execution": {
          "iopub.status.busy": "2024-05-27T22:45:25.809783Z",
          "iopub.execute_input": "2024-05-27T22:45:25.810281Z",
          "iopub.status.idle": "2024-05-27T22:45:27.818454Z",
          "shell.execute_reply.started": "2024-05-27T22:45:25.810244Z",
          "shell.execute_reply": "2024-05-27T22:45:27.817191Z"
        },
        "trusted": true,
        "ExecuteTime": {
          "end_time": "2024-05-29T11:01:33.015404Z",
          "start_time": "2024-05-29T11:01:32.568930Z"
        },
        "colab": {
          "base_uri": "https://localhost:8080/"
        },
        "id": "C0DvGi95Bp9w",
        "outputId": "ef7bca05-7f3a-4f41-9cb0-8877faff62ed"
      },
      "execution_count": 147,
      "outputs": [
        {
          "output_type": "stream",
          "name": "stdout",
          "text": [
            "Found 9108 files belonging to 5 classes.\n",
            "Using 7742 files for training.\n",
            "Using 1366 files for validation.\n",
            "['angry', 'fear', 'happy', 'sad', 'surprise']\n"
          ]
        }
      ]
    },
    {
      "cell_type": "markdown",
      "source": [
        "## Normalization"
      ],
      "metadata": {
        "id": "xU22__2yEhJo"
      }
    },
    {
      "cell_type": "code",
      "source": [
        "normalization_layer = tf.keras.layers.Rescaling(1./255)\n",
        "\n",
        "data_augmentation = tf.keras.Sequential([\n",
        "    # RandomFlip(\"horizontal_and_vertical\"),\n",
        "    RandomRotation(0.1),\n",
        "    RandomZoom(height_factor=(0.1, 0.1), width_factor=(0.1, 0.1), fill_mode='constant', fill_value=0.0),\n",
        "    # RandomContrast(0.001),\n",
        "    # RandomBrightness(0.001)\n",
        "])\n",
        "validation_ds = validation_ds.map(lambda x, y: (normalization_layer(x), y))\n",
        "train_ds = train_ds.map(lambda x, y: (data_augmentation(normalization_layer(x), training=True), y))"
      ],
      "metadata": {
        "ExecuteTime": {
          "end_time": "2024-05-29T11:01:33.020603Z",
          "start_time": "2024-05-29T11:01:33.017424Z"
        },
        "id": "5HPvc0UJBp9w"
      },
      "execution_count": 148,
      "outputs": []
    },
    {
      "cell_type": "markdown",
      "source": [
        "# Convolutional Operation\n",
        "\n",
        "## Convolutional Layer 1\n",
        "* Number of input Channels: 1 (Greyscale)\n",
        "* Number of output Channels: 32\n",
        "* Kernel size: 3x3\n",
        "* Stride: 1\n",
        "* Padding: 1\n",
        "\n",
        "## Max Pooling Layer 1\n",
        "* Kernel size: 2x2\n",
        "* Stride: 2\n",
        "* Padding: 0\n",
        "\n",
        "## Convolutional Layer 2\n",
        "* Number of input Channels: 32\n",
        "* Number of output Channels: 64\n",
        "* kernel size: 3 (3x3 kernel)\n",
        "* Stride: 1\n",
        "* Padding 1\n",
        "\n",
        "## Max Pooling Layer 2\n",
        "* Kernel size: 2x2\n",
        "* Stride: 2\n",
        "* Padding: 0\n",
        "\n",
        "## Flatten Layer\n",
        "Converts the multi-dimensional output of the Convolutional and Pooling layers into a 1D vector.\n",
        "\n",
        "## Fully Connected Layer 1\n",
        "* Input features: 64 * 25 * 25 (output size after the second pooling layer, flattened)\n",
        "* Output features: 128\n",
        "\n",
        "## Fully Connected Layer 2\n",
        "* Input features: 128\n",
        "* Output features: Number of classes (5 different emotions)"
      ],
      "metadata": {
        "id": "KxZOrtjoBp9x"
      }
    },
    {
      "cell_type": "code",
      "source": [
        "model = Sequential([\n",
        "    Conv2D(filters=32, kernel_size=(3,3), activation='relu', input_shape=(100,100,1)),\n",
        "    Conv2D(filters=64, kernel_size=(3,3), activation='relu'),\n",
        "    MaxPooling2D(pool_size=(2,2)),\n",
        "    Dropout(0.25),\n",
        "\n",
        "\n",
        "    Conv2D(filters=128, kernel_size=(3,3), activation='relu'),\n",
        "    MaxPooling2D(pool_size=(2,2)),\n",
        "    Conv2D(filters=128, kernel_size=(3,3), activation='relu'),\n",
        "    MaxPooling2D(pool_size=(2,2)),\n",
        "    Dropout(0.25),\n",
        "\n",
        "    Flatten(),\n",
        "    Dense(1028, activation='relu'),\n",
        "    Dropout(0.5),\n",
        "    Dense(5, activation='softmax')\n",
        "])\n",
        "model.summary()\n"
      ],
      "metadata": {
        "execution": {
          "iopub.status.busy": "2024-05-27T22:32:05.749473Z",
          "iopub.execute_input": "2024-05-27T22:32:05.749948Z",
          "iopub.status.idle": "2024-05-27T22:32:05.876351Z",
          "shell.execute_reply.started": "2024-05-27T22:32:05.749905Z",
          "shell.execute_reply": "2024-05-27T22:32:05.875032Z"
        },
        "trusted": true,
        "ExecuteTime": {
          "end_time": "2024-05-29T11:01:33.103456Z",
          "start_time": "2024-05-29T11:01:33.022638Z"
        },
        "id": "jDh-TMn3Bp9y",
        "colab": {
          "base_uri": "https://localhost:8080/"
        },
        "outputId": "de16d740-283f-475c-af37-ba0254b666e5"
      },
      "execution_count": 149,
      "outputs": [
        {
          "output_type": "stream",
          "name": "stdout",
          "text": [
            "Model: \"sequential_30\"\n",
            "_________________________________________________________________\n",
            " Layer (type)                Output Shape              Param #   \n",
            "=================================================================\n",
            " conv2d_60 (Conv2D)          (None, 98, 98, 32)        320       \n",
            "                                                                 \n",
            " conv2d_61 (Conv2D)          (None, 96, 96, 64)        18496     \n",
            "                                                                 \n",
            " max_pooling2d_45 (MaxPooli  (None, 48, 48, 64)        0         \n",
            " ng2D)                                                           \n",
            "                                                                 \n",
            " dropout_45 (Dropout)        (None, 48, 48, 64)        0         \n",
            "                                                                 \n",
            " conv2d_62 (Conv2D)          (None, 46, 46, 128)       73856     \n",
            "                                                                 \n",
            " max_pooling2d_46 (MaxPooli  (None, 23, 23, 128)       0         \n",
            " ng2D)                                                           \n",
            "                                                                 \n",
            " conv2d_63 (Conv2D)          (None, 21, 21, 128)       147584    \n",
            "                                                                 \n",
            " max_pooling2d_47 (MaxPooli  (None, 10, 10, 128)       0         \n",
            " ng2D)                                                           \n",
            "                                                                 \n",
            " dropout_46 (Dropout)        (None, 10, 10, 128)       0         \n",
            "                                                                 \n",
            " flatten_15 (Flatten)        (None, 12800)             0         \n",
            "                                                                 \n",
            " dense_30 (Dense)            (None, 1028)              13159428  \n",
            "                                                                 \n",
            " dropout_47 (Dropout)        (None, 1028)              0         \n",
            "                                                                 \n",
            " dense_31 (Dense)            (None, 5)                 5145      \n",
            "                                                                 \n",
            "=================================================================\n",
            "Total params: 13404829 (51.14 MB)\n",
            "Trainable params: 13404829 (51.14 MB)\n",
            "Non-trainable params: 0 (0.00 Byte)\n",
            "_________________________________________________________________\n"
          ]
        }
      ]
    },
    {
      "cell_type": "markdown",
      "source": [
        "Try Learning rate of 0.001"
      ],
      "metadata": {
        "id": "tQ9q0dI3Bp9y"
      }
    },
    {
      "cell_type": "code",
      "source": [
        "# Define the optimizer\n",
        "initial_learning_rate = 0.00015\n",
        "lr_schedule = ExponentialDecay(initial_learning_rate, decay_steps=100000, decay_rate=0.96)\n",
        "\n",
        "optimizer = Adam(learning_rate=lr_schedule)\n",
        "\n",
        "\n",
        "# Compile the model\n",
        "model.compile(loss=tf.keras.losses.CategoricalCrossentropy(),\n",
        "              optimizer=optimizer,\n",
        "              metrics=['accuracy'])\n",
        "\n",
        "# Callbacks\n",
        "early_stopping = EarlyStopping(monitor='val_accuracy', patience=6, restore_best_weights=True)\n",
        "reduce_lr = ReduceLROnPlateau(monitor='val_accuracy', factor=0.2, patience=3, min_lr=0.0001)\n",
        "\n",
        "\n",
        "\n",
        "# Training des Modells\n",
        "history = model.fit(train_ds, validation_data=validation_ds, epochs=epochs, batch_size=batch_size, callbacks=[reduce_lr, early_stopping])\n"
      ],
      "metadata": {
        "execution": {
          "iopub.status.busy": "2024-05-27T22:32:05.879266Z",
          "iopub.execute_input": "2024-05-27T22:32:05.879695Z",
          "iopub.status.idle": "2024-05-27T22:44:47.637392Z",
          "shell.execute_reply.started": "2024-05-27T22:32:05.879623Z",
          "shell.execute_reply": "2024-05-27T22:44:47.636238Z"
        },
        "trusted": true,
        "is_executing": true,
        "ExecuteTime": {
          "start_time": "2024-05-29T11:01:33.105464Z"
        },
        "colab": {
          "base_uri": "https://localhost:8080/"
        },
        "id": "X-ADG7CSBp9z",
        "outputId": "c45ed6c8-62a0-44a4-e2b7-c4ac95067090"
      },
      "execution_count": 150,
      "outputs": [
        {
          "output_type": "stream",
          "name": "stdout",
          "text": [
            "Epoch 1/50\n",
            "121/121 [==============================] - 9s 55ms/step - loss: 1.5893 - accuracy: 0.2325 - val_loss: 1.5915 - val_accuracy: 0.2474 - lr: 1.4999e-04\n",
            "Epoch 2/50\n",
            "121/121 [==============================] - 7s 54ms/step - loss: 1.5580 - accuracy: 0.2911 - val_loss: 1.5238 - val_accuracy: 0.3411 - lr: 1.4999e-04\n",
            "Epoch 3/50\n",
            "121/121 [==============================] - 7s 54ms/step - loss: 1.5037 - accuracy: 0.3410 - val_loss: 1.4797 - val_accuracy: 0.3858 - lr: 1.4998e-04\n",
            "Epoch 4/50\n",
            "121/121 [==============================] - 7s 54ms/step - loss: 1.4506 - accuracy: 0.3852 - val_loss: 1.4010 - val_accuracy: 0.4187 - lr: 1.4997e-04\n",
            "Epoch 5/50\n",
            "121/121 [==============================] - 7s 54ms/step - loss: 1.3780 - accuracy: 0.4246 - val_loss: 1.3844 - val_accuracy: 0.4078 - lr: 1.4996e-04\n",
            "Epoch 6/50\n",
            "121/121 [==============================] - 7s 54ms/step - loss: 1.2987 - accuracy: 0.4747 - val_loss: 1.2349 - val_accuracy: 0.4971 - lr: 1.4996e-04\n",
            "Epoch 7/50\n",
            "121/121 [==============================] - 7s 54ms/step - loss: 1.2343 - accuracy: 0.5050 - val_loss: 1.1978 - val_accuracy: 0.5161 - lr: 1.4995e-04\n",
            "Epoch 8/50\n",
            "121/121 [==============================] - 7s 54ms/step - loss: 1.1790 - accuracy: 0.5309 - val_loss: 1.1458 - val_accuracy: 0.5439 - lr: 1.4994e-04\n",
            "Epoch 9/50\n",
            "121/121 [==============================] - 7s 54ms/step - loss: 1.1268 - accuracy: 0.5506 - val_loss: 1.1046 - val_accuracy: 0.5725 - lr: 1.4993e-04\n",
            "Epoch 10/50\n",
            "121/121 [==============================] - 7s 54ms/step - loss: 1.1005 - accuracy: 0.5673 - val_loss: 1.1096 - val_accuracy: 0.5652 - lr: 1.4993e-04\n",
            "Epoch 11/50\n",
            "121/121 [==============================] - 7s 54ms/step - loss: 1.0704 - accuracy: 0.5793 - val_loss: 1.0975 - val_accuracy: 0.5622 - lr: 1.4992e-04\n",
            "Epoch 12/50\n",
            "121/121 [==============================] - 7s 54ms/step - loss: 1.0351 - accuracy: 0.6004 - val_loss: 1.0443 - val_accuracy: 0.5864 - lr: 1.4991e-04\n",
            "Epoch 13/50\n",
            "121/121 [==============================] - 7s 54ms/step - loss: 0.9962 - accuracy: 0.6111 - val_loss: 1.0308 - val_accuracy: 0.5813 - lr: 1.4990e-04\n",
            "Epoch 14/50\n",
            "121/121 [==============================] - 7s 54ms/step - loss: 0.9768 - accuracy: 0.6236 - val_loss: 1.0257 - val_accuracy: 0.5937 - lr: 1.4990e-04\n",
            "Epoch 15/50\n",
            "121/121 [==============================] - 7s 54ms/step - loss: 0.9437 - accuracy: 0.6314 - val_loss: 0.9999 - val_accuracy: 0.6025 - lr: 1.4989e-04\n",
            "Epoch 16/50\n",
            "121/121 [==============================] - 7s 54ms/step - loss: 0.9151 - accuracy: 0.6501 - val_loss: 0.9808 - val_accuracy: 0.6127 - lr: 1.4988e-04\n",
            "Epoch 17/50\n",
            "121/121 [==============================] - 7s 54ms/step - loss: 0.8931 - accuracy: 0.6577 - val_loss: 1.0432 - val_accuracy: 0.5725 - lr: 1.4987e-04\n",
            "Epoch 18/50\n",
            "121/121 [==============================] - 7s 54ms/step - loss: 0.8641 - accuracy: 0.6764 - val_loss: 0.9734 - val_accuracy: 0.6230 - lr: 1.4987e-04\n",
            "Epoch 19/50\n",
            "121/121 [==============================] - 7s 54ms/step - loss: 0.8422 - accuracy: 0.6768 - val_loss: 0.9564 - val_accuracy: 0.6266 - lr: 1.4986e-04\n",
            "Epoch 20/50\n",
            "121/121 [==============================] - 7s 54ms/step - loss: 0.8151 - accuracy: 0.6872 - val_loss: 0.9470 - val_accuracy: 0.6340 - lr: 1.4985e-04\n",
            "Epoch 21/50\n",
            "121/121 [==============================] - 7s 54ms/step - loss: 0.7852 - accuracy: 0.7069 - val_loss: 0.9476 - val_accuracy: 0.6325 - lr: 1.4984e-04\n",
            "Epoch 22/50\n",
            "121/121 [==============================] - 7s 54ms/step - loss: 0.7722 - accuracy: 0.7166 - val_loss: 0.9636 - val_accuracy: 0.6237 - lr: 1.4984e-04\n",
            "Epoch 23/50\n",
            "121/121 [==============================] - 7s 54ms/step - loss: 0.7385 - accuracy: 0.7290 - val_loss: 0.9342 - val_accuracy: 0.6354 - lr: 1.4983e-04\n",
            "Epoch 24/50\n",
            "121/121 [==============================] - 7s 54ms/step - loss: 0.7315 - accuracy: 0.7238 - val_loss: 0.9262 - val_accuracy: 0.6369 - lr: 1.4982e-04\n",
            "Epoch 25/50\n",
            "121/121 [==============================] - 7s 54ms/step - loss: 0.6921 - accuracy: 0.7418 - val_loss: 0.9131 - val_accuracy: 0.6508 - lr: 1.4981e-04\n",
            "Epoch 26/50\n",
            "121/121 [==============================] - 7s 54ms/step - loss: 0.6758 - accuracy: 0.7467 - val_loss: 0.9095 - val_accuracy: 0.6413 - lr: 1.4981e-04\n",
            "Epoch 27/50\n",
            "121/121 [==============================] - 7s 54ms/step - loss: 0.6443 - accuracy: 0.7634 - val_loss: 0.9278 - val_accuracy: 0.6501 - lr: 1.4980e-04\n",
            "Epoch 28/50\n",
            "121/121 [==============================] - 7s 54ms/step - loss: 0.6257 - accuracy: 0.7665 - val_loss: 0.9495 - val_accuracy: 0.6420 - lr: 1.4979e-04\n",
            "Epoch 29/50\n",
            "121/121 [==============================] - 7s 54ms/step - loss: 0.6144 - accuracy: 0.7749 - val_loss: 0.9170 - val_accuracy: 0.6559 - lr: 1.4979e-04\n",
            "Epoch 30/50\n",
            "121/121 [==============================] - 7s 54ms/step - loss: 0.5923 - accuracy: 0.7839 - val_loss: 0.9231 - val_accuracy: 0.6574 - lr: 1.4978e-04\n",
            "Epoch 31/50\n",
            "121/121 [==============================] - 7s 54ms/step - loss: 0.5926 - accuracy: 0.7853 - val_loss: 0.9183 - val_accuracy: 0.6640 - lr: 1.4977e-04\n",
            "Epoch 32/50\n",
            "121/121 [==============================] - 7s 54ms/step - loss: 0.5590 - accuracy: 0.7990 - val_loss: 0.9193 - val_accuracy: 0.6581 - lr: 1.4976e-04\n",
            "Epoch 33/50\n",
            "121/121 [==============================] - 7s 54ms/step - loss: 0.5332 - accuracy: 0.8069 - val_loss: 0.9108 - val_accuracy: 0.6618 - lr: 1.4976e-04\n",
            "Epoch 34/50\n",
            "121/121 [==============================] - 7s 54ms/step - loss: 0.5213 - accuracy: 0.8079 - val_loss: 0.9382 - val_accuracy: 0.6574 - lr: 1.4975e-04\n",
            "Epoch 35/50\n",
            "121/121 [==============================] - 7s 54ms/step - loss: 0.5026 - accuracy: 0.8158 - val_loss: 0.9043 - val_accuracy: 0.6698 - lr: 1.4974e-04\n",
            "Epoch 36/50\n",
            "121/121 [==============================] - 7s 54ms/step - loss: 0.4839 - accuracy: 0.8265 - val_loss: 0.9432 - val_accuracy: 0.6640 - lr: 1.4973e-04\n",
            "Epoch 37/50\n",
            "121/121 [==============================] - 7s 54ms/step - loss: 0.4748 - accuracy: 0.8238 - val_loss: 0.9186 - val_accuracy: 0.6845 - lr: 1.4973e-04\n",
            "Epoch 38/50\n",
            "121/121 [==============================] - 7s 54ms/step - loss: 0.4530 - accuracy: 0.8388 - val_loss: 0.9417 - val_accuracy: 0.6830 - lr: 1.4972e-04\n",
            "Epoch 39/50\n",
            "121/121 [==============================] - 7s 54ms/step - loss: 0.4502 - accuracy: 0.8366 - val_loss: 0.9111 - val_accuracy: 0.6881 - lr: 1.4971e-04\n",
            "Epoch 40/50\n",
            "121/121 [==============================] - 7s 54ms/step - loss: 0.4259 - accuracy: 0.8456 - val_loss: 0.9268 - val_accuracy: 0.6874 - lr: 1.4970e-04\n",
            "Epoch 41/50\n",
            "121/121 [==============================] - 7s 54ms/step - loss: 0.4202 - accuracy: 0.8486 - val_loss: 0.9517 - val_accuracy: 0.6684 - lr: 1.4970e-04\n",
            "Epoch 42/50\n",
            "121/121 [==============================] - 7s 54ms/step - loss: 0.4075 - accuracy: 0.8557 - val_loss: 0.9333 - val_accuracy: 0.6750 - lr: 1.4969e-04\n",
            "Epoch 43/50\n",
            "121/121 [==============================] - 7s 54ms/step - loss: 0.3850 - accuracy: 0.8604 - val_loss: 0.9755 - val_accuracy: 0.6706 - lr: 1.4968e-04\n",
            "Epoch 44/50\n",
            "121/121 [==============================] - 7s 54ms/step - loss: 0.3701 - accuracy: 0.8668 - val_loss: 0.9851 - val_accuracy: 0.6757 - lr: 1.4967e-04\n",
            "Epoch 45/50\n",
            "121/121 [==============================] - 7s 54ms/step - loss: 0.3657 - accuracy: 0.8715 - val_loss: 0.9657 - val_accuracy: 0.6918 - lr: 1.4967e-04\n",
            "Epoch 46/50\n",
            "121/121 [==============================] - 7s 54ms/step - loss: 0.3519 - accuracy: 0.8782 - val_loss: 1.0274 - val_accuracy: 0.6640 - lr: 1.4966e-04\n",
            "Epoch 47/50\n",
            "121/121 [==============================] - 7s 54ms/step - loss: 0.3478 - accuracy: 0.8763 - val_loss: 1.0184 - val_accuracy: 0.6720 - lr: 1.4965e-04\n",
            "Epoch 48/50\n",
            "121/121 [==============================] - 7s 54ms/step - loss: 0.3304 - accuracy: 0.8835 - val_loss: 0.9977 - val_accuracy: 0.6713 - lr: 1.4964e-04\n",
            "Epoch 49/50\n",
            "121/121 [==============================] - 7s 54ms/step - loss: 0.3116 - accuracy: 0.8910 - val_loss: 1.0197 - val_accuracy: 0.6845 - lr: 1.4964e-04\n",
            "Epoch 50/50\n",
            "121/121 [==============================] - 7s 54ms/step - loss: 0.3194 - accuracy: 0.8903 - val_loss: 1.0393 - val_accuracy: 0.6728 - lr: 1.4963e-04\n"
          ]
        }
      ]
    },
    {
      "cell_type": "code",
      "source": [
        "# Vorhersagen für die Validierungsdaten\n",
        "y_val_true = np.concatenate([y for x, y in validation_ds], axis=0)\n",
        "y_val_pred = model.predict(validation_ds)\n",
        "\n",
        "# Umwandeln der Vorhersagen in One-Hot-Format\n",
        "y_val_pred_classes = np.argmax(y_val_pred, axis=1)\n",
        "y_val_true_classes = np.argmax(y_val_true, axis=1)\n",
        "\n",
        "# F1-Score berechnen\n",
        "f1 = f1_score(y_val_true_classes, y_val_pred_classes, average='weighted')\n",
        "print(\"F1-Score: \", f1)"
      ],
      "metadata": {
        "id": "4HNlgG7KOYsU",
        "colab": {
          "base_uri": "https://localhost:8080/"
        },
        "outputId": "9aa42bd0-6a3e-4917-9e6b-9cf20733ed89"
      },
      "execution_count": 151,
      "outputs": [
        {
          "output_type": "stream",
          "name": "stdout",
          "text": [
            "22/22 [==============================] - 0s 11ms/step\n",
            "F1-Score:  0.6702019104513302\n"
          ]
        }
      ]
    },
    {
      "cell_type": "code",
      "source": [
        "# Confusion Matrix und Classification Report\n",
        "cm = confusion_matrix(y_val_true_classes, y_val_pred_classes)\n",
        "plt.figure(figsize=(10, 8))\n",
        "sns.heatmap(cm, annot=True, fmt='d', cmap='Blues', xticklabels=class_names, yticklabels=class_names)\n",
        "plt.xlabel('Predicted')\n",
        "plt.ylabel('True')\n",
        "plt.show()\n",
        "\n",
        "print(classification_report(y_val_true_classes, y_val_pred_classes, target_names=class_names))\n"
      ],
      "metadata": {
        "id": "J9Z4312kPv71",
        "colab": {
          "base_uri": "https://localhost:8080/",
          "height": 904
        },
        "outputId": "046c9905-1054-4243-eb5f-50812514c1be"
      },
      "execution_count": 152,
      "outputs": [
        {
          "output_type": "display_data",
          "data": {
            "text/plain": [
              "<Figure size 1000x800 with 2 Axes>"
            ],
            "image/png": "[encoded data removed]"
          },
          "metadata": {}
        },
        {
          "output_type": "stream",
          "name": "stdout",
          "text": [
            "              precision    recall  f1-score   support\n",
            "\n",
            "       angry       0.62      0.71      0.66       278\n",
            "        fear       0.56      0.44      0.49       165\n",
            "       happy       0.75      0.75      0.75       295\n",
            "         sad       0.72      0.63      0.67       319\n",
            "    surprise       0.66      0.73      0.69       309\n",
            "\n",
            "    accuracy                           0.67      1366\n",
            "   macro avg       0.66      0.65      0.65      1366\n",
            "weighted avg       0.67      0.67      0.67      1366\n",
            "\n"
          ]
        }
      ]
    },
    {
      "cell_type": "code",
      "source": [
        "# Plot the loss and accuracy curves for training and validation\n",
        "plt.plot(history.history['loss'], color='r', label=\"training loss\")\n",
        "plt.plot(history.history['val_loss'], color='b', label=\"validation loss\")\n",
        "plt.title(\"Loss\")\n",
        "plt.xlabel(\"Number of Epochs\")\n",
        "plt.ylabel(\"Value\")\n",
        "plt.legend()\n",
        "plt.show()"
      ],
      "metadata": {
        "execution": {
          "iopub.status.busy": "2024-05-27T22:44:47.638812Z",
          "iopub.execute_input": "2024-05-27T22:44:47.639266Z",
          "iopub.status.idle": "2024-05-27T22:44:47.947255Z",
          "shell.execute_reply.started": "2024-05-27T22:44:47.639215Z",
          "shell.execute_reply": "2024-05-27T22:44:47.946049Z"
        },
        "trusted": true,
        "is_executing": true,
        "id": "dn7RMh5hBp9z",
        "colab": {
          "base_uri": "https://localhost:8080/",
          "height": 472
        },
        "outputId": "47d4cad4-d8f4-4374-c7e4-92487397bcec"
      },
      "execution_count": 153,
      "outputs": [
        {
          "output_type": "display_data",
          "data": {
            "text/plain": [
              "<Figure size 640x480 with 1 Axes>"
            ],
            "image/png": "[encoded data removed]"
          },
          "metadata": {}
        }
      ]
    },
    {
      "cell_type": "markdown",
      "source": [
        "# Create Submission"
      ],
      "metadata": {
        "id": "NHwVgkLCBp90"
      }
    },
    {
      "cell_type": "code",
      "source": [
        "file_names = []\n",
        "images = []\n",
        "test_directory = base_directory + 'test/'\n",
        "\n",
        "for filename in os.listdir(test_directory):\n",
        "    if filename.endswith(\".jpg\"):\n",
        "        img_path = os.path.join(test_directory, filename)\n",
        "        img = load_img(img_path, target_size=(100,100), color_mode='grayscale')\n",
        "        img_array = img_to_array(img)\n",
        "        img_array = normalization_layer(img_array)\n",
        "        images.append(img_array)\n",
        "        file_names.append(filename)\n",
        "\n",
        "# In ein numpy Array konvertieren\n",
        "images_array = np.array(images)\n",
        "\n",
        "# Vorhersagen machen\n",
        "y_test = model.predict(images_array)\n",
        "y_pred_indices = np.argmax(y_test, axis=1)\n",
        "y_pred_labels = [class_names[idx] for idx in y_pred_indices]\n",
        "\n",
        "# DataFrame erstellen\n",
        "df = pd.DataFrame({\n",
        "    'Id': file_names,\n",
        "    'emotions': y_pred_labels\n",
        "})\n",
        "\n",
        "# DataFrame als CSV speichern\n",
        "df.to_csv('./submission.csv', index=False)"
      ],
      "metadata": {
        "execution": {
          "iopub.status.busy": "2024-05-27T22:44:47.948934Z",
          "iopub.execute_input": "2024-05-27T22:44:47.949415Z",
          "iopub.status.idle": "2024-05-27T22:44:55.557297Z",
          "shell.execute_reply.started": "2024-05-27T22:44:47.949373Z",
          "shell.execute_reply": "2024-05-27T22:44:55.556244Z"
        },
        "trusted": true,
        "is_executing": true,
        "id": "5-yfI29yBp90",
        "colab": {
          "base_uri": "https://localhost:8080/"
        },
        "outputId": "c968b394-4eb4-47d6-ac4e-47539df59a5b"
      },
      "execution_count": 154,
      "outputs": [
        {
          "output_type": "stream",
          "name": "stdout",
          "text": [
            "75/75 [==============================] - 0s 5ms/step\n"
          ]
        }
      ]
    }
  ]
}