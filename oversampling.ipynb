{
 "metadata": {
  "kernelspec": {
   "display_name": "Python 3",
   "name": "python3"
  },
  "language_info": {
   "name": "python",
   "version": "3.10.13",
   "mimetype": "text/x-python",
   "codemirror_mode": {
    "name": "ipython",
    "version": 3
   },
   "pygments_lexer": "ipython3",
   "nbconvert_exporter": "python",
   "file_extension": ".py"
  },
  "kaggle": {
   "accelerator": "none",
   "dataSources": [
    {
     "sourceId": 77823,
     "databundleVersionId": 8553100,
     "sourceType": "competition"
    }
   ],
   "dockerImageVersionId": 30698,
   "isInternetEnabled": false,
   "language": "python",
   "sourceType": "notebook",
   "isGpuEnabled": false
  },
  "colab": {
   "provenance": [],
   "gpuType": "L4"
  },
  "accelerator": "GPU"
 },
 "nbformat_minor": 0,
 "nbformat": 4,
 "cells": [
  {
   "cell_type": "markdown",
   "source": [
    "# (Optional) Load Data from Kaggle into Google Colab"
   ],
   "metadata": {
    "id": "LEVUbhDn3mi9"
   }
  },
  {
   "cell_type": "code",
   "source": [
    "\n",
    "# IMPORTANT: RUN THIS CELL IN ORDER TO IMPORT YOUR KAGGLE DATA SOURCES\n",
    "# TO THE CORRECT LOCATION (/kaggle/input) IN YOUR NOTEBOOK,\n",
    "# THEN FEEL FREE TO DELETE THIS CELL.\n",
    "# NOTE: THIS NOTEBOOK ENVIRONMENT DIFFERS FROM KAGGLE'S PYTHON\n",
    "# ENVIRONMENT SO THERE MAY BE MISSING LIBRARIES USED BY YOUR\n",
    "# NOTEBOOK.\n",
    "\n",
    "import os\n",
    "import sys\n",
    "from tempfile import NamedTemporaryFile\n",
    "from urllib.request import urlopen\n",
    "from urllib.parse import unquote, urlparse\n",
    "from urllib.error import HTTPError\n",
    "from zipfile import ZipFile\n",
    "import tarfile\n",
    "import shutil\n",
    "\n",
    "CHUNK_SIZE = 40960\n",
    "DATA_SOURCE_MAPPING = 'aiim-emotion-classification:https%3A%2F%2Fstorage.googleapis.com%2Fkaggle-competitions-data%2Fkaggle-v2%2F77823%2F8553100%2Fbundle%2Farchive.zip%3FX-Goog-Algorithm%3DGOOG4-RSA-SHA256%26X-Goog-Credential%3Dgcp-kaggle-com%2540kaggle-161607.iam.gserviceaccount.com%252F20240703%252Fauto%252Fstorage%252Fgoog4_request%26X-Goog-Date%3D20240703T090247Z%26X-Goog-Expires%3D259200%26X-Goog-SignedHeaders%3Dhost%26X-Goog-Signature%3Dc04465bd270ce3e228ee471434371bbe80f78ee95e4d36bc797b023cc9bd54dde4b4ed5cf70b099d594725687f5161c9ba30ac9d9e5f005006104d4fa5881496161efb4697ea71317dd09a4b080c9be1733f01e0ef939b3d8264ec01c3f10ea8999ad55f9e473f30ab29604f89bc687359af4c7a9afed58f827bc31344080727ced469d996f236ac2de34e7cae4b67aed0c71db1935e4af7aeb94f1354fa61fbb9c3ca3816e641ab865a5cb779734a5cc1ab5db66c4c8562f04d34106e418f32dfa87936318e7c70074b54015986197a396ca1bf68baa6574e31cc2e231e2a3db4d1db4f2012aca4cd86d7360c8f870f1b70b3dc6ee0b6c219cbfe8fc48bb81f'\n",
    "\n",
    "KAGGLE_INPUT_PATH='/kaggle/input'\n",
    "KAGGLE_WORKING_PATH='/kaggle/working'\n",
    "KAGGLE_SYMLINK='kaggle'\n",
    "\n",
    "!umount /kaggle/input/ 2> /dev/null\n",
    "shutil.rmtree('/kaggle/input', ignore_errors=True)\n",
    "os.makedirs(KAGGLE_INPUT_PATH, 0o777, exist_ok=True)\n",
    "os.makedirs(KAGGLE_WORKING_PATH, 0o777, exist_ok=True)\n",
    "\n",
    "try:\n",
    "  os.symlink(KAGGLE_INPUT_PATH, os.path.join(\"..\", 'input'), target_is_directory=True)\n",
    "except FileExistsError:\n",
    "  pass\n",
    "try:\n",
    "  os.symlink(KAGGLE_WORKING_PATH, os.path.join(\"..\", 'working'), target_is_directory=True)\n",
    "except FileExistsError:\n",
    "  pass\n",
    "\n",
    "for data_source_mapping in DATA_SOURCE_MAPPING.split(','):\n",
    "    directory, download_url_encoded = data_source_mapping.split(':')\n",
    "    download_url = unquote(download_url_encoded)\n",
    "    filename = urlparse(download_url).path\n",
    "    destination_path = os.path.join(KAGGLE_INPUT_PATH, directory)\n",
    "    try:\n",
    "        with urlopen(download_url) as fileres, NamedTemporaryFile() as tfile:\n",
    "            total_length = fileres.headers['content-length']\n",
    "            print(f'Downloading {directory}, {total_length} bytes compressed')\n",
    "            dl = 0\n",
    "            data = fileres.read(CHUNK_SIZE)\n",
    "            while len(data) > 0:\n",
    "                dl += len(data)\n",
    "                tfile.write(data)\n",
    "                done = int(50 * dl / int(total_length))\n",
    "                sys.stdout.write(f\"\\r[{'=' * done}{' ' * (50-done)}] {dl} bytes downloaded\")\n",
    "                sys.stdout.flush()\n",
    "                data = fileres.read(CHUNK_SIZE)\n",
    "            if filename.endswith('.zip'):\n",
    "              with ZipFile(tfile) as zfile:\n",
    "                zfile.extractall(destination_path)\n",
    "            else:\n",
    "              with tarfile.open(tfile.name) as tarfile:\n",
    "                tarfile.extractall(destination_path)\n",
    "            print(f'\\nDownloaded and uncompressed: {directory}')\n",
    "    except HTTPError as e:\n",
    "        print(f'Failed to load (likely expired) {download_url} to path {destination_path}')\n",
    "        continue\n",
    "    except OSError as e:\n",
    "        print(f'Failed to load {download_url} to path {destination_path}')\n",
    "        continue\n",
    "\n",
    "print('Data source import complete.')\n"
   ],
   "metadata": {
    "colab": {
     "base_uri": "https://localhost:8080/"
    },
    "id": "szgufmtcC4Xy",
    "outputId": "fc9700c1-a65c-4080-9809-8eb1615afaed"
   },
   "execution_count": 10,
   "outputs": [
    {
     "output_type": "stream",
     "name": "stdout",
     "text": [
      "Downloading aiim-emotion-classification, 18175099 bytes compressed\n",
      "[==================================================] 18175099 bytes downloaded\n",
      "Downloaded and uncompressed: aiim-emotion-classification\n",
      "Data source import complete.\n"
     ]
    }
   ]
  },
  {
   "cell_type": "markdown",
   "source": [
    "### Imports"
   ],
   "metadata": {
    "id": "y95gYaSb4v2U"
   }
  },
  {
   "cell_type": "code",
   "outputs": [
    {
     "output_type": "stream",
     "name": "stdout",
     "text": [
      "Num GPUs Available:  1\n"
     ]
    }
   ],
   "source": [
    "import matplotlib.pyplot as plt\n",
    "import pandas as pd\n",
    "import numpy as np\n",
    "import tensorflow as tf\n",
    "import seaborn as sns\n",
    "import os\n",
    "from keras.utils import image_dataset_from_directory, load_img, img_to_array\n",
    "from keras.models import Sequential\n",
    "from keras.layers import Conv2D, MaxPooling2D, AveragePooling2D,  Flatten, Dense, Dropout, BatchNormalization, RandomFlip, RandomRotation, RandomZoom, RandomContrast, RandomBrightness, Rescaling, RandomTranslation, GlobalMaxPooling2D\n",
    "from keras.optimizers import Adam, SGD\n",
    "from keras.optimizers.schedules import ExponentialDecay\n",
    "from keras.callbacks import EarlyStopping, ReduceLROnPlateau, ModelCheckpoint\n",
    "from keras.losses import CategoricalCrossentropy\n",
    "from sklearn.metrics import f1_score, confusion_matrix, classification_report\n",
    "\n",
    "print(\"Num GPUs Available: \", len(tf.config.experimental.list_physical_devices('GPU')))\n"
   ],
   "metadata": {
    "is_executing": true,
    "colab": {
     "base_uri": "https://localhost:8080/"
    },
    "id": "kmmAbR6hBp9t",
    "outputId": "ddf264db-9e23-4719-92ae-a148dae8d539"
   },
   "execution_count": 11
  },
  {
   "cell_type": "markdown",
   "source": [],
   "metadata": {
    "id": "koGj-RxLGX1O"
   }
  },
  {
   "cell_type": "markdown",
   "source": [
    "# Fine-tuning Models"
   ],
   "metadata": {
    "id": "myBsLGJGGVPG"
   }
  },
  {
   "cell_type": "code",
   "outputs": [],
   "source": [
    "base_directory = '/kaggle/input/aiim-emotion-classification/aiim-emotion-classification/'\n",
    "batch_size = 64\n",
    "epochs = 70"
   ],
   "metadata": {
    "id": "8dRrJXJi4IXt"
   },
   "execution_count": 12
  },
  {
   "cell_type": "code",
   "outputs": [
    {
     "output_type": "stream",
     "name": "stdout",
     "text": [
      "Found 9108 files belonging to 5 classes.\n",
      "Classes: ['angry', 'fear', 'happy', 'sad', 'surprise']\n",
      "Number of Images in dataset per class: {'angry': 2000, 'fear': 1108, 'happy': 2000, 'sad': 2000, 'surprise': 2000}\n",
      "Number of Images in balanced dataset per class: {'angry': 2000, 'fear': 2000, 'happy': 2000, 'sad': 2000, 'surprise': 2000}\n",
      "Number of Images in train dataset per class: {'angry': 1700, 'fear': 1700, 'happy': 1700, 'sad': 1700, 'surprise': 1700}\n",
      "Number of Images in validation dataset per class: {'angry': 300, 'fear': 300, 'happy': 300, 'sad': 300, 'surprise': 300}\n",
      "Train and validation dataset created und batched.\n"
     ]
    }
   ],
   "source": [
    "import tensorflow as tf\n",
    "from tensorflow.keras.preprocessing import image_dataset_from_directory\n",
    "import numpy as np\n",
    "\n",
    "\n",
    "dataset = image_dataset_from_directory(\n",
    "    directory=base_directory + 'train/',\n",
    "    labels='inferred',\n",
    "    label_mode='categorical',\n",
    "    color_mode='grayscale',\n",
    "    batch_size=None,\n",
    "    shuffle=True,\n",
    "    seed=420,\n",
    "    image_size=(100, 100))\n",
    "\n",
    "\n",
    "class_names = dataset.class_names\n",
    "print(\"Classes:\", class_names)\n",
    "\n",
    "def count_images_per_class(dataset, class_names):\n",
    "    class_counts = {class_name: 0 for class_name in class_names}\n",
    "    for image, label in dataset:\n",
    "        class_idx = tf.argmax(label).numpy()\n",
    "        class_name = class_names[class_idx]\n",
    "        class_counts[class_name] += 1\n",
    "    return class_counts\n",
    "\n",
    "class_counts = count_images_per_class(dataset, class_names)\n",
    "print(\"Number of Images in dataset per class:\", class_counts)\n",
    "\n",
    "max_count = max(class_counts.values())\n",
    "\n",
    "# Oversampling\n",
    "def balance_class(dataset, class_name_to_balance, target_count, class_names):\n",
    "    images = []\n",
    "    labels = []\n",
    "    for image, label in dataset:\n",
    "        images.append(image.numpy())\n",
    "        labels.append(label.numpy())\n",
    "\n",
    "    images = np.array(images)\n",
    "    labels = np.array(labels)\n",
    "\n",
    "    class_idx_to_balance = class_names.index(class_name_to_balance)\n",
    "    class_indices = np.where(np.argmax(labels, axis=1) == class_idx_to_balance)[0]\n",
    "\n",
    "    if len(class_indices) < target_count:\n",
    "        additional_indices = np.random.choice(class_indices, target_count - len(class_indices))\n",
    "        balanced_images = np.concatenate([images, images[additional_indices]])\n",
    "        balanced_labels = np.concatenate([labels, labels[additional_indices]])\n",
    "    else:\n",
    "        balanced_images = images\n",
    "        balanced_labels = labels\n",
    "\n",
    "    return tf.data.Dataset.from_tensor_slices((balanced_images, balanced_labels))\n",
    "\n",
    "balanced_dataset = balance_class(dataset, 'fear', max_count, class_names)\n",
    "print(\"Number of Images in balanced dataset per class:\", count_images_per_class(balanced_dataset, class_names))\n",
    "\n",
    "# Stratified Split\n",
    "def stratified_split(dataset, class_names, validation_split):\n",
    "    class_datasets = {class_name: [] for class_name in class_names}\n",
    "\n",
    "    for image, label in dataset:\n",
    "        class_index = tf.argmax(label).numpy()\n",
    "        class_name = class_names[class_index]\n",
    "        class_datasets[class_name].append((image, label))\n",
    "\n",
    "    train_datasets = []\n",
    "    validation_datasets = []\n",
    "\n",
    "    for class_name, images in class_datasets.items():\n",
    "        np.random.seed(42)\n",
    "        np.random.shuffle(images)\n",
    "        val_size = int(len(images) * validation_split)\n",
    "        validation_datasets.extend(images[:val_size])\n",
    "        train_datasets.extend(images[val_size:])\n",
    "\n",
    "    np.random.shuffle(train_datasets)\n",
    "    np.random.shuffle(validation_datasets)\n",
    "\n",
    "    train_images, train_labels = zip(*train_datasets)\n",
    "    val_images, val_labels = zip(*validation_datasets)\n",
    "\n",
    "    train_ds = tf.data.Dataset.from_tensor_slices((list(train_images), list(train_labels)))\n",
    "    validation_ds = tf.data.Dataset.from_tensor_slices((list(val_images), list(val_labels)))\n",
    "\n",
    "    return train_ds, validation_ds\n",
    "\n",
    "# Split in train and validation dataset\n",
    "validation_split = 0.15\n",
    "dataset_size = len(balanced_dataset)\n",
    "val_size = int(validation_split * dataset_size)\n",
    "\n",
    "train_ds, validation_ds = stratified_split(balanced_dataset, class_names, validation_split)\n",
    "\n",
    "print(\"Number of Images in train dataset per class:\", count_images_per_class(train_ds, class_names))\n",
    "print(\"Number of Images in validation dataset per class:\", count_images_per_class(validation_ds, class_names))\n",
    "\n",
    "# Batching\n",
    "train_ds = train_ds.batch(batch_size)\n",
    "validation_ds = validation_ds.batch(batch_size)\n",
    "\n",
    "print(\"Train and validation dataset created und batched.\")"
   ],
   "metadata": {
    "id": "fnEtAFUF4IXt",
    "outputId": "49fbc0c3-452e-459b-bfa3-988e0db61461",
    "colab": {
     "base_uri": "https://localhost:8080/"
    }
   },
   "execution_count": 24
  },
  {
   "cell_type": "code",
   "source": [
    "!pip install keras_cv\n",
    "import keras_cv\n",
    "from keras.layers import GlobalAveragePooling2D\n",
    "from keras_cv.layers import RandAugment, RandomCutout, RandomChoice\n",
    "from keras.applications import ResNet50, ResNet50V2, Xception, EfficientNetB0, EfficientNetB4, ConvNeXtXLarge, ConvNeXtLarge\n",
    "\n",
    "# Data Augmentation\n",
    "mix_up = keras_cv.layers.MixUp()\n",
    "cut_mix = keras_cv.layers.CutMix()\n",
    "\n",
    "rand_augment_layers = keras_cv.layers.RandAugment.get_standard_policy(\n",
    "    value_range=(0, 255), magnitude=0.4, magnitude_stddev=0.2,\n",
    ")\n",
    "rand_augment_layers = [\n",
    "    layer for layer in rand_augment_layers if not isinstance(layer, keras_cv.layers.RandomColorDegeneration)\n",
    "]\n",
    "\n",
    "augmenters = [\n",
    "    RandomFlip(\"horizontal\"),\n",
    "    keras_cv.layers.RandomAugmentationPipeline(\n",
    "    layers=rand_augment_layers, augmentations_per_image=3\n",
    "    ),\n",
    "    RandomCutout(width_factor=0.2, height_factor=0.2),\n",
    "    RandomChoice([cut_mix, mix_up], batchwise=True),\n",
    "]\n",
    "\n",
    "# Since the images are grayscale, we need to convert them to RGB by repeating the grayscale channel\n",
    "def to_rgb(image, label):\n",
    "    image = tf.image.grayscale_to_rgb(image)\n",
    "    return image, label\n",
    "\n",
    "train_ds_rgb = train_ds.map(to_rgb)\n",
    "validation_ds_rgb = validation_ds.map(to_rgb)\n",
    "\n",
    "# Create the augmenter function that processes both image and label\n",
    "def create_augmenter_fn(augmenters):\n",
    "    def augmenter_fn(image, label):\n",
    "        inputs = {\"images\": image, \"labels\": label}\n",
    "        for augmenter in augmenters:\n",
    "            if isinstance(augmenter, (RandomFlip, RandomRotation)):\n",
    "                inputs[\"images\"] = augmenter(inputs[\"images\"])\n",
    "            else:\n",
    "                inputs = augmenter(inputs)\n",
    "        return inputs[\"images\"], inputs[\"labels\"]\n",
    "    return augmenter_fn\n",
    "\n",
    "augmenter_fn = create_augmenter_fn(augmenters)\n",
    "train_ds_preprocessed = train_ds_rgb.map(augmenter_fn)\n",
    "validation_ds_preprocessed = validation_ds_rgb"
   ],
   "metadata": {
    "colab": {
     "base_uri": "https://localhost:8080/"
    },
    "id": "Sgc60jApGYcE",
    "outputId": "4e7f8196-716c-4277-cdd4-32340cad24fc"
   },
   "execution_count": 15,
   "outputs": [
    {
     "output_type": "stream",
     "name": "stdout",
     "text": [
      "Requirement already satisfied: keras_cv in /usr/local/lib/python3.10/dist-packages (0.9.0)\n",
      "Requirement already satisfied: packaging in /usr/local/lib/python3.10/dist-packages (from keras_cv) (24.1)\n",
      "Requirement already satisfied: absl-py in /usr/local/lib/python3.10/dist-packages (from keras_cv) (1.4.0)\n",
      "Requirement already satisfied: regex in /usr/local/lib/python3.10/dist-packages (from keras_cv) (2024.5.15)\n",
      "Requirement already satisfied: tensorflow-datasets in /usr/local/lib/python3.10/dist-packages (from keras_cv) (4.9.6)\n",
      "Requirement already satisfied: keras-core in /usr/local/lib/python3.10/dist-packages (from keras_cv) (0.1.7)\n",
      "Requirement already satisfied: kagglehub in /usr/local/lib/python3.10/dist-packages (from keras_cv) (0.2.5)\n",
      "Requirement already satisfied: requests in /usr/local/lib/python3.10/dist-packages (from kagglehub->keras_cv) (2.31.0)\n",
      "Requirement already satisfied: tqdm in /usr/local/lib/python3.10/dist-packages (from kagglehub->keras_cv) (4.66.4)\n",
      "Requirement already satisfied: numpy in /usr/local/lib/python3.10/dist-packages (from keras-core->keras_cv) (1.25.2)\n",
      "Requirement already satisfied: rich in /usr/local/lib/python3.10/dist-packages (from keras-core->keras_cv) (13.7.1)\n",
      "Requirement already satisfied: namex in /usr/local/lib/python3.10/dist-packages (from keras-core->keras_cv) (0.0.8)\n",
      "Requirement already satisfied: h5py in /usr/local/lib/python3.10/dist-packages (from keras-core->keras_cv) (3.9.0)\n",
      "Requirement already satisfied: dm-tree in /usr/local/lib/python3.10/dist-packages (from keras-core->keras_cv) (0.1.8)\n",
      "Requirement already satisfied: click in /usr/local/lib/python3.10/dist-packages (from tensorflow-datasets->keras_cv) (8.1.7)\n",
      "Requirement already satisfied: immutabledict in /usr/local/lib/python3.10/dist-packages (from tensorflow-datasets->keras_cv) (4.2.0)\n",
      "Requirement already satisfied: promise in /usr/local/lib/python3.10/dist-packages (from tensorflow-datasets->keras_cv) (2.3)\n",
      "Requirement already satisfied: protobuf>=3.20 in /usr/local/lib/python3.10/dist-packages (from tensorflow-datasets->keras_cv) (3.20.3)\n",
      "Requirement already satisfied: psutil in /usr/local/lib/python3.10/dist-packages (from tensorflow-datasets->keras_cv) (5.9.5)\n",
      "Requirement already satisfied: pyarrow in /usr/local/lib/python3.10/dist-packages (from tensorflow-datasets->keras_cv) (14.0.2)\n",
      "Requirement already satisfied: simple-parsing in /usr/local/lib/python3.10/dist-packages (from tensorflow-datasets->keras_cv) (0.1.5)\n",
      "Requirement already satisfied: tensorflow-metadata in /usr/local/lib/python3.10/dist-packages (from tensorflow-datasets->keras_cv) (1.15.0)\n",
      "Requirement already satisfied: termcolor in /usr/local/lib/python3.10/dist-packages (from tensorflow-datasets->keras_cv) (2.4.0)\n",
      "Requirement already satisfied: toml in /usr/local/lib/python3.10/dist-packages (from tensorflow-datasets->keras_cv) (0.10.2)\n",
      "Requirement already satisfied: wrapt in /usr/local/lib/python3.10/dist-packages (from tensorflow-datasets->keras_cv) (1.14.1)\n",
      "Requirement already satisfied: array-record>=0.5.0 in /usr/local/lib/python3.10/dist-packages (from tensorflow-datasets->keras_cv) (0.5.1)\n",
      "Requirement already satisfied: etils[enp,epath,epy,etree]>=1.6.0 in /usr/local/lib/python3.10/dist-packages (from tensorflow-datasets->keras_cv) (1.7.0)\n",
      "Requirement already satisfied: typing_extensions in /usr/local/lib/python3.10/dist-packages (from etils[enp,epath,epy,etree]>=1.6.0->tensorflow-datasets->keras_cv) (4.12.2)\n",
      "Requirement already satisfied: fsspec in /usr/local/lib/python3.10/dist-packages (from etils[enp,epath,epy,etree]>=1.6.0->tensorflow-datasets->keras_cv) (2023.6.0)\n",
      "Requirement already satisfied: importlib_resources in /usr/local/lib/python3.10/dist-packages (from etils[enp,epath,epy,etree]>=1.6.0->tensorflow-datasets->keras_cv) (6.4.0)\n",
      "Requirement already satisfied: zipp in /usr/local/lib/python3.10/dist-packages (from etils[enp,epath,epy,etree]>=1.6.0->tensorflow-datasets->keras_cv) (3.19.2)\n",
      "Requirement already satisfied: charset-normalizer<4,>=2 in /usr/local/lib/python3.10/dist-packages (from requests->kagglehub->keras_cv) (3.3.2)\n",
      "Requirement already satisfied: idna<4,>=2.5 in /usr/local/lib/python3.10/dist-packages (from requests->kagglehub->keras_cv) (3.7)\n",
      "Requirement already satisfied: urllib3<3,>=1.21.1 in /usr/local/lib/python3.10/dist-packages (from requests->kagglehub->keras_cv) (2.0.7)\n",
      "Requirement already satisfied: certifi>=2017.4.17 in /usr/local/lib/python3.10/dist-packages (from requests->kagglehub->keras_cv) (2024.6.2)\n",
      "Requirement already satisfied: six in /usr/local/lib/python3.10/dist-packages (from promise->tensorflow-datasets->keras_cv) (1.16.0)\n",
      "Requirement already satisfied: markdown-it-py>=2.2.0 in /usr/local/lib/python3.10/dist-packages (from rich->keras-core->keras_cv) (3.0.0)\n",
      "Requirement already satisfied: pygments<3.0.0,>=2.13.0 in /usr/local/lib/python3.10/dist-packages (from rich->keras-core->keras_cv) (2.16.1)\n",
      "Requirement already satisfied: docstring-parser~=0.15 in /usr/local/lib/python3.10/dist-packages (from simple-parsing->tensorflow-datasets->keras_cv) (0.16)\n",
      "Requirement already satisfied: mdurl~=0.1 in /usr/local/lib/python3.10/dist-packages (from markdown-it-py>=2.2.0->rich->keras-core->keras_cv) (0.1.2)\n"
     ]
    }
   ]
  },
  {
   "cell_type": "code",
   "source": [
    "# Create the ConvNeXtLarge model\n",
    "base_model = ConvNeXtLarge(weights='imagenet', include_top=False, input_shape=(100, 100, 3))\n",
    "\n",
    "model = Sequential([\n",
    "    base_model,\n",
    "    GlobalAveragePooling2D(),\n",
    "    Dropout(0.5),\n",
    "    Dense(5, activation='softmax')\n",
    "])\n",
    "model.summary()"
   ],
   "metadata": {
    "colab": {
     "base_uri": "https://localhost:8080/"
    },
    "id": "07qHrjdWSors",
    "outputId": "632128bc-f7ab-4da1-df3c-b704687fc880"
   },
   "execution_count": 16,
   "outputs": [
    {
     "output_type": "stream",
     "name": "stdout",
     "text": [
      "Downloading data from https://storage.googleapis.com/tensorflow/keras-applications/convnext/convnext_large_notop.h5\n",
      "785596384/785596384 [==============================] - 36s 0us/step\n",
      "Model: \"sequential\"\n",
      "_________________________________________________________________\n",
      " Layer (type)                Output Shape              Param #   \n",
      "=================================================================\n",
      " convnext_large (Functional  (None, 3, 3, 1536)        196230336 \n",
      " )                                                               \n",
      "                                                                 \n",
      " global_average_pooling2d (  (None, 1536)              0         \n",
      " GlobalAveragePooling2D)                                         \n",
      "                                                                 \n",
      " dropout (Dropout)           (None, 1536)              0         \n",
      "                                                                 \n",
      " dense (Dense)               (None, 5)                 7685      \n",
      "                                                                 \n",
      "=================================================================\n",
      "Total params: 196238021 (748.59 MB)\n",
      "Trainable params: 196238021 (748.59 MB)\n",
      "Non-trainable params: 0 (0.00 Byte)\n",
      "_________________________________________________________________\n"
     ]
    }
   ]
  },
  {
   "cell_type": "code",
   "source": [
    "# Train the new Dense layer to fit the base_model\n",
    "base_model.trainable = False\n",
    "\n",
    "model.compile(optimizer=Adam(0.001), loss='categorical_crossentropy', metrics=['accuracy'])\n",
    "\n",
    "early_stopping = EarlyStopping(monitor='val_accuracy', patience=8, restore_best_weights=True)\n",
    "reduce_lr = ReduceLROnPlateau(monitor='val_accuracy', factor=0.2, patience=4, min_lr=0.00001)\n",
    "\n",
    "history = model.fit(\n",
    "    train_ds_preprocessed,\n",
    "    validation_data=validation_ds_preprocessed,\n",
    "    epochs=epochs,\n",
    "    batch_size=batch_size,\n",
    "    callbacks=[early_stopping, reduce_lr]\n",
    ")\n"
   ],
   "metadata": {
    "colab": {
     "base_uri": "https://localhost:8080/"
    },
    "id": "qVHPk2i-pRk_",
    "outputId": "1f162ff8-ac62-4104-c55f-6e39be7dceff"
   },
   "execution_count": 17,
   "outputs": [
    {
     "output_type": "stream",
     "name": "stdout",
     "text": [
      "Epoch 1/70\n",
      "133/133 [==============================] - 78s 428ms/step - loss: 1.6771 - accuracy: 0.3525 - val_loss: 0.9699 - val_accuracy: 0.6213 - lr: 0.0010\n",
      "Epoch 2/70\n",
      "133/133 [==============================] - 45s 336ms/step - loss: 1.5080 - accuracy: 0.4147 - val_loss: 0.9204 - val_accuracy: 0.6493 - lr: 0.0010\n",
      "Epoch 3/70\n",
      "133/133 [==============================] - 45s 337ms/step - loss: 1.4665 - accuracy: 0.4189 - val_loss: 0.8971 - val_accuracy: 0.6613 - lr: 0.0010\n",
      "Epoch 4/70\n",
      "133/133 [==============================] - 45s 336ms/step - loss: 1.4135 - accuracy: 0.4429 - val_loss: 0.8826 - val_accuracy: 0.6720 - lr: 0.0010\n",
      "Epoch 5/70\n",
      "133/133 [==============================] - 46s 342ms/step - loss: 1.3758 - accuracy: 0.4544 - val_loss: 0.9001 - val_accuracy: 0.6593 - lr: 0.0010\n",
      "Epoch 6/70\n",
      "133/133 [==============================] - 45s 339ms/step - loss: 1.3831 - accuracy: 0.4581 - val_loss: 0.8778 - val_accuracy: 0.6547 - lr: 0.0010\n",
      "Epoch 7/70\n",
      "133/133 [==============================] - 46s 344ms/step - loss: 1.4081 - accuracy: 0.4408 - val_loss: 0.8972 - val_accuracy: 0.6747 - lr: 0.0010\n",
      "Epoch 8/70\n",
      "133/133 [==============================] - 45s 336ms/step - loss: 1.3776 - accuracy: 0.4629 - val_loss: 0.8944 - val_accuracy: 0.6580 - lr: 0.0010\n",
      "Epoch 9/70\n",
      "133/133 [==============================] - 45s 342ms/step - loss: 1.3652 - accuracy: 0.4582 - val_loss: 0.8683 - val_accuracy: 0.6807 - lr: 0.0010\n",
      "Epoch 10/70\n",
      "133/133 [==============================] - 44s 333ms/step - loss: 1.3520 - accuracy: 0.4767 - val_loss: 0.8729 - val_accuracy: 0.6687 - lr: 0.0010\n",
      "Epoch 11/70\n",
      "133/133 [==============================] - 44s 332ms/step - loss: 1.3471 - accuracy: 0.4724 - val_loss: 0.8665 - val_accuracy: 0.6807 - lr: 0.0010\n",
      "Epoch 12/70\n",
      "133/133 [==============================] - 45s 342ms/step - loss: 1.3677 - accuracy: 0.4640 - val_loss: 0.8646 - val_accuracy: 0.6727 - lr: 0.0010\n",
      "Epoch 13/70\n",
      "133/133 [==============================] - 45s 340ms/step - loss: 1.3502 - accuracy: 0.4773 - val_loss: 0.8490 - val_accuracy: 0.6873 - lr: 0.0010\n",
      "Epoch 14/70\n",
      "133/133 [==============================] - 44s 333ms/step - loss: 1.3711 - accuracy: 0.4646 - val_loss: 0.8728 - val_accuracy: 0.6807 - lr: 0.0010\n",
      "Epoch 15/70\n",
      "133/133 [==============================] - 45s 341ms/step - loss: 1.3534 - accuracy: 0.4660 - val_loss: 0.8690 - val_accuracy: 0.6727 - lr: 0.0010\n",
      "Epoch 16/70\n",
      "133/133 [==============================] - 44s 334ms/step - loss: 1.3624 - accuracy: 0.4659 - val_loss: 0.8682 - val_accuracy: 0.6773 - lr: 0.0010\n",
      "Epoch 17/70\n",
      "133/133 [==============================] - 44s 334ms/step - loss: 1.3853 - accuracy: 0.4488 - val_loss: 0.8915 - val_accuracy: 0.6600 - lr: 0.0010\n",
      "Epoch 18/70\n",
      "133/133 [==============================] - 44s 333ms/step - loss: 1.3335 - accuracy: 0.4732 - val_loss: 0.8533 - val_accuracy: 0.6860 - lr: 2.0000e-04\n",
      "Epoch 19/70\n",
      "133/133 [==============================] - 44s 334ms/step - loss: 1.3370 - accuracy: 0.4820 - val_loss: 0.8543 - val_accuracy: 0.6800 - lr: 2.0000e-04\n",
      "Epoch 20/70\n",
      "133/133 [==============================] - 46s 346ms/step - loss: 1.3357 - accuracy: 0.4758 - val_loss: 0.8470 - val_accuracy: 0.6907 - lr: 2.0000e-04\n",
      "Epoch 21/70\n",
      "133/133 [==============================] - 45s 340ms/step - loss: 1.3613 - accuracy: 0.4665 - val_loss: 0.8462 - val_accuracy: 0.6913 - lr: 2.0000e-04\n",
      "Epoch 22/70\n",
      "133/133 [==============================] - 44s 333ms/step - loss: 1.2955 - accuracy: 0.4978 - val_loss: 0.8432 - val_accuracy: 0.6880 - lr: 2.0000e-04\n",
      "Epoch 23/70\n",
      "133/133 [==============================] - 45s 335ms/step - loss: 1.3339 - accuracy: 0.4765 - val_loss: 0.8462 - val_accuracy: 0.6887 - lr: 2.0000e-04\n",
      "Epoch 24/70\n",
      "133/133 [==============================] - 45s 336ms/step - loss: 1.3150 - accuracy: 0.4859 - val_loss: 0.8466 - val_accuracy: 0.6960 - lr: 2.0000e-04\n",
      "Epoch 25/70\n",
      "133/133 [==============================] - 45s 338ms/step - loss: 1.3234 - accuracy: 0.4802 - val_loss: 0.8425 - val_accuracy: 0.7007 - lr: 2.0000e-04\n",
      "Epoch 26/70\n",
      "133/133 [==============================] - 45s 338ms/step - loss: 1.3109 - accuracy: 0.4912 - val_loss: 0.8445 - val_accuracy: 0.7000 - lr: 2.0000e-04\n",
      "Epoch 27/70\n",
      "133/133 [==============================] - 46s 343ms/step - loss: 1.3259 - accuracy: 0.4819 - val_loss: 0.8439 - val_accuracy: 0.7047 - lr: 2.0000e-04\n",
      "Epoch 28/70\n",
      "133/133 [==============================] - 45s 339ms/step - loss: 1.3065 - accuracy: 0.4898 - val_loss: 0.8422 - val_accuracy: 0.7020 - lr: 2.0000e-04\n",
      "Epoch 29/70\n",
      "133/133 [==============================] - 45s 340ms/step - loss: 1.3182 - accuracy: 0.4829 - val_loss: 0.8421 - val_accuracy: 0.6953 - lr: 2.0000e-04\n",
      "Epoch 30/70\n",
      "133/133 [==============================] - 45s 339ms/step - loss: 1.3051 - accuracy: 0.4962 - val_loss: 0.8454 - val_accuracy: 0.6980 - lr: 2.0000e-04\n",
      "Epoch 31/70\n",
      "133/133 [==============================] - 44s 332ms/step - loss: 1.2846 - accuracy: 0.4975 - val_loss: 0.8434 - val_accuracy: 0.6987 - lr: 2.0000e-04\n",
      "Epoch 32/70\n",
      "133/133 [==============================] - 45s 335ms/step - loss: 1.3355 - accuracy: 0.4739 - val_loss: 0.8422 - val_accuracy: 0.7000 - lr: 4.0000e-05\n",
      "Epoch 33/70\n",
      "133/133 [==============================] - 45s 335ms/step - loss: 1.3126 - accuracy: 0.4881 - val_loss: 0.8426 - val_accuracy: 0.7000 - lr: 4.0000e-05\n",
      "Epoch 34/70\n",
      "133/133 [==============================] - 44s 334ms/step - loss: 1.3248 - accuracy: 0.4835 - val_loss: 0.8420 - val_accuracy: 0.6973 - lr: 4.0000e-05\n",
      "Epoch 35/70\n",
      "133/133 [==============================] - 45s 337ms/step - loss: 1.2993 - accuracy: 0.4914 - val_loss: 0.8413 - val_accuracy: 0.7013 - lr: 4.0000e-05\n"
     ]
    }
   ]
  },
  {
   "cell_type": "code",
   "source": [
    "# Unfreeze the base model and train it\n",
    "base_model.trainable = True\n",
    "for layer in base_model.layers:\n",
    "    if isinstance(layer, BatchNormalization):\n",
    "        layer.trainable = False\n",
    "\n",
    "model.compile(optimizer=Adam(1e-4),\n",
    "              loss='categorical_crossentropy', metrics=['accuracy'])\n",
    "\n",
    "early_stopping = EarlyStopping(monitor='val_accuracy', patience=9, restore_best_weights=True)\n",
    "reduce_lr = ReduceLROnPlateau(monitor='val_accuracy', factor=0.2, patience=4, min_lr=1e-7)\n",
    "\n",
    "history_finetune = model.fit(\n",
    "    train_ds_preprocessed,\n",
    "    validation_data=validation_ds_preprocessed,\n",
    "    epochs=epochs,\n",
    "    batch_size=batch_size,\n",
    "    callbacks=[early_stopping, reduce_lr]\n",
    ")"
   ],
   "metadata": {
    "id": "thY5yzJ3qCid",
    "outputId": "4a2b2be6-764b-44cc-e7bf-1dec4c125be6",
    "colab": {
     "base_uri": "https://localhost:8080/"
    }
   },
   "execution_count": 18,
   "outputs": [
    {
     "output_type": "stream",
     "name": "stdout",
     "text": [
      "Epoch 1/70\n",
      "133/133 [==============================] - 172s 827ms/step - loss: 1.2539 - accuracy: 0.5186 - val_loss: 0.6804 - val_accuracy: 0.7253 - lr: 1.0000e-04\n",
      "Epoch 2/70\n",
      "133/133 [==============================] - 101s 761ms/step - loss: 1.1697 - accuracy: 0.5724 - val_loss: 0.5781 - val_accuracy: 0.7800 - lr: 1.0000e-04\n",
      "Epoch 3/70\n",
      "133/133 [==============================] - 101s 756ms/step - loss: 1.0929 - accuracy: 0.6127 - val_loss: 0.5755 - val_accuracy: 0.7853 - lr: 1.0000e-04\n",
      "Epoch 4/70\n",
      "133/133 [==============================] - 100s 754ms/step - loss: 1.0216 - accuracy: 0.6560 - val_loss: 0.5086 - val_accuracy: 0.8140 - lr: 1.0000e-04\n",
      "Epoch 5/70\n",
      "133/133 [==============================] - 101s 756ms/step - loss: 1.0329 - accuracy: 0.6500 - val_loss: 0.4828 - val_accuracy: 0.8233 - lr: 1.0000e-04\n",
      "Epoch 6/70\n",
      "133/133 [==============================] - 101s 757ms/step - loss: 1.0124 - accuracy: 0.6627 - val_loss: 0.4806 - val_accuracy: 0.8293 - lr: 1.0000e-04\n",
      "Epoch 7/70\n",
      "133/133 [==============================] - 100s 755ms/step - loss: 0.9856 - accuracy: 0.6753 - val_loss: 0.4713 - val_accuracy: 0.8327 - lr: 1.0000e-04\n",
      "Epoch 8/70\n",
      "133/133 [==============================] - 101s 759ms/step - loss: 0.9149 - accuracy: 0.7075 - val_loss: 0.4484 - val_accuracy: 0.8420 - lr: 1.0000e-04\n",
      "Epoch 9/70\n",
      "133/133 [==============================] - 100s 754ms/step - loss: 0.9099 - accuracy: 0.7084 - val_loss: 0.4069 - val_accuracy: 0.8513 - lr: 1.0000e-04\n",
      "Epoch 10/70\n",
      "133/133 [==============================] - 101s 760ms/step - loss: 0.9252 - accuracy: 0.7119 - val_loss: 0.4195 - val_accuracy: 0.8493 - lr: 1.0000e-04\n",
      "Epoch 11/70\n",
      "133/133 [==============================] - 101s 763ms/step - loss: 0.8956 - accuracy: 0.7195 - val_loss: 0.4129 - val_accuracy: 0.8573 - lr: 1.0000e-04\n",
      "Epoch 12/70\n",
      "133/133 [==============================] - 100s 753ms/step - loss: 0.8677 - accuracy: 0.7358 - val_loss: 0.4249 - val_accuracy: 0.8560 - lr: 1.0000e-04\n",
      "Epoch 13/70\n",
      "133/133 [==============================] - 100s 754ms/step - loss: 0.8725 - accuracy: 0.7324 - val_loss: 0.4171 - val_accuracy: 0.8520 - lr: 1.0000e-04\n",
      "Epoch 14/70\n",
      "133/133 [==============================] - 101s 763ms/step - loss: 0.8907 - accuracy: 0.7338 - val_loss: 0.4252 - val_accuracy: 0.8593 - lr: 1.0000e-04\n",
      "Epoch 15/70\n",
      "133/133 [==============================] - 101s 756ms/step - loss: 0.8380 - accuracy: 0.7556 - val_loss: 0.4249 - val_accuracy: 0.8600 - lr: 1.0000e-04\n",
      "Epoch 16/70\n",
      "133/133 [==============================] - 101s 757ms/step - loss: 0.8296 - accuracy: 0.7578 - val_loss: 0.4112 - val_accuracy: 0.8607 - lr: 1.0000e-04\n",
      "Epoch 17/70\n",
      "133/133 [==============================] - 101s 757ms/step - loss: 0.8347 - accuracy: 0.7533 - val_loss: 0.3739 - val_accuracy: 0.8787 - lr: 1.0000e-04\n",
      "Epoch 18/70\n",
      "133/133 [==============================] - 100s 753ms/step - loss: 0.8131 - accuracy: 0.7601 - val_loss: 0.3858 - val_accuracy: 0.8773 - lr: 1.0000e-04\n",
      "Epoch 19/70\n",
      "133/133 [==============================] - 100s 753ms/step - loss: 0.8246 - accuracy: 0.7608 - val_loss: 0.3881 - val_accuracy: 0.8680 - lr: 1.0000e-04\n",
      "Epoch 20/70\n",
      "133/133 [==============================] - 101s 756ms/step - loss: 0.8026 - accuracy: 0.7666 - val_loss: 0.3828 - val_accuracy: 0.8840 - lr: 1.0000e-04\n",
      "Epoch 21/70\n",
      "133/133 [==============================] - 101s 759ms/step - loss: 0.7940 - accuracy: 0.7754 - val_loss: 0.3949 - val_accuracy: 0.8640 - lr: 1.0000e-04\n",
      "Epoch 22/70\n",
      "133/133 [==============================] - 101s 760ms/step - loss: 0.7802 - accuracy: 0.7811 - val_loss: 0.3764 - val_accuracy: 0.8753 - lr: 1.0000e-04\n",
      "Epoch 23/70\n",
      "133/133 [==============================] - 101s 758ms/step - loss: 0.7767 - accuracy: 0.7808 - val_loss: 0.3870 - val_accuracy: 0.8733 - lr: 1.0000e-04\n",
      "Epoch 24/70\n",
      "133/133 [==============================] - 100s 751ms/step - loss: 0.7499 - accuracy: 0.7909 - val_loss: 0.4025 - val_accuracy: 0.8747 - lr: 1.0000e-04\n",
      "Epoch 25/70\n",
      "133/133 [==============================] - 101s 759ms/step - loss: 0.7432 - accuracy: 0.8019 - val_loss: 0.3922 - val_accuracy: 0.8793 - lr: 2.0000e-05\n",
      "Epoch 26/70\n",
      "133/133 [==============================] - 100s 752ms/step - loss: 0.7282 - accuracy: 0.8047 - val_loss: 0.3862 - val_accuracy: 0.8807 - lr: 2.0000e-05\n",
      "Epoch 27/70\n",
      "133/133 [==============================] - 101s 758ms/step - loss: 0.7110 - accuracy: 0.8118 - val_loss: 0.3828 - val_accuracy: 0.8813 - lr: 2.0000e-05\n",
      "Epoch 28/70\n",
      "133/133 [==============================] - 100s 753ms/step - loss: 0.6911 - accuracy: 0.8184 - val_loss: 0.3935 - val_accuracy: 0.8780 - lr: 2.0000e-05\n",
      "Epoch 29/70\n",
      "133/133 [==============================] - 101s 758ms/step - loss: 0.7149 - accuracy: 0.8140 - val_loss: 0.3790 - val_accuracy: 0.8793 - lr: 4.0000e-06\n"
     ]
    }
   ]
  },
  {
   "cell_type": "code",
   "source": [
    "# Calculate validation F1-score\n",
    "y_val_true = np.concatenate([y for x, y in validation_ds_preprocessed], axis=0)\n",
    "y_val_pred = model.predict(validation_ds_preprocessed)\n",
    "\n",
    "y_val_pred_classes = np.argmax(y_val_pred, axis=1)\n",
    "y_val_true_classes = np.argmax(y_val_true, axis=1)\n",
    "\n",
    "f1 = f1_score(y_val_true_classes, y_val_pred_classes, average='weighted')\n",
    "print(\"F1-Score: \", f1)"
   ],
   "metadata": {
    "colab": {
     "base_uri": "https://localhost:8080/"
    },
    "id": "Nhl6Hu1OPBcN",
    "outputId": "91b09b46-1b65-47ee-f0db-72afefd1ee99"
   },
   "execution_count": 19,
   "outputs": [
    {
     "output_type": "stream",
     "name": "stdout",
     "text": [
      "24/24 [==============================] - 7s 165ms/step\n",
      "F1-Score:  0.883823252891562\n"
     ]
    }
   ]
  },
  {
   "cell_type": "markdown",
   "source": [
    "**Note:** Since we duplicated the images of the fear class before we split the data it is possible, that the model is trained on images that are part of the validation dataset too.\n",
    "\n",
    "The score on the kaggle test set is **0.84**."
   ],
   "metadata": {
    "id": "kcfGoCnVdmQy"
   }
  },
  {
   "cell_type": "code",
   "source": [
    "# Confusion Matrix and Classification Report\n",
    "cm = confusion_matrix(y_val_true_classes, y_val_pred_classes)\n",
    "plt.figure(figsize=(10, 8))\n",
    "sns.heatmap(cm, annot=True, fmt='d', cmap='Blues', xticklabels=class_names, yticklabels=class_names)\n",
    "plt.xlabel('Predicted')\n",
    "plt.ylabel('True')\n",
    "plt.show()\n",
    "\n",
    "print(classification_report(y_val_true_classes, y_val_pred_classes, target_names=class_names))\n"
   ],
   "metadata": {
    "colab": {
     "base_uri": "https://localhost:8080/",
     "height": 904
    },
    "outputId": "b4cca890-be37-4094-f3dd-781d54a7546f",
    "id": "MfN5tHE7PGO4"
   },
   "execution_count": 20,
   "outputs": [
    {
     "output_type": "display_data",
     "data": {
      "text/plain": [
       "<Figure size 1000x800 with 2 Axes>"
      ],
      "image/png": "[encoded data removed]"
     },
     "metadata": {}
    },
    {
     "output_type": "stream",
     "name": "stdout",
     "text": [
      "              precision    recall  f1-score   support\n",
      "\n",
      "       angry       0.87      0.85      0.86       300\n",
      "        fear       0.87      0.93      0.90       300\n",
      "       happy       0.92      0.92      0.92       300\n",
      "         sad       0.85      0.87      0.86       300\n",
      "    surprise       0.90      0.84      0.87       300\n",
      "\n",
      "    accuracy                           0.88      1500\n",
      "   macro avg       0.88      0.88      0.88      1500\n",
      "weighted avg       0.88      0.88      0.88      1500\n"
     ]
    }
   ]
  },
  {
   "cell_type": "code",
   "source": [
    "# Plot the loss and accuracy curves for training and validation\n",
    "plt.plot(history_finetune.history['accuracy'], color='r', label=\"finetune training accuracy\")\n",
    "plt.plot(history_finetune.history['val_accuracy'], color='b', label=\"finetune validation accuracy\")\n",
    "plt.title(\"Accuracy\")\n",
    "plt.xlabel(\"Number of Epochs\")\n",
    "plt.ylabel(\"Value\")\n",
    "plt.legend()\n",
    "plt.show()"
   ],
   "metadata": {
    "colab": {
     "base_uri": "https://localhost:8080/",
     "height": 472
    },
    "id": "TTonmf8cPLrp",
    "outputId": "ea9ff8b9-04f9-49e0-8116-317f2cf32366"
   },
   "execution_count": 21,
   "outputs": [
    {
     "output_type": "display_data",
     "data": {
      "text/plain": [
       "<Figure size 640x480 with 1 Axes>"
      ],
      "image/png": "[encoded data removed]"
     },
     "metadata": {}
    }
   ]
  },
  {
   "cell_type": "markdown",
   "source": [
    "# Create Submission"
   ],
   "metadata": {
    "id": "kUNovOG9Ozd-"
   }
  },
  {
   "cell_type": "code",
   "source": [
    "file_names = []\n",
    "images = []\n",
    "test_directory = base_directory + 'test/'\n",
    "\n",
    "for filename in os.listdir(test_directory):\n",
    "    if filename.endswith(\".jpg\"):\n",
    "        img_path = os.path.join(test_directory, filename)\n",
    "        img = load_img(img_path, target_size=(100, 100), color_mode='grayscale', interpolation='bilinear')\n",
    "\n",
    "        img = tf.convert_to_tensor(img, dtype=tf.float32)\n",
    "\n",
    "        img = tf.expand_dims(img, axis=-1)\n",
    "\n",
    "        img_array = tf.image.grayscale_to_rgb(img)\n",
    "\n",
    "        images.append(img_array)\n",
    "        file_names.append(filename)\n",
    "\n",
    "images_array = np.array(images)\n",
    "\n",
    "\n",
    "y_test = model.predict(images_array)\n",
    "y_pred_indices = np.argmax(y_test, axis=1)\n",
    "y_pred_labels = [class_names[idx] for idx in y_pred_indices]\n",
    "\n",
    "df = pd.DataFrame({\n",
    "    'Id': file_names,\n",
    "    'emotions': y_pred_labels\n",
    "})\n",
    "\n",
    "df.to_csv('./submission.csv', index=False)"
   ],
   "metadata": {
    "execution": {
     "iopub.status.busy": "2024-05-27T22:44:47.948934Z",
     "iopub.execute_input": "2024-05-27T22:44:47.949415Z",
     "iopub.status.idle": "2024-05-27T22:44:55.557297Z",
     "shell.execute_reply.started": "2024-05-27T22:44:47.949373Z",
     "shell.execute_reply": "2024-05-27T22:44:55.556244Z"
    },
    "trusted": true,
    "is_executing": true,
    "colab": {
     "base_uri": "https://localhost:8080/"
    },
    "outputId": "8c218713-0b87-4bda-cf38-dccb5f1bc522",
    "id": "33Lsnq3PO5Vz"
   },
   "execution_count": 23,
   "outputs": [
    {
     "output_type": "stream",
     "name": "stdout",
     "text": [
      "75/75 [==============================] - 7s 87ms/step\n"
     ]
    }
   ]
  }
 ]
}
