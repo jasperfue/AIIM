{
 "cells": [
  {
   "cell_type": "markdown",
   "source": [
    "# (Optional) Load Data from Kaggle into Google Colab"
   ],
   "metadata": {
    "collapsed": false
   },
   "id": "80f24f952286688b"
  },
  {
   "cell_type": "code",
   "execution_count": null,
   "id": "initial_id",
   "metadata": {
    "collapsed": true
   },
   "outputs": [],
   "source": [
    "# IMPORTANT: RUN THIS CELL IN ORDER TO IMPORT YOUR KAGGLE DATA SOURCES\n",
    "# TO THE CORRECT LOCATION (/kaggle/input) IN YOUR NOTEBOOK,\n",
    "# THEN FEEL FREE TO DELETE THIS CELL.\n",
    "# NOTE: THIS NOTEBOOK ENVIRONMENT DIFFERS FROM KAGGLE'S PYTHON\n",
    "# ENVIRONMENT SO THERE MAY BE MISSING LIBRARIES USED BY YOUR\n",
    "# NOTEBOOK.\n",
    "\n",
    "import os\n",
    "import sys\n",
    "from tempfile import NamedTemporaryFile\n",
    "from urllib.request import urlopen\n",
    "from urllib.parse import unquote, urlparse\n",
    "from urllib.error import HTTPError\n",
    "from zipfile import ZipFile\n",
    "import tarfile\n",
    "import shutil\n",
    "\n",
    "CHUNK_SIZE = 40960\n",
    "DATA_SOURCE_MAPPING = 'aiim-emotion-classification:https%3A%2F%2Fstorage.googleapis.com%2Fkaggle-competitions-data%2Fkaggle-v2%2F77823%2F8553100%2Fbundle%2Farchive.zip%3FX-Goog-Algorithm%3DGOOG4-RSA-SHA256%26X-Goog-Credential%3Dgcp-kaggle-com%2540kaggle-161607.iam.gserviceaccount.com%252F20240623%252Fauto%252Fstorage%252Fgoog4_request%26X-Goog-Date%3D20240623T094401Z%26X-Goog-Expires%3D259200%26X-Goog-SignedHeaders%3Dhost%26X-Goog-Signature%3D805efb2257fe18bee5d9dd463e0a463db317c19cd0d9327850d64b4b620849cc1bfebdda40e3d3cbe566046d15f5424d8ec02f36785658c0a555ef4141ff3ec45b8e54ddf7af6db109b13fc132583255e056c00dafcb30082cc93f4f666991e66b63308438447692255ab0c12b1fb9a533fd5897498e85e162a4210da0999009e91831b641d41528b6d311bad0f5ab3cba4e848e29eb862e4cdfda98cbb0390921adf5a1079314c4187f661bd62364cc3758683df954292d965a0bd79036f2c7e29d80c49a8812f9026c4663e10c374fc27d0d7b38b231dfc8110d29e08682d31c964258b81d56add6dd51faf9d39cd1ddcffe0ef844bed684e9aa09e9f75086'\n",
    "\n",
    "KAGGLE_INPUT_PATH='/kaggle/input'\n",
    "KAGGLE_WORKING_PATH='/kaggle/working'\n",
    "KAGGLE_SYMLINK='kaggle'\n",
    "\n",
    "!umount /kaggle/input/ 2> /dev/null\n",
    "shutil.rmtree('/kaggle/input', ignore_errors=True)\n",
    "os.makedirs(KAGGLE_INPUT_PATH, 0o777, exist_ok=True)\n",
    "os.makedirs(KAGGLE_WORKING_PATH, 0o777, exist_ok=True)\n",
    "\n",
    "try:\n",
    "    os.symlink(KAGGLE_INPUT_PATH, os.path.join(\"..\", 'input'), target_is_directory=True)\n",
    "except FileExistsError:\n",
    "    pass\n",
    "try:\n",
    "    os.symlink(KAGGLE_WORKING_PATH, os.path.join(\"..\", 'working'), target_is_directory=True)\n",
    "except FileExistsError:\n",
    "    pass\n",
    "\n",
    "for data_source_mapping in DATA_SOURCE_MAPPING.split(','):\n",
    "    directory, download_url_encoded = data_source_mapping.split(':')\n",
    "    download_url = unquote(download_url_encoded)\n",
    "    filename = urlparse(download_url).path\n",
    "    destination_path = os.path.join(KAGGLE_INPUT_PATH, directory)\n",
    "    try:\n",
    "        with urlopen(download_url) as fileres, NamedTemporaryFile() as tfile:\n",
    "            total_length = fileres.headers['content-length']\n",
    "            print(f'Downloading {directory}, {total_length} bytes compressed')\n",
    "            dl = 0\n",
    "            data = fileres.read(CHUNK_SIZE)\n",
    "            while len(data) > 0:\n",
    "                dl += len(data)\n",
    "                tfile.write(data)\n",
    "                done = int(50 * dl / int(total_length))\n",
    "                sys.stdout.write(f\"\\r[{'=' * done}{' ' * (50-done)}] {dl} bytes downloaded\")\n",
    "                sys.stdout.flush()\n",
    "                data = fileres.read(CHUNK_SIZE)\n",
    "            if filename.endswith('.zip'):\n",
    "                with ZipFile(tfile) as zfile:\n",
    "                    zfile.extractall(destination_path)\n",
    "            else:\n",
    "                with tarfile.open(tfile.name) as tarfile:\n",
    "                    tarfile.extractall(destination_path)\n",
    "            print(f'\\nDownloaded and uncompressed: {directory}')\n",
    "    except HTTPError as e:\n",
    "        print(f'Failed to load (likely expired) {download_url} to path {destination_path}')\n",
    "        continue\n",
    "    except OSError as e:\n",
    "        print(f'Failed to load {download_url} to path {destination_path}')\n",
    "        continue\n",
    "\n",
    "print('Data source import complete.')\n"
   ]
  },
  {
   "cell_type": "markdown",
   "source": [
    "# Visualizing some images"
   ],
   "metadata": {
    "collapsed": false
   },
   "id": "d7fb2d7e0a64ad9b"
  },
  {
   "cell_type": "code",
   "outputs": [],
   "source": [
    "import tensorflow as tf\n",
    "import numpy as np\n",
    "import pandas as pd\n",
    "import matplotlib.pyplot as plt\n",
    "from keras.utils import image_dataset_from_directory\n",
    "\n",
    "\n",
    "base_directory = '/kaggle/input/aiim-emotion-classification/aiim-emotion-classification/'\n",
    "\n",
    "\n",
    "# Laden der Datensätze ohne direkten Split\n",
    "dataset = image_dataset_from_directory(\n",
    "    directory=base_directory + 'train/',\n",
    "    labels='inferred',\n",
    "    label_mode='categorical',\n",
    "    color_mode='grayscale',\n",
    "    batch_size=None,  # Keine Batch-Größe, um alle Daten zu laden\n",
    "    shuffle=True,\n",
    "    seed=420\n",
    ")\n",
    "\n",
    "def count_images_per_class(dataset, class_names):\n",
    "    class_counts = {class_name: 0 for class_name in class_names}\n",
    "    for image, label in dataset:\n",
    "        class_idx = tf.argmax(label).numpy()\n",
    "        class_name = class_names[class_idx]\n",
    "        class_counts[class_name] += 1\n",
    "    return class_counts\n",
    "\n",
    "# Namen der Klassen\n",
    "class_names = dataset.class_names\n",
    "print(\"Klassen:\", class_names)\n",
    "\n",
    "class_counts = count_images_per_class(dataset, class_names)\n",
    "print(\"Anzahl der Bilder im Datensatz pro Klasse:\", class_counts)\n",
    "\n",
    "def plot_images(images, titles, rows=1, cols=5, figsize=(15, 5)):\n",
    "    plt.figure(figsize=figsize)\n",
    "    for i in range(len(images)):\n",
    "        plt.subplot(rows, cols, i + 1)\n",
    "        plt.imshow(images[i].numpy().squeeze(), cmap='gray')\n",
    "        plt.title(titles[i])\n",
    "        plt.axis('off')\n",
    "    plt.show()\n",
    "    \n",
    "image_batch, label_batch = next(iter(dataset.batch(5)))\n",
    "\n",
    "plot_images(image_batch, titles=[class_names[label.numpy().argmax()] for label in label_batch])"
   ],
   "metadata": {
    "collapsed": false
   },
   "id": "321553b457188d50"
  }
 ],
 "metadata": {
  "kernelspec": {
   "display_name": "Python 3",
   "language": "python",
   "name": "python3"
  },
  "language_info": {
   "codemirror_mode": {
    "name": "ipython",
    "version": 2
   },
   "file_extension": ".py",
   "mimetype": "text/x-python",
   "name": "python",
   "nbconvert_exporter": "python",
   "pygments_lexer": "ipython2",
   "version": "2.7.6"
  }
 },
 "nbformat": 4,
 "nbformat_minor": 5
}
